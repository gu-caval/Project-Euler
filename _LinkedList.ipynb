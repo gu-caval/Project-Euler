{
 "cells": [
  {
   "cell_type": "code",
   "execution_count": 1,
   "id": "53b42f70-62b0-4559-b0bb-4051f7810e37",
   "metadata": {},
   "outputs": [],
   "source": [
    "class Node:\n",
    "    def __init__ (self, value, nextNode = None, previousNode = None):\n",
    "        self.value = value\n",
    "        self.nextNode = nextNode\n",
    "        self.previousNode = previousNode\n",
    "\n",
    "    def set_next_node (self, nextNode):\n",
    "        self.nextNode = nextNode\n",
    "\n",
    "    def get_next_node (self):\n",
    "        return self.nextNode\n",
    "\n",
    "    def set_previous_node (self, previousNode):\n",
    "        self.previousNode = previousNode\n",
    "\n",
    "    def get_previous_node (self):\n",
    "        return self.previousNode\n",
    "\n",
    "    def get_value(self):\n",
    "        return self.value\n",
    "\n",
    "    def set_value(self, new_value):\n",
    "        self.value = new_value\n",
    "   "
   ]
  },
  {
   "cell_type": "code",
   "execution_count": 2,
   "id": "f68a8058-0486-44b6-b414-7777116757ca",
   "metadata": {},
   "outputs": [],
   "source": [
    "class LinkedList:\n",
    "    def __init__ (self, value=None):\n",
    "        self.head_node = Node (value)\n",
    "\n",
    "    def get_head_node (self):\n",
    "        return self.head_node\n",
    "\n",
    "    def set_head_node (self, new_head):\n",
    "        self.head_node = new_head\n",
    "        \n",
    "    def insert_first (self, new_value):\n",
    "        new_node = Node(new_value)\n",
    "        new_node.set_next_node(self.head_node)\n",
    "        self.head_node = new_node\n",
    "\n",
    "    def add_new (self, new_value):\n",
    "        current = self.get_head_node()\n",
    "        new_node = Node(new_value)\n",
    "\n",
    "        while current.get_next_node():\n",
    "            current = current.get_next_node()\n",
    "\n",
    "        current.set_next_node(new_node)\n",
    "\n",
    "    def print_list (self):\n",
    "        lista = \"\"\n",
    "        current = self.get_head_node()\n",
    "        while current:\n",
    "            lista += str(current.value) + \" \"\n",
    "            current = current.get_next_node()\n",
    "        print(\"Os elementos da lista são:\\n\")\n",
    "        print(lista)\n",
    "\n",
    "    def remove_node (self, value):\n",
    "        current = self.get_head_node()\n",
    "        previous = None\n",
    "\n",
    "        # if current.get_value() == value:\n",
    "        #     self.set_head_node(current.get_next_node())\n",
    "        # else:\n",
    "        #     current = current.get_next_node()\n",
    "        #     while current.get_value()\n",
    "\n",
    "        while (current) and (current.get_value() != value):\n",
    "            previous = current\n",
    "            current = current.get_next_node()\n",
    "\n",
    "        if not (previous):\n",
    "            self.set_head_node(current.get_next_node())\n",
    "        elif not (current):\n",
    "            print (\"Valor não encontrado!\")\n",
    "        else:\n",
    "            previous.set_next_node(current.get_next_node())\n",
    "\n",
    "\n",
    "        \n",
    "        "
   ]
  },
  {
   "cell_type": "code",
   "execution_count": 3,
   "id": "c87d5f2e",
   "metadata": {},
   "outputs": [],
   "source": [
    "class DoublyLinkedList (LinkedList):\n",
    "    def add_new(self, new_value):\n",
    "        current = super().get_head_node()\n",
    "        \n",
    "\n",
    "        while current.get_next_node():\n",
    "            current = current.get_next_node()\n",
    "\n",
    "        new_node = Node(new_value, None, current)\n",
    "        current.set_next_node(new_node)\n",
    "\n",
    "    def insert_first(self, new_value):\n",
    "        old_head = super().get_head_node()\n",
    "        new_node = Node(new_value, old_head)\n",
    "        old_head.set_previous_node(new_node)\n",
    "        super().set_head_node(new_node)\n",
    "\n",
    "    def print_list(self):\n",
    "        listafinal = []\n",
    "        current = super().get_head_node()\n",
    "\n",
    "        while current:\n",
    "            lista_inter = []\n",
    "            lista_inter.append(current.get_previous_node())\n",
    "            lista_inter.append(current.get_value())\n",
    "            lista_inter.append(current.get_next_node())\n",
    "            listafinal.append(lista_inter)\n",
    "            current = current.get_next_node()\n",
    "\n",
    "        for item in listafinal:\n",
    "            print(item)"
   ]
  },
  {
   "cell_type": "code",
   "execution_count": 4,
   "id": "9fdc6345",
   "metadata": {},
   "outputs": [],
   "source": [
    "class CircularDoublyLinkedList(DoublyLinkedList):\n",
    "    def add_new(self, new_value):\n",
    "        head = super().get_head_node()\n",
    "        \n",
    "        if not head.get_next_node():\n",
    "            new_node = Node(new_value, head, head)\n",
    "            head.set_next_node(new_node)\n",
    "            head.set_previous_node(new_node)\n",
    "        else:\n",
    "            last_node = head.get_previous_node()\n",
    "            new_node = Node(new_value, head, last_node)\n",
    "            last_node.set_next_node(new_node)\n",
    "            head.set_previous_node(new_node)\n",
    "\n",
    "    def print_list(self):\n",
    "        current = self.get_head_node()\n",
    "        head = current\n",
    "        listafinal = []\n",
    "\n",
    "        while current:\n",
    "            lista_inter = []\n",
    "            lista_inter.append(current.get_previous_node())\n",
    "            lista_inter.append(current.get_value())\n",
    "            lista_inter.append(current.get_next_node())\n",
    "            listafinal.append(lista_inter)\n",
    "            current = current.get_next_node()\n",
    "            if current == head:\n",
    "                break\n",
    "\n",
    "        for item in listafinal:\n",
    "            print(item)\n"
   ]
  },
  {
   "cell_type": "code",
   "execution_count": null,
   "id": "d6310a54-41ab-4d1d-aaff-0c6375a5aa7c",
   "metadata": {},
   "outputs": [],
   "source": [
    "l = LinkedList(1)\n",
    "l.add_new(3)\n",
    "l.add_new(5)\n",
    "# l.add_new(7)\n",
    "# l.add_new(9)"
   ]
  },
  {
   "cell_type": "code",
   "execution_count": null,
   "id": "8bf8b20c-ea1a-417d-a23e-e9087d777a07",
   "metadata": {},
   "outputs": [],
   "source": [
    "l.print_list()"
   ]
  },
  {
   "cell_type": "code",
   "execution_count": null,
   "id": "85380ac9-b0cd-42f9-b7bf-a75650c1b147",
   "metadata": {},
   "outputs": [],
   "source": [
    "l.remove_node(0)\n",
    "l.print_list()"
   ]
  },
  {
   "cell_type": "code",
   "execution_count": null,
   "id": "5c0a1ebf",
   "metadata": {},
   "outputs": [],
   "source": [
    "l.insert_first(0)\n",
    "l.print_list()"
   ]
  },
  {
   "cell_type": "code",
   "execution_count": null,
   "id": "5039f723",
   "metadata": {},
   "outputs": [],
   "source": [
    "cl = DoublyLinkedList(1)\n",
    "cl.add_new(3)\n",
    "cl.add_new(5)\n",
    "cl.print_list()"
   ]
  },
  {
   "cell_type": "code",
   "execution_count": null,
   "id": "ed92394b",
   "metadata": {},
   "outputs": [],
   "source": [
    "cl.add_new(7)\n",
    "cl.add_new(9)\n",
    "cl.print_list()"
   ]
  },
  {
   "cell_type": "code",
   "execution_count": null,
   "id": "a8b5e6f9",
   "metadata": {},
   "outputs": [],
   "source": [
    "cdll = CircularDoublyLinkedList(1)\n",
    "cdll.add_new(3)\n",
    "cdll.add_new(5)\n",
    "cdll.print_list()"
   ]
  },
  {
   "cell_type": "code",
   "execution_count": null,
   "id": "710ff5c0",
   "metadata": {},
   "outputs": [],
   "source": []
  }
 ],
 "metadata": {
  "kernelspec": {
   "display_name": "Python 3 (ipykernel)",
   "language": "python",
   "name": "python3"
  },
  "language_info": {
   "codemirror_mode": {
    "name": "ipython",
    "version": 3
   },
   "file_extension": ".py",
   "mimetype": "text/x-python",
   "name": "python",
   "nbconvert_exporter": "python",
   "pygments_lexer": "ipython3",
   "version": "3.10.14"
  }
 },
 "nbformat": 4,
 "nbformat_minor": 5
}
