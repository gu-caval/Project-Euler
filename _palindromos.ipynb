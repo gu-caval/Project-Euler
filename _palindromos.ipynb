{
 "cells": [
  {
   "cell_type": "code",
   "execution_count": null,
   "id": "8d8c84cf",
   "metadata": {},
   "outputs": [],
   "source": [
    "def palindromo(n: int) -> bool:\n",
    "    \"\"\"Identifica se um numero informado é palíndromo.\n",
    "    \"\"\"\n",
    "    \n",
    "    numTxt = list(str(n))\n",
    "\n",
    "    met = len(numTxt) // 2\n",
    "\n",
    "    for pos in range(met):\n",
    "        if numTxt[pos] != numTxt[-pos-1]:\n",
    "            return False\n",
    "        \n",
    "    return True"
   ]
  }
 ],
 "metadata": {
  "kernelspec": {
   "display_name": "Python 3",
   "language": "python",
   "name": "python3"
  },
  "language_info": {
   "name": "python",
   "version": "3.11.1"
  }
 },
 "nbformat": 4,
 "nbformat_minor": 5
}
