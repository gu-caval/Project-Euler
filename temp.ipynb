{
 "cells": [
  {
   "cell_type": "code",
   "execution_count": 1,
   "metadata": {},
   "outputs": [],
   "source": [
    "import math"
   ]
  },
  {
   "cell_type": "code",
   "execution_count": 2,
   "metadata": {},
   "outputs": [],
   "source": [
    "def triangle_generator():\n",
    "\n",
    "    num = 0\n",
    "    i = 1\n",
    "       \n",
    "    while True:\n",
    "        num += i\n",
    "        i += 1\n",
    "        yield num"
   ]
  },
  {
   "cell_type": "code",
   "execution_count": 3,
   "metadata": {},
   "outputs": [],
   "source": [
    "def primes_set(max):\n",
    "    \n",
    "    primos = set([2])\n",
    "\n",
    "    for valor in range(3, max+1, 2):\n",
    "        validador = True\n",
    "        for p in primos:\n",
    "            if valor%p == 0:\n",
    "                validador = False\n",
    "                break\n",
    "\n",
    "        if validador:\n",
    "            primos.add(valor)\n",
    "    \n",
    "    return primos"
   ]
  },
  {
   "cell_type": "code",
   "execution_count": null,
   "metadata": {},
   "outputs": [],
   "source": [
    "triang = triangle_generator()\n",
    "saida = \"\"\n",
    "for _ in range(30):\n",
    "    num = next(triang)\n",
    "    \n",
    "for _ in range(30):\n",
    "    num = next(triang)\n",
    "    primes = primes_set(int(math.sqrt(num)))\n",
    "    for div in primes:\n",
    "        if div >= num or div == 0:\n",
    "            break\n",
    "        elif (result := num % div) == 0:\n",
    "            max_test = num // div\n",
    "            break\n",
    "\n",
    "    # print(f'{num=} | {max_test=}')\n",
    "    max_test = num // min(primes)\n",
    "    divisors = []\n",
    "    for div in range(1,max_test):\n",
    "        if num % div == 0:\n",
    "            divisors.append(div)\n",
    "\n",
    "    divisors.append(num)\n",
    "\n",
    "    saida += f'{num=:=3} | div.count={len(divisors):=3} | prime.count={len(primes):=3} | {divisors=}\\n'\n",
    "\n",
    "print(saida)\n",
    "    "
   ]
  },
  {
   "cell_type": "code",
   "execution_count": null,
   "metadata": {},
   "outputs": [],
   "source": [
    "triang = triangle_generator()\n",
    "count_iter = 0\n",
    "\n",
    "while True:\n",
    "    max_test = 0\n",
    "    num = next(triang)\n",
    "    count_iter += 1\n",
    "\n",
    "    primes = primes_set(int(math.sqrt(num)))\n",
    "\n",
    "    possible_divisors = []\n",
    "    # max_test \n",
    "    # while True:\n",
    "    for i in primes:\n",
    "        possible_divisors.append(i)\n",
    "        possible_temp = possible_divisors\n",
    "        for p in possible_temp:\n",
    "            if (new := p * i) not in possible_divisors:\n",
    "                possible_divisors.append(new)\n",
    "                \n",
    "    if len(possible_divisors) < 500:\n",
    "        continue\n",
    "\n",
    "    if num > 1e7:\n",
    "        print(f'Interrompido em {num:,}')\n",
    "        break\n",
    "    \n",
    "    for div in primes(int(math.sqrt(num))):\n",
    "        if div >= num or div == 0:\n",
    "            break\n",
    "        elif (result := num % div) == 0:\n",
    "            max_test = num // div\n",
    "            break\n",
    "\n",
    "    # print(f'{num=} | {max_test=}')\n",
    "    if max_test > 500:\n",
    "        count_divisors = 0\n",
    "        divisors = set()\n",
    "        for div in range(1,max_test):\n",
    "            if num % div == 0:\n",
    "                count_divisors += 1\n",
    "                divisors.add(div)\n",
    "\n",
    "        if count_iter % 40 == 0:\n",
    "            print(f'Iteration {count_iter}, {num=:,}, divisors count: {count_divisors}') \n",
    "\n",
    "        if count_divisors >= 499:\n",
    "            break\n",
    "\n",
    "num"
   ]
  },
  {
   "cell_type": "code",
   "execution_count": 4,
   "metadata": {},
   "outputs": [
    {
     "data": {
      "text/plain": [
       "'9110846700'"
      ]
     },
     "execution_count": 4,
     "metadata": {},
     "output_type": "execute_result"
    }
   ],
   "source": [
    "soma = 0\n",
    "for i in range(1,1000):\n",
    "    soma += i**i\n",
    "\n",
    "soma = str(soma)\n",
    "soma[-10:]"
   ]
  },
  {
   "cell_type": "code",
   "execution_count": 42,
   "metadata": {},
   "outputs": [],
   "source": [
    "import itertools\n",
    "import functools\n",
    "import collections\n",
    "def triangle_number_generator():\n",
    "    accumulator = 0\n",
    "    for i in itertools.count(1):\n",
    "        accumulator += i\n",
    "        yield accumulator\n",
    "\n",
    "def prime_generator() -> int:\n",
    "    primes = []\n",
    "    for candidate in itertools.count(2):\n",
    "        for prime in primes:\n",
    "            if candidate % prime == 0:\n",
    "                break\n",
    "        else:\n",
    "            yield candidate\n",
    "            primes.append(candidate)\n",
    "            \n",
    "def get_prime_factors(number: int) -> dict[int, int]:\n",
    "    factors = collections.defaultdict(lambda: 0)\n",
    "    for prime in prime_generator():\n",
    "        while number % prime == 0:\n",
    "            factors[prime] += 1\n",
    "            number /= prime\n",
    "        if number == 1:\n",
    "            break\n",
    "    return factors\n",
    "\n",
    "def solution() -> int:\n",
    "    for triangle_number in triangle_number_generator():\n",
    "        prime_factors = get_prime_factors(triangle_number)\n",
    "        num_divisors = functools.reduce(\n",
    "            lambda a, b: a * b, map(lambda x: x + 1, prime_factors.values()), 1\n",
    "        )\n",
    "        if num_divisors > 500:\n",
    "            print(triangle_number, dict(prime_factors.items()), num_divisors)\n",
    "            return triangle_number"
   ]
  },
  {
   "cell_type": "code",
   "execution_count": 3,
   "metadata": {},
   "outputs": [],
   "source": [
    "def prime_generator(_primes = []) -> int:\n",
    "    yield from _primes\n",
    "    start = 2 if not _primes else _primes[-1] + 1\n",
    "    for candidate in itertools.count(start):\n",
    "        for prime in _primes:\n",
    "            if candidate % prime == 0:\n",
    "                break\n",
    "        else:\n",
    "            yield candidate\n",
    "            _primes.append(candidate)"
   ]
  },
  {
   "cell_type": "code",
   "execution_count": 41,
   "metadata": {},
   "outputs": [
    {
     "name": "stdout",
     "output_type": "stream",
     "text": [
      "dict_items([(2, 2), (5, 2)])\n",
      "9\n"
     ]
    }
   ],
   "source": [
    "prime_factors = get_prime_factors(100)\n",
    "print(prime_factors.items())\n",
    "num_divisors = functools.reduce(\n",
    "            lambda a, b: a * b, map(lambda x: x + 1, prime_factors.values()), 1\n",
    "        )\n",
    "print(num_divisors)"
   ]
  },
  {
   "cell_type": "code",
   "execution_count": 43,
   "metadata": {},
   "outputs": [
    {
     "ename": "KeyboardInterrupt",
     "evalue": "",
     "output_type": "error",
     "traceback": [
      "\u001b[1;31m---------------------------------------------------------------------------\u001b[0m",
      "\u001b[1;31mKeyboardInterrupt\u001b[0m                         Traceback (most recent call last)",
      "Cell \u001b[1;32mIn[43], line 1\u001b[0m\n\u001b[1;32m----> 1\u001b[0m \u001b[43msolution\u001b[49m\u001b[43m(\u001b[49m\u001b[43m)\u001b[49m\n",
      "Cell \u001b[1;32mIn[42], line 32\u001b[0m, in \u001b[0;36msolution\u001b[1;34m()\u001b[0m\n\u001b[0;32m     30\u001b[0m \u001b[38;5;28;01mdef\u001b[39;00m \u001b[38;5;21msolution\u001b[39m() \u001b[38;5;241m-\u001b[39m\u001b[38;5;241m>\u001b[39m \u001b[38;5;28mint\u001b[39m:\n\u001b[0;32m     31\u001b[0m     \u001b[38;5;28;01mfor\u001b[39;00m triangle_number \u001b[38;5;129;01min\u001b[39;00m triangle_number_generator():\n\u001b[1;32m---> 32\u001b[0m         prime_factors \u001b[38;5;241m=\u001b[39m \u001b[43mget_prime_factors\u001b[49m\u001b[43m(\u001b[49m\u001b[43mtriangle_number\u001b[49m\u001b[43m)\u001b[49m\n\u001b[0;32m     33\u001b[0m         num_divisors \u001b[38;5;241m=\u001b[39m functools\u001b[38;5;241m.\u001b[39mreduce(\n\u001b[0;32m     34\u001b[0m             \u001b[38;5;28;01mlambda\u001b[39;00m a, b: a \u001b[38;5;241m*\u001b[39m b, \u001b[38;5;28mmap\u001b[39m(\u001b[38;5;28;01mlambda\u001b[39;00m x: x \u001b[38;5;241m+\u001b[39m \u001b[38;5;241m1\u001b[39m, prime_factors\u001b[38;5;241m.\u001b[39mvalues()), \u001b[38;5;241m1\u001b[39m\n\u001b[0;32m     35\u001b[0m         )\n\u001b[0;32m     36\u001b[0m         \u001b[38;5;28;01mif\u001b[39;00m num_divisors \u001b[38;5;241m>\u001b[39m \u001b[38;5;241m500\u001b[39m:\n",
      "Cell \u001b[1;32mIn[42], line 26\u001b[0m, in \u001b[0;36mget_prime_factors\u001b[1;34m(number)\u001b[0m\n\u001b[0;32m     24\u001b[0m         factors[prime] \u001b[38;5;241m+\u001b[39m\u001b[38;5;241m=\u001b[39m \u001b[38;5;241m1\u001b[39m\n\u001b[0;32m     25\u001b[0m         number \u001b[38;5;241m/\u001b[39m\u001b[38;5;241m=\u001b[39m prime\n\u001b[1;32m---> 26\u001b[0m     \u001b[38;5;28;01mif\u001b[39;00m \u001b[43mnumber\u001b[49m \u001b[38;5;241m==\u001b[39m \u001b[38;5;241m1\u001b[39m:\n\u001b[0;32m     27\u001b[0m         \u001b[38;5;28;01mbreak\u001b[39;00m\n\u001b[0;32m     28\u001b[0m \u001b[38;5;28;01mreturn\u001b[39;00m factors\n",
      "Cell \u001b[1;32mIn[42], line 26\u001b[0m, in \u001b[0;36mget_prime_factors\u001b[1;34m(number)\u001b[0m\n\u001b[0;32m     24\u001b[0m         factors[prime] \u001b[38;5;241m+\u001b[39m\u001b[38;5;241m=\u001b[39m \u001b[38;5;241m1\u001b[39m\n\u001b[0;32m     25\u001b[0m         number \u001b[38;5;241m/\u001b[39m\u001b[38;5;241m=\u001b[39m prime\n\u001b[1;32m---> 26\u001b[0m     \u001b[38;5;28;01mif\u001b[39;00m \u001b[43mnumber\u001b[49m \u001b[38;5;241m==\u001b[39m \u001b[38;5;241m1\u001b[39m:\n\u001b[0;32m     27\u001b[0m         \u001b[38;5;28;01mbreak\u001b[39;00m\n\u001b[0;32m     28\u001b[0m \u001b[38;5;28;01mreturn\u001b[39;00m factors\n",
      "File \u001b[1;32m_pydevd_bundle/pydevd_cython.pyx:1457\u001b[0m, in \u001b[0;36m_pydevd_bundle.pydevd_cython.SafeCallWrapper.__call__\u001b[1;34m()\u001b[0m\n",
      "File \u001b[1;32m_pydevd_bundle/pydevd_cython.pyx:701\u001b[0m, in \u001b[0;36m_pydevd_bundle.pydevd_cython.PyDBFrame.trace_dispatch\u001b[1;34m()\u001b[0m\n",
      "File \u001b[1;32m_pydevd_bundle/pydevd_cython.pyx:1395\u001b[0m, in \u001b[0;36m_pydevd_bundle.pydevd_cython.PyDBFrame.trace_dispatch\u001b[1;34m()\u001b[0m\n",
      "File \u001b[1;32m_pydevd_bundle/pydevd_cython.pyx:1344\u001b[0m, in \u001b[0;36m_pydevd_bundle.pydevd_cython.PyDBFrame.trace_dispatch\u001b[1;34m()\u001b[0m\n",
      "File \u001b[1;32m_pydevd_bundle/pydevd_cython.pyx:312\u001b[0m, in \u001b[0;36m_pydevd_bundle.pydevd_cython.PyDBFrame.do_wait_suspend\u001b[1;34m()\u001b[0m\n",
      "File \u001b[1;32m~\\AppData\\Roaming\\Python\\Python311\\site-packages\\debugpy\\_vendored\\pydevd\\pydevd.py:2070\u001b[0m, in \u001b[0;36mPyDB.do_wait_suspend\u001b[1;34m(self, thread, frame, event, arg, exception_type)\u001b[0m\n\u001b[0;32m   2067\u001b[0m             from_this_thread\u001b[38;5;241m.\u001b[39mappend(frame_custom_thread_id)\n\u001b[0;32m   2069\u001b[0m     \u001b[38;5;28;01mwith\u001b[39;00m \u001b[38;5;28mself\u001b[39m\u001b[38;5;241m.\u001b[39m_threads_suspended_single_notification\u001b[38;5;241m.\u001b[39mnotify_thread_suspended(thread_id, thread, stop_reason):\n\u001b[1;32m-> 2070\u001b[0m         keep_suspended \u001b[38;5;241m=\u001b[39m \u001b[38;5;28;43mself\u001b[39;49m\u001b[38;5;241;43m.\u001b[39;49m\u001b[43m_do_wait_suspend\u001b[49m\u001b[43m(\u001b[49m\u001b[43mthread\u001b[49m\u001b[43m,\u001b[49m\u001b[43m \u001b[49m\u001b[43mframe\u001b[49m\u001b[43m,\u001b[49m\u001b[43m \u001b[49m\u001b[43mevent\u001b[49m\u001b[43m,\u001b[49m\u001b[43m \u001b[49m\u001b[43marg\u001b[49m\u001b[43m,\u001b[49m\u001b[43m \u001b[49m\u001b[43msuspend_type\u001b[49m\u001b[43m,\u001b[49m\u001b[43m \u001b[49m\u001b[43mfrom_this_thread\u001b[49m\u001b[43m,\u001b[49m\u001b[43m \u001b[49m\u001b[43mframes_tracker\u001b[49m\u001b[43m)\u001b[49m\n\u001b[0;32m   2072\u001b[0m frames_list \u001b[38;5;241m=\u001b[39m \u001b[38;5;28;01mNone\u001b[39;00m\n\u001b[0;32m   2074\u001b[0m \u001b[38;5;28;01mif\u001b[39;00m keep_suspended:\n\u001b[0;32m   2075\u001b[0m     \u001b[38;5;66;03m# This means that we should pause again after a set next statement.\u001b[39;00m\n",
      "File \u001b[1;32m~\\AppData\\Roaming\\Python\\Python311\\site-packages\\debugpy\\_vendored\\pydevd\\pydevd.py:2106\u001b[0m, in \u001b[0;36mPyDB._do_wait_suspend\u001b[1;34m(self, thread, frame, event, arg, suspend_type, from_this_thread, frames_tracker)\u001b[0m\n\u001b[0;32m   2103\u001b[0m         \u001b[38;5;28mself\u001b[39m\u001b[38;5;241m.\u001b[39m_call_input_hook()\n\u001b[0;32m   2105\u001b[0m     \u001b[38;5;28mself\u001b[39m\u001b[38;5;241m.\u001b[39mprocess_internal_commands()\n\u001b[1;32m-> 2106\u001b[0m     time\u001b[38;5;241m.\u001b[39msleep(\u001b[38;5;241m0.01\u001b[39m)\n\u001b[0;32m   2108\u001b[0m \u001b[38;5;28mself\u001b[39m\u001b[38;5;241m.\u001b[39mcancel_async_evaluation(get_current_thread_id(thread), \u001b[38;5;28mstr\u001b[39m(\u001b[38;5;28mid\u001b[39m(frame)))\n\u001b[0;32m   2110\u001b[0m \u001b[38;5;66;03m# process any stepping instructions\u001b[39;00m\n",
      "\u001b[1;31mKeyboardInterrupt\u001b[0m: "
     ]
    }
   ],
   "source": [
    "solution()"
   ]
  },
  {
   "cell_type": "code",
   "execution_count": 17,
   "metadata": {},
   "outputs": [
    {
     "name": "stdout",
     "output_type": "stream",
     "text": [
      "76576500 {2: 2, 3: 2, 5: 3, 7: 1, 11: 1, 13: 1, 17: 1} 576\n"
     ]
    }
   ],
   "source": [
    "for triangle_number in triangle_number_generator():\n",
    "    prime_factors = get_prime_factors(triangle_number)\n",
    "    num_divisors = functools.reduce(\n",
    "        lambda a, b: a * b, map(lambda x: x + 1, prime_factors.values()), 1\n",
    "    )\n",
    "    if num_divisors > 500:\n",
    "        print(triangle_number, dict(prime_factors.items()), num_divisors)\n",
    "        break\n",
    "    "
   ]
  },
  {
   "cell_type": "code",
   "execution_count": 18,
   "metadata": {},
   "outputs": [
    {
     "data": {
      "text/plain": [
       "dict_values([2, 2, 3, 1, 1, 1, 1])"
      ]
     },
     "execution_count": 18,
     "metadata": {},
     "output_type": "execute_result"
    }
   ],
   "source": [
    "prime_factors.values()"
   ]
  },
  {
   "cell_type": "code",
   "execution_count": 30,
   "metadata": {},
   "outputs": [],
   "source": [
    "m = map(lambda x: x+1, prime_factors.values())\n",
    "r = 1"
   ]
  },
  {
   "cell_type": "code",
   "execution_count": 2,
   "metadata": {},
   "outputs": [],
   "source": [
    "def primes_list_generator (max: int) -> list:\n",
    "    '''returns a list of prime numbers up to max.\n",
    "    '''\n",
    "    if not isinstance(max, int):\n",
    "        raise TypeError('argument is not an integer')\n",
    "\n",
    "    # Initializes sieve\n",
    "    sieve = [0] * (max + 1)\n",
    "    # Marks all even numbers > 2 as not primes\n",
    "    for n in range(4, max+1, 2):\n",
    "        sieve[n] = 1\n",
    "    # Tests the numbers not marked as not primes, what is left is the primes at the spots with 0\n",
    "    for n in range(3, max, 2):\n",
    "        if n == 3: \n",
    "            pass\n",
    "        if not sieve[n]:\n",
    "            for m in range(n**2, max+1, 2*n):\n",
    "                sieve[m] = 1\n",
    "\n",
    "  \n",
    "    return [i for i, j in enumerate(sieve) if j == 0 and i > 1]"
   ]
  },
  {
   "cell_type": "code",
   "execution_count": 3,
   "metadata": {},
   "outputs": [],
   "source": [
    "# from itertools import count\n",
    "with open('z_prime_problems.txt', 'w') as my_file:\n",
    "    \n",
    "    text = ''\n",
    "    primes = primes_list_generator(947)\n",
    "    for n in primes:\n",
    "        add = str(n)+' '\n",
    "        if n <= 50:\n",
    "            add += 'ok'\n",
    "        text = ''.join([text, add, ' \\n'])\n",
    "        \n",
    "    my_file.write(text)"
   ]
  }
 ],
 "metadata": {
  "kernelspec": {
   "display_name": "Python 3",
   "language": "python",
   "name": "python3"
  },
  "language_info": {
   "codemirror_mode": {
    "name": "ipython",
    "version": 3
   },
   "file_extension": ".py",
   "mimetype": "text/x-python",
   "name": "python",
   "nbconvert_exporter": "python",
   "pygments_lexer": "ipython3",
   "version": "3.11.1"
  }
 },
 "nbformat": 4,
 "nbformat_minor": 2
}
