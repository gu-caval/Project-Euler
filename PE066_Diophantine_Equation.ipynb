{
 "cells": [
  {
   "cell_type": "markdown",
   "id": "7688ea7e",
   "metadata": {},
   "source": [
    "Consider quadratic Diophantine equations of the form:\n",
    "$x^2 - Dy^2 = 1$\n",
    "For example, when $D=13$, the minimal solution in $x$ is $649^2 - 13 \\times 180^2 = 1$.\n",
    "It can be assumed that there are no solutions in positive integers when $D$ is square.\n",
    "By finding minimal solutions in $x$ for $D = \\{2, 3, 5, 6, 7\\}$, we obtain the following:\n",
    "\\begin{align}\n",
    "3^2 - 2 \\times 2^2 = 1\\\\\n",
    "2^2 - 3 \\times 1^2 = 1\\\\\n",
    "{\\color{red}{\\mathbf 9}}^2 - 5 \\times 4^2 = 1\\\\\n",
    "5^2 - 6 \\times 2^2 = 1\\\\\n",
    "8^2 - 7 \\times 3^2 = 1\n",
    "\\end{align}\n",
    "Hence, by considering minimal solutions in $x$ for $D \\le 7$, the largest $x$ is obtained when $D=5$.\n",
    "Find the value of $D \\le 1000$ in minimal solutions of $x$ for which the largest value of $x$ is obtained."
   ]
  },
  {
   "cell_type": "code",
   "execution_count": null,
   "id": "824d3fc4",
   "metadata": {},
   "outputs": [],
   "source": [
    "def continued_fraction(n: int) -> list:\n",
    "    if n**0.5 % 1 == 0:\n",
    "        raise ValueError('Números que são quadrados perfeitos não são aceitos.')\n",
    "    \n",
    "    a0 = int(n**0.5) # base do algoritmo\n",
    "    bigPnminus = 0\n",
    "    bigPn = a0\n",
    "    bigQnminus = 1\n",
    "    bigQn = n - a0 ** 2\n",
    "    # pn = None\n",
    "    fraction = [a0]\n",
    "    first_pass = True\n",
    "    evenpass = True\n",
    "    firstcount = True\n",
    "    while True:\n",
    "        an_minus, an = an, int((a0+bigPn)/bigQn)\n",
    "        # if not pn:\n",
    "        #     pn = a0 * an + 1\n",
    "        #     pn_minus2 = a0\n",
    "        #     qn = an\n",
    "        #     qn_minus2 = 1\n",
    "        # else:\n",
    "        #     pn_minus2, pn_minus1, pn = pn_minus1, pn, an * pn_minus1 + pn_minus2\n",
    "        #     qn_minus2, qn_minus1, qn = qn_minus1, qn, an * qn_minus1 + qn_minus2\n",
    "        \n",
    "        if first_pass:\n",
    "            fraction.append(an)\n",
    "            first_pass = False\n",
    "        elif an not in fraction[1:]:\n",
    "            if len(fraction)%2 == 0 and evenpass:\n",
    "                return fraction\n",
    "            evenpass = False\n",
    "            fraction.append(an)\n",
    "            if firstcount:\n",
    "                firstcount = False\n",
    "                count = len(fraction) - 1\n",
    "            else:\n",
    "                count -= 1\n",
    "\n",
    "            if not count:\n",
    "                return fraction\n",
    "        else:\n",
    "            fraction.append(an)\n",
    "            \n",
    "        # Prepara as variáveis para o novo calculo de an\n",
    "        bigPnminus, bigPn = bigPn, fraction[-2] * bigQnminus - bigPnminus # salva o valor de bigPn em bigPminus ao mesmo tempo em que calcula o novo\n",
    "                                                                # valor do primeiro para evitar a necessidade de se criar uma variável temporária\n",
    "        bigQnminus, bigQn = bigQn, int((n - bigPn ** 2) / bigQnminus)\n",
    "        x=1"
   ]
  },
  {
   "cell_type": "code",
   "execution_count": 12,
   "id": "53fe997e",
   "metadata": {},
   "outputs": [
    {
     "data": {
      "text/plain": [
       "False"
      ]
     },
     "execution_count": 12,
     "metadata": {},
     "output_type": "execute_result"
    }
   ],
   "source": [
    "# continued_fraction(41)\n",
    "[2, 2] in [6, 2, 2]"
   ]
  },
  {
   "cell_type": "code",
   "execution_count": null,
   "id": "268aa2af",
   "metadata": {},
   "outputs": [],
   "source": [
    "# Calcula numerador e denominador a partir de uma sequencia de fração contínua limitada ao seu primeiro período de repetição.\n",
    "sequence = [2, 1, 2]\n",
    "num = 1\n",
    "den = 0\n",
    "size = len(sequence)\n",
    "for i in sequence[size::-1]:\n",
    "    if not den:\n",
    "        den = i\n",
    "        continue\n",
    "    temp = i * den + num\n",
    "    num = den\n",
    "    den = temp\n",
    "temp = num\n",
    "num = den\n",
    "den = temp\n",
    "print(f'{num=}, {den=}')\n",
    "num = [int(i) for i in str(num)]\n",
    "print(f'{sum(num)=}')"
   ]
  },
  {
   "cell_type": "code",
   "execution_count": null,
   "id": "8626e768",
   "metadata": {},
   "outputs": [],
   "source": [
    "import itertools"
   ]
  },
  {
   "cell_type": "markdown",
   "id": "e59be7a9",
   "metadata": {},
   "source": [
    "$x^2 - n \\times y^2 = 1$"
   ]
  },
  {
   "cell_type": "code",
   "execution_count": null,
   "id": "0ea2ecd6",
   "metadata": {},
   "outputs": [],
   "source": [
    "n = 7\n",
    "x0 = 1\n",
    "y0 = 0\n",
    "\n",
    "x1 = int(n**0.5)\n",
    "y1 = 1\n",
    "xy = [(x1, y1), (5/3, -1/3)]\n",
    "for k in itertools.count(1):\n",
    "    xk, yk = xy[k-1]\n",
    "    xkplus = x1 * xk + n * y1 * yk\n",
    "    ykplus = x1 * yk + y1 * xk\n",
    "    xy.append((xkplus, ykplus))\n",
    "\n",
    "    if k == 5:\n",
    "        break\n"
   ]
  }
 ],
 "metadata": {
  "kernelspec": {
   "display_name": "Python 3",
   "language": "python",
   "name": "python3"
  },
  "language_info": {
   "codemirror_mode": {
    "name": "ipython",
    "version": 3
   },
   "file_extension": ".py",
   "mimetype": "text/x-python",
   "name": "python",
   "nbconvert_exporter": "python",
   "pygments_lexer": "ipython3",
   "version": "3.11.1"
  }
 },
 "nbformat": 4,
 "nbformat_minor": 5
}
