{
 "cells": [
  {
   "cell_type": "code",
   "execution_count": null,
   "id": "bc9de02c",
   "metadata": {},
   "outputs": [],
   "source": [
    "import itertools\n",
    "def primes_gen():\n",
    "    # yield 2\n",
    "    primos = set()\n",
    "    # valor = 3\n",
    "\n",
    "    for valor in itertools.count(2):\n",
    "        for p in primos:\n",
    "            if valor % p == 0:\n",
    "                break\n",
    "        else:\n",
    "            primos.add(valor)\n",
    "            yield valor\n"
   ]
  },
  {
   "cell_type": "code",
   "execution_count": null,
   "id": "e2a90f88",
   "metadata": {},
   "outputs": [],
   "source": [
    "def primes_list_generator (max: int) -> list:\n",
    "    '''returns a list of prime numbers up to max.\n",
    "    '''\n",
    "    if type(max) not int:\n",
    "        raise TypeError('argument is not an integer')\n",
    "\n",
    "    # Initializes sieve\n",
    "    sieve = [0] * (max + 1)\n",
    "    # Marks all even numbers > 2 as not primes\n",
    "    for n in range(4, max+1, 2):\n",
    "        sieve[n] = 1\n",
    "    # Tests the numbers not marked as not primes, what is left is the primes at the spots with 0\n",
    "    for n in range(3, max, 2):\n",
    "        if n == 3: \n",
    "            pass\n",
    "        if not sieve[n]:\n",
    "            for m in range(n**2, max+1, 2*n):\n",
    "                sieve[m] = 1\n",
    "\n",
    "  \n",
    "    return [i for i, j in enumerate(sieve) if j == 0 and i > 1]\n",
    "    "
   ]
  },
  {
   "cell_type": "code",
   "execution_count": null,
   "id": "4aa99b3a",
   "metadata": {},
   "outputs": [],
   "source": [
    "def primes_from_largest_down (max: int):\n",
    "    # if type(max) not int:\n",
    "    #     raise TypeError('argument is not an integer')\n",
    "    # Initializes sieve\n",
    "    \n",
    "    sieve = [0] * (max + 2)\n",
    "    # Marks all even numbers > 2 as not primes\n",
    "    for n in range(4, max+1, 2):\n",
    "        sieve[n] = 1\n",
    "    # Tests the numbers not marked as not primes, what is left is the primes at the spots with 0\n",
    "    for n in range(3, max, 2):\n",
    "        if n == 3: \n",
    "            pass\n",
    "        if not sieve[n]:\n",
    "            for m in range(n**2, max+1, 2*n):\n",
    "                sieve[m] = 1\n",
    "    \n",
    "    \n",
    "    for n in range(max+1, 2, -1):\n",
    "        if not sieve[n]:\n",
    "            yield n\n",
    "    "
   ]
  }
 ],
 "metadata": {
  "kernelspec": {
   "display_name": "Python 3",
   "language": "python",
   "name": "python3"
  },
  "language_info": {
   "name": "python",
   "version": "3.11.1"
  }
 },
 "nbformat": 4,
 "nbformat_minor": 5
}
