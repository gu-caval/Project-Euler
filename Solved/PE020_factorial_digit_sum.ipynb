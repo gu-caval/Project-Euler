{
 "cells": [
  {
   "cell_type": "code",
   "execution_count": 8,
   "metadata": {},
   "outputs": [
    {
     "name": "stdout",
     "output_type": "stream",
     "text": [
      "648\n",
      "0.0009765625 seconds\n"
     ]
    }
   ],
   "source": [
    "import time\n",
    "time_start = time.time()\n",
    "\n",
    "def factorial (num: int) -> int:\n",
    "    if num == 1:\n",
    "        return 1\n",
    "    else:\n",
    "        return num * factorial(num - 1)\n",
    "    \n",
    "def sum_digits(num: int) -> int:\n",
    "    if num == 0:\n",
    "        return 0\n",
    "    return (num % 10) + sum_digits(num // 10)\n",
    "\n",
    "print(sum_digits(factorial(100)))\n",
    "print(f'{time.time()-time_start} seconds')\n",
    "\n"
   ]
  },
  {
   "cell_type": "code",
   "execution_count": 10,
   "metadata": {},
   "outputs": [
    {
     "name": "stdout",
     "output_type": "stream",
     "text": [
      "648\n",
      "0.0010018348693847656 seconds\n"
     ]
    }
   ],
   "source": [
    "import time\n",
    "time_start = time.time()\n",
    "\n",
    "def factorial (num: int) -> int:\n",
    "    if num == 0 or num == 1:\n",
    "        return 1\n",
    "    else:\n",
    "        return num * factorial(num - 1)\n",
    "    \n",
    "# def sum_digits(num: int) -> int:\n",
    "#     if num == 0:\n",
    "#         return 0\n",
    "#     return (num % 10) + sum_digits(num // 10)\n",
    "\n",
    "print(sum(map(int, str(factorial(100)))))\n",
    "print(f'{time.time()-time_start} seconds')\n"
   ]
  },
  {
   "cell_type": "code",
   "execution_count": 17,
   "metadata": {},
   "outputs": [
    {
     "name": "stdout",
     "output_type": "stream",
     "text": [
      "Recursion: Mean time is 3.2044410705566405e-05 seconds\n",
      "MAP: Mean time is 1.1899709701538086e-05 seconds\n"
     ]
    }
   ],
   "source": [
    "import time\n",
    "import statistics\n",
    "\n",
    "\n",
    "def factorial (num: int) -> int:\n",
    "    if num == 1:\n",
    "        return 1\n",
    "    else:\n",
    "        return num * factorial(num - 1)\n",
    "    \n",
    "def sum_digits(num: int) -> int:\n",
    "    if num == 0:\n",
    "        return 0\n",
    "    return (num % 10) + sum_digits(num // 10)\n",
    "\n",
    "times_taken = []\n",
    "\n",
    "for _ in range(1000):\n",
    "    time_start = time.time()\n",
    "    a = sum_digits(factorial(100))\n",
    "    times_taken.append(time.time()-time_start)\n",
    "\n",
    "print(f'Recursion: Mean time is {statistics.mean(times_taken)} seconds')\n",
    "\n",
    "times_taken = []\n",
    "\n",
    "for _ in range(1000):\n",
    "    time_start = time.time()\n",
    "    a = sum(map(int, str(factorial(100))))\n",
    "    times_taken.append(time.time()-time_start)\n",
    "\n",
    "print(f'MAP: Mean time is {statistics.mean(times_taken)} seconds')"
   ]
  },
  {
   "cell_type": "code",
   "execution_count": 18,
   "metadata": {},
   "outputs": [
    {
     "data": {
      "text/plain": [
       "648"
      ]
     },
     "execution_count": 18,
     "metadata": {},
     "output_type": "execute_result"
    }
   ],
   "source": [
    "a\n"
   ]
  },
  {
   "cell_type": "code",
   "execution_count": 19,
   "metadata": {},
   "outputs": [
    {
     "ename": "NameError",
     "evalue": "name 'reduce' is not defined",
     "output_type": "error",
     "traceback": [
      "\u001b[1;31m---------------------------------------------------------------------------\u001b[0m",
      "\u001b[1;31mNameError\u001b[0m                                 Traceback (most recent call last)",
      "Cell \u001b[1;32mIn[19], line 1\u001b[0m\n\u001b[1;32m----> 1\u001b[0m \u001b[43mreduce\u001b[49m(\u001b[38;5;28;01mlambda\u001b[39;00m x, y: x \u001b[38;5;241m+\u001b[39m y, [\u001b[38;5;28mint\u001b[39m(i) \u001b[38;5;28;01mfor\u001b[39;00m i \u001b[38;5;129;01min\u001b[39;00m \u001b[38;5;28mstr\u001b[39m(reduce(\u001b[38;5;28;01mlambda\u001b[39;00m x, y: x \u001b[38;5;241m*\u001b[39m y, \u001b[38;5;28mrange\u001b[39m(\u001b[38;5;241m1\u001b[39m, \u001b[38;5;241m100\u001b[39m)))])\n",
      "\u001b[1;31mNameError\u001b[0m: name 'reduce' is not defined"
     ]
    }
   ],
   "source": [
    "reduce(lambda x, y: x + y, [int(i) for i in str(reduce(lambda x, y: x * y, range(1, 100)))])"
   ]
  },
  {
   "cell_type": "code",
   "execution_count": null,
   "metadata": {},
   "outputs": [],
   "source": []
  }
 ],
 "metadata": {
  "kernelspec": {
   "display_name": "Python 3",
   "language": "python",
   "name": "python3"
  },
  "language_info": {
   "codemirror_mode": {
    "name": "ipython",
    "version": 3
   },
   "file_extension": ".py",
   "mimetype": "text/x-python",
   "name": "python",
   "nbconvert_exporter": "python",
   "pygments_lexer": "ipython3",
   "version": "3.11.1"
  }
 },
 "nbformat": 4,
 "nbformat_minor": 2
}
