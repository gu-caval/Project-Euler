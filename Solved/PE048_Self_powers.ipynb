{
 "cells": [
  {
   "cell_type": "markdown",
   "id": "f01c378b",
   "metadata": {},
   "source": [
    "The series, $1^1 + 2^2 + 3^3 + \\cdots + 10^{10} = 10405071317$.<br><br>\n",
    "Find the last ten digits of the series, $1^1 + 2^2 + 3^3 + \\cdots + 1000^{1000}$."
   ]
  },
  {
   "cell_type": "code",
   "execution_count": 1,
   "id": "cd020392",
   "metadata": {},
   "outputs": [
    {
     "data": {
      "text/plain": [
       "'9110846700'"
      ]
     },
     "execution_count": 1,
     "metadata": {},
     "output_type": "execute_result"
    }
   ],
   "source": [
    "soma = 0\n",
    "for i in range(1,1000):\n",
    "    soma += i**i\n",
    "\n",
    "soma = str(soma)\n",
    "soma[-10:]"
   ]
  },
  {
   "cell_type": "code",
   "execution_count": 3,
   "id": "3e6ef4ab",
   "metadata": {},
   "outputs": [
    {
     "data": {
      "text/plain": [
       "9110846700"
      ]
     },
     "execution_count": 3,
     "metadata": {},
     "output_type": "execute_result"
    }
   ],
   "source": [
    "soma = 0\n",
    "for i in range(1,1000):\n",
    "    soma += i**i\n",
    "\n",
    "soma % int(1e10)"
   ]
  },
  {
   "cell_type": "code",
   "execution_count": 4,
   "id": "a2ab9127",
   "metadata": {},
   "outputs": [
    {
     "name": "stdout",
     "output_type": "stream",
     "text": [
      "Int: 100, Científico: 100.0\n"
     ]
    }
   ],
   "source": [
    "print(f'Int: {10**2}, Científico: {1e2}')"
   ]
  }
 ],
 "metadata": {
  "kernelspec": {
   "display_name": "Python 3",
   "language": "python",
   "name": "python3"
  },
  "language_info": {
   "codemirror_mode": {
    "name": "ipython",
    "version": 3
   },
   "file_extension": ".py",
   "mimetype": "text/x-python",
   "name": "python",
   "nbconvert_exporter": "python",
   "pygments_lexer": "ipython3",
   "version": "3.11.1"
  }
 },
 "nbformat": 4,
 "nbformat_minor": 5
}
