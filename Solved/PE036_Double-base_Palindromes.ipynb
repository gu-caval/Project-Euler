{
 "cells": [
  {
   "cell_type": "markdown",
   "metadata": {},
   "source": [
    "The decimal number, 585 = 1001001001 (binary), is palindromic in both bases.\n",
    "\n",
    "Find the sum of all numbers, less than one million, which are palindromic in base 10 and base 2.\n",
    "\n",
    "(Please note that the palindromic number, in either base, may not include leading zeros.)"
   ]
  },
  {
   "cell_type": "code",
   "execution_count": 1,
   "metadata": {},
   "outputs": [],
   "source": [
    "def palindrome(number:int) -> bool:\n",
    "    number = str(number)\n",
    "    length = len(number)\n",
    "    for i in range(length//2):\n",
    "        if number[i] != number[-(i+1)]:\n",
    "            return False\n",
    "    return True\n",
    "\n",
    "def compare_base2 (number: int) -> bool:\n",
    "    base2 = str(bin(number))[2:]\n",
    "    return palindrome(base2)"
   ]
  },
  {
   "cell_type": "code",
   "execution_count": 3,
   "metadata": {},
   "outputs": [
    {
     "name": "stdout",
     "output_type": "stream",
     "text": [
      "The sum of all numbers, less than one million, which are palindromic in base 10 and base 2 is: 872187\n"
     ]
    }
   ],
   "source": [
    "# count = 1\n",
    "sum_p = 0\n",
    "\n",
    "for count in range(1000000): #less than 1 million\n",
    "    if palindrome(count):\n",
    "        if compare_base2(count):\n",
    "            sum_p += count\n",
    "\n",
    "print(f'The sum of all numbers, less than one million, which are palindromic in base 10 and base 2 is: {sum_p}')"
   ]
  },
  {
   "cell_type": "code",
   "execution_count": null,
   "metadata": {},
   "outputs": [],
   "source": []
  }
 ],
 "metadata": {
  "kernelspec": {
   "display_name": "Python 3",
   "language": "python",
   "name": "python3"
  },
  "language_info": {
   "codemirror_mode": {
    "name": "ipython",
    "version": 3
   },
   "file_extension": ".py",
   "mimetype": "text/x-python",
   "name": "python",
   "nbconvert_exporter": "python",
   "pygments_lexer": "ipython3",
   "version": "3.11.1"
  }
 },
 "nbformat": 4,
 "nbformat_minor": 2
}
