{
 "cells": [
  {
   "cell_type": "code",
   "execution_count": 1,
   "metadata": {},
   "outputs": [],
   "source": [
    "import numpy as np"
   ]
  },
  {
   "cell_type": "code",
   "execution_count": 2,
   "metadata": {},
   "outputs": [],
   "source": [
    "def primos(max):\n",
    "    primos = set()\n",
    "\n",
    "    for valor in range(2, max+1):\n",
    "        validador = True\n",
    "        for p in primos:\n",
    "            if valor%p == 0:\n",
    "                validador = False\n",
    "                break\n",
    "\n",
    "        if validador:\n",
    "            primos.add(valor)\n",
    "            yield valor"
   ]
  },
  {
   "cell_type": "code",
   "execution_count": null,
   "metadata": {},
   "outputs": [],
   "source": [
    "num = 600851475143\n",
    "a = primos(int(np.sqrt(num)))\n",
    "# b = next(a)\n",
    "\n",
    "for b in a:\n",
    "    if num%b == 0:\n",
    "        maior = b\n",
    "        \n",
    "print(maior)"
   ]
  },
  {
   "cell_type": "code",
   "execution_count": 3,
   "metadata": {},
   "outputs": [],
   "source": [
    "def primos2(max):\n",
    "    yield 2\n",
    "    primos = set([2])\n",
    "\n",
    "    for valor in range(3, max+1, 2):\n",
    "        validador = True\n",
    "        for p in primos:\n",
    "            if valor%p == 0:\n",
    "                validador = False\n",
    "                break\n",
    "\n",
    "        if validador:\n",
    "            primos.add(valor)\n",
    "            yield valor"
   ]
  },
  {
   "cell_type": "code",
   "execution_count": 2,
   "metadata": {},
   "outputs": [
    {
     "ename": "NameError",
     "evalue": "name 'primos2' is not defined",
     "output_type": "error",
     "traceback": [
      "\u001b[1;31m---------------------------------------------------------------------------\u001b[0m",
      "\u001b[1;31mNameError\u001b[0m                                 Traceback (most recent call last)",
      "Cell \u001b[1;32mIn[2], line 1\u001b[0m\n\u001b[1;32m----> 1\u001b[0m a \u001b[38;5;241m=\u001b[39m \u001b[43mprimos2\u001b[49m(\u001b[38;5;28mint\u001b[39m(np\u001b[38;5;241m.\u001b[39msqrt(num)))\n\u001b[0;32m      2\u001b[0m \u001b[38;5;66;03m# b = next(a)\u001b[39;00m\n\u001b[0;32m      4\u001b[0m \u001b[38;5;28;01mfor\u001b[39;00m b \u001b[38;5;129;01min\u001b[39;00m a:\n",
      "\u001b[1;31mNameError\u001b[0m: name 'primos2' is not defined"
     ]
    }
   ],
   "source": [
    "a = primos2(int(np.sqrt(num)))\n",
    "# b = next(a)\n",
    "\n",
    "for b in a:\n",
    "    if num%b == 0:\n",
    "        maior = b\n",
    "        \n",
    "print(maior)"
   ]
  },
  {
   "cell_type": "code",
   "execution_count": 8,
   "metadata": {},
   "outputs": [
    {
     "name": "stdout",
     "output_type": "stream",
     "text": [
      "6857\n"
     ]
    }
   ],
   "source": [
    "num = 600851475143 // 1471 * 27 * 121\n",
    "a = primos2(int(np.sqrt(num)))\n",
    "b = next(a)\n",
    "n = num\n",
    "lastFactor = 1\n",
    "\n",
    "while n>1:\n",
    "    if n%b == 0:\n",
    "        n = n // b\n",
    "        lastFactor = b\n",
    "        temp = n%b\n",
    "        while n%b == 0:\n",
    "            n = n // b\n",
    "        \n",
    "    try:\n",
    "        b = next(a)\n",
    "    except:\n",
    "        break\n",
    "\n",
    "if n==1:\n",
    "    print(lastFactor)\n",
    "else:\n",
    "    print(n)"
   ]
  },
  {
   "cell_type": "code",
   "execution_count": null,
   "metadata": {},
   "outputs": [],
   "source": [
    "print(num, n)"
   ]
  },
  {
   "cell_type": "code",
   "execution_count": null,
   "metadata": {},
   "outputs": [],
   "source": [
    "if num%2 == 0:\n",
    "    lastFactor = 2\n",
    "    num = num // 2\n",
    "else:\n",
    "    lastFactor = 1\n",
    "\n",
    "factor = 3\n",
    "maxFactor = int(np.sqrt(num))\n",
    "\n",
    "while num > 1 and factor <= maxFactor:\n",
    "    if num%factor == 0:\n",
    "        num = num // factor\n",
    "        lastFactor = factor\n",
    "        while num%factor == 0:\n",
    "            num = num // factor\n",
    "        maxFactor = int(np.sqrt(num))\n",
    "\n",
    "    factor += 2\n",
    "\n",
    "if num == 1:\n",
    "    print(lastFactor)\n",
    "else:\n",
    "    print(num)"
   ]
  }
 ],
 "metadata": {
  "kernelspec": {
   "display_name": "Python 3",
   "language": "python",
   "name": "python3"
  },
  "language_info": {
   "codemirror_mode": {
    "name": "ipython",
    "version": 3
   },
   "file_extension": ".py",
   "mimetype": "text/x-python",
   "name": "python",
   "nbconvert_exporter": "python",
   "pygments_lexer": "ipython3",
   "version": "3.11.1"
  }
 },
 "nbformat": 4,
 "nbformat_minor": 2
}
