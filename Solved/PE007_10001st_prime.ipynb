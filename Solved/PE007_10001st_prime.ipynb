{
 "cells": [
  {
   "cell_type": "code",
   "execution_count": 1,
   "metadata": {},
   "outputs": [],
   "source": [
    "from math import sqrt"
   ]
  },
  {
   "cell_type": "code",
   "execution_count": 7,
   "metadata": {},
   "outputs": [],
   "source": [
    "def primos(qtd):\n",
    "    \n",
    "    primos = [2]\n",
    "    valor = 3\n",
    "    while len(primos) < qtd:\n",
    "        max_valor = int(sqrt(valor))\n",
    "        validador = True\n",
    "\n",
    "        for p in primos:\n",
    "            if p > max_valor:\n",
    "                break\n",
    "            elif valor%p == 0:\n",
    "                validador = False\n",
    "                break\n",
    "\n",
    "        if validador:\n",
    "            primos.append(valor)\n",
    "\n",
    "        valor += 2\n",
    "\n",
    "    return primos[-1]"
   ]
  },
  {
   "cell_type": "code",
   "execution_count": 9,
   "metadata": {},
   "outputs": [
    {
     "data": {
      "text/plain": [
       "104743"
      ]
     },
     "execution_count": 9,
     "metadata": {},
     "output_type": "execute_result"
    }
   ],
   "source": [
    "primos(10001)"
   ]
  },
  {
   "cell_type": "code",
   "execution_count": null,
   "metadata": {},
   "outputs": [],
   "source": []
  }
 ],
 "metadata": {
  "kernelspec": {
   "display_name": "Python 3",
   "language": "python",
   "name": "python3"
  },
  "language_info": {
   "codemirror_mode": {
    "name": "ipython",
    "version": 3
   },
   "file_extension": ".py",
   "mimetype": "text/x-python",
   "name": "python",
   "nbconvert_exporter": "python",
   "pygments_lexer": "ipython3",
   "version": "3.11.1"
  }
 },
 "nbformat": 4,
 "nbformat_minor": 2
}
