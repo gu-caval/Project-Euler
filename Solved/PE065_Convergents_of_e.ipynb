{
 "cells": [
  {
   "cell_type": "markdown",
   "id": "9fc6ff07",
   "metadata": {},
   "source": [
    "The square root of $2$ can be written as an infinite continued fraction.\n",
    "$\\sqrt{2} = 1 + \\dfrac{1}{2 + \\dfrac{1}{2 + \\dfrac{1}{2 + \\dfrac{1}{2 + ...}}}}$\n",
    "The infinite continued fraction can be written, $\\sqrt{2} = [1; (2)]$, $(2)$ indicates that $2$ repeats <i>ad infinitum</i>. In a similar way, $\\sqrt{23} = [4; (1, 3, 1, 8)]$.\n",
    "It turns out that the sequence of partial values of continued fractions for square roots provide the best rational approximations. Let us consider the convergents for $\\sqrt{2}$.\n",
    "$\\begin{align}\n",
    "1 + \\dfrac{1}{2} = \\dfrac{3}{2} \\\\\n",
    "1 + \\dfrac{1}{2 + \\dfrac{1}{2}} = \\dfrac{7}{5}\\\\\n",
    "1 + \\dfrac{1}{2 + \\dfrac{1}{2 + \\dfrac{1}{2}}} = \\dfrac{17}{12}\\\\\n",
    "1 + \\dfrac{1}{2 + \\dfrac{1}{2 + \\dfrac{1}{2 + \\dfrac{1}{2}}}} = \\dfrac{41}{29}\n",
    "\\end{align}$\n",
    "Hence the sequence of the first ten convergents for $\\sqrt{2}$ are:\n",
    "$1, \\dfrac{3}{2}, \\dfrac{7}{5}, \\dfrac{17}{12}, \\dfrac{41}{29}, \\dfrac{99}{70}, \\dfrac{239}{169}, \\dfrac{577}{408}, \\dfrac{1393}{985}, \\dfrac{3363}{2378}, ...$\n",
    "What is most surprising is that the important mathematical constant,<br>$e = [2; 1, 2, 1, 1, 4, 1, 1, 6, 1, ... , 1, 2k, 1, ...]$.\n",
    "The first ten terms in the sequence of convergents for $e$ are:\n",
    "$2, 3, \\dfrac{8}{3}, \\dfrac{11}{4}, \\dfrac{19}{7}, \\dfrac{87}{32}, \\dfrac{106}{39}, \\dfrac{193}{71}, \\dfrac{1264}{465}, \\dfrac{1457}{536}, ...$\n",
    "The sum of digits in the numerator of the $10$<sup>th</sup> convergent is $1 + 4 + 5 + 7 = 17$.\n",
    "Find the sum of digits in the numerator of the $100$<sup>th</sup> convergent of the continued fraction for $e$."
   ]
  },
  {
   "cell_type": "code",
   "execution_count": 2,
   "id": "81081b76",
   "metadata": {},
   "outputs": [],
   "source": [
    "sequence = [2, 1, 2]\n",
    "num = 4\n",
    "while len(sequence) < 100:\n",
    "    sequence.append(1)\n",
    "    sequence.append(1)\n",
    "    sequence.append(num)\n",
    "    num += 2\n"
   ]
  },
  {
   "cell_type": "code",
   "execution_count": 8,
   "id": "c2e75f87",
   "metadata": {},
   "outputs": [
    {
     "name": "stdout",
     "output_type": "stream",
     "text": [
      "num=6963524437876961749120273824619538346438023188214475670667, den=2561737478789858711161539537921323010415623148113041714756\n",
      "sum(num)=272\n"
     ]
    }
   ],
   "source": [
    "num = 1\n",
    "den = 0\n",
    "\n",
    "for i in sequence[99::-1]:\n",
    "    if not den:\n",
    "        den = i\n",
    "        continue\n",
    "    temp = i * den + num\n",
    "    num = den\n",
    "    den = temp\n",
    "temp = num\n",
    "num = den\n",
    "den = temp\n",
    "print(f'{num=}, {den=}')\n",
    "num = [int(i) for i in str(num)]\n",
    "print(f'{sum(num)=}')"
   ]
  },
  {
   "cell_type": "code",
   "execution_count": null,
   "id": "bb1fe72d",
   "metadata": {},
   "outputs": [],
   "source": [
    "sequence = [2, 1, 2, 3, 4, 5, 6, 7, 8]\n",
    "for i in sequence[4::-1]:\n",
    "    print(i)"
   ]
  }
 ],
 "metadata": {
  "kernelspec": {
   "display_name": "Python 3",
   "language": "python",
   "name": "python3"
  },
  "language_info": {
   "codemirror_mode": {
    "name": "ipython",
    "version": 3
   },
   "file_extension": ".py",
   "mimetype": "text/x-python",
   "name": "python",
   "nbconvert_exporter": "python",
   "pygments_lexer": "ipython3",
   "version": "3.11.1"
  }
 },
 "nbformat": 4,
 "nbformat_minor": 5
}
