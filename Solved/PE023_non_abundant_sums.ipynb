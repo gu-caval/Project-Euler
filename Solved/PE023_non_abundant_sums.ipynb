{
 "cells": [
  {
   "cell_type": "markdown",
   "metadata": {},
   "source": [
    "A perfect number is a number for which the sum of its proper divisors is exactly equal to the number. For example, the sum of the proper divisors of 28 would be 1 + 2 + 4 + 7 + 14 = 28, which means that 28 is a perfect number.\n",
    "\n",
    "A number n is called deficient if the sum of its proper divisors is less than n and it is called abundant if this sum exceeds \n",
    ".\n",
    "\n",
    "As 12 is the smallest abundant number, 1 + 2 + 3 + 4 + 6 = 16, the smallest number that can be written as the sum of two abundant numbers is 24. By mathematical analysis, it can be shown that all integers greater than 28123 can be written as the sum of two abundant numbers. However, this upper limit cannot be reduced any further by analysis even though it is known that the greatest number that cannot be expressed as the sum of two abundant numbers is less than this limit.\n",
    "\n",
    "Find the sum of all the positive integers which cannot be written as the sum of two abundant numbers."
   ]
  },
  {
   "cell_type": "code",
   "execution_count": 1,
   "metadata": {},
   "outputs": [],
   "source": [
    "def sumDivisors(number: int) -> int:\n",
    "    if number == 1:\n",
    "        return -1\n",
    "    sum = 1 # 1 is always a divisor\n",
    "    # print('Um divisor é: 1')\n",
    "    for d in range(2, (number // 2)+1):\n",
    "        if (number % d) == 0:\n",
    "            # print(f'Um divisor é: {d}')\n",
    "            sum += d\n",
    "    return sum"
   ]
  },
  {
   "cell_type": "code",
   "execution_count": 2,
   "metadata": {},
   "outputs": [],
   "source": [
    "abundant = []\n",
    "\n",
    "for n in range(12, 28123):\n",
    "    if n < sumDivisors(n):\n",
    "        abundant.append(n)"
   ]
  },
  {
   "cell_type": "code",
   "execution_count": 3,
   "metadata": {},
   "outputs": [],
   "source": [
    "sum_of_abundant = dict()\n",
    "\n",
    "for pos, first_num in enumerate(abundant):\n",
    "    for b in range(pos, len(abundant)):\n",
    "        second_num = abundant[b]\n",
    "        sum_of_abundant[first_num+second_num] = (first_num, second_num)"
   ]
  },
  {
   "cell_type": "code",
   "execution_count": 4,
   "metadata": {},
   "outputs": [
    {
     "name": "stdout",
     "output_type": "stream",
     "text": [
      "The sum of all integers that cannot be written as the sum of two abundant numbers is 4179871\n"
     ]
    }
   ],
   "source": [
    "sum_no_abundant = 0\n",
    "for n in range(28123+1):\n",
    "    if n not in sum_of_abundant:\n",
    "        sum_no_abundant += n\n",
    "\n",
    "print(f'The sum of all integers that cannot be written as the sum of two abundant numbers is {sum_no_abundant}')"
   ]
  },
  {
   "cell_type": "code",
   "execution_count": null,
   "metadata": {},
   "outputs": [],
   "source": []
  }
 ],
 "metadata": {
  "kernelspec": {
   "display_name": "Python 3",
   "language": "python",
   "name": "python3"
  },
  "language_info": {
   "codemirror_mode": {
    "name": "ipython",
    "version": 3
   },
   "file_extension": ".py",
   "mimetype": "text/x-python",
   "name": "python",
   "nbconvert_exporter": "python",
   "pygments_lexer": "ipython3",
   "version": "3.11.1"
  }
 },
 "nbformat": 4,
 "nbformat_minor": 2
}
