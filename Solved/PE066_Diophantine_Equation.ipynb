{
 "cells": [
  {
   "cell_type": "markdown",
   "id": "7688ea7e",
   "metadata": {},
   "source": [
    "Consider quadratic Diophantine equations of the form:\n",
    "$x^2 - Dy^2 = 1$\n",
    "For example, when $D=13$, the minimal solution in $x$ is $649^2 - 13 \\times 180^2 = 1$.\n",
    "It can be assumed that there are no solutions in positive integers when $D$ is square.\n",
    "By finding minimal solutions in $x$ for $D = \\{2, 3, 5, 6, 7\\}$, we obtain the following:\n",
    "\\begin{align}\n",
    "3^2 - 2 \\times 2^2 = 1\\\\\n",
    "2^2 - 3 \\times 1^2 = 1\\\\\n",
    "{\\color{red}{\\mathbf 9}}^2 - 5 \\times 4^2 = 1\\\\\n",
    "5^2 - 6 \\times 2^2 = 1\\\\\n",
    "8^2 - 7 \\times 3^2 = 1\n",
    "\\end{align}\n",
    "Hence, by considering minimal solutions in $x$ for $D \\le 7$, the largest $x$ is obtained when $D=5$.\n",
    "Find the value of $D \\le 1000$ in minimal solutions of $x$ for which the largest value of $x$ is obtained."
   ]
  },
  {
   "cell_type": "code",
   "execution_count": 1,
   "id": "28631867",
   "metadata": {},
   "outputs": [],
   "source": [
    "import itertools"
   ]
  },
  {
   "cell_type": "code",
   "execution_count": 20,
   "id": "a68ce4cf",
   "metadata": {},
   "outputs": [],
   "source": [
    "def continued_fraction(n: int) -> list:\n",
    "    if n**0.5 % 1 == 0:\n",
    "        raise ValueError('Números que são quadrados perfeitos não são aceitos.')\n",
    "    \n",
    "    a0 = int(n**0.5) # base do algoritmo\n",
    "    an = 1\n",
    "    cf = []\n",
    "    \n",
    "    for count in itertools.count():\n",
    "        if count == 100:\n",
    "            raise Exception(f\"Couldn't converge in less than {count} iterations\")\n",
    "\n",
    "        # Calula Pr, Qr e ar a cada iteração\n",
    "        if count == 0:\n",
    "            pr = 0\n",
    "            qr = 1\n",
    "        else:\n",
    "            pr = an * qr - pr\n",
    "            qr = (n - pr**2) / qr\n",
    "\n",
    "        an = int((a0 + pr) / qr)\n",
    "        cf.append(an)\n",
    "\n",
    "        if an == 2 * a0:\n",
    "            break\n",
    "    \n",
    "    if len(cf) % 2 == 0:\n",
    "        cf = cf + cf[1:]\n",
    "    cf = cf[:-1]\n",
    "    num = 1\n",
    "    den = 0\n",
    "    size = len(cf)\n",
    "    for i in cf[-1::-1]:\n",
    "        if not den:\n",
    "            den = i\n",
    "            continue\n",
    "        temp = i * den + num\n",
    "        num = den\n",
    "        den = temp\n",
    "    return (den, num)"
   ]
  },
  {
   "cell_type": "code",
   "execution_count": 24,
   "id": "cfc4f327",
   "metadata": {},
   "outputs": [
    {
     "name": "stdout",
     "output_type": "stream",
     "text": [
      "Valor encontrado foi d_max = 661, com x_max = 16421658242965910275055840472270471049\n"
     ]
    }
   ],
   "source": [
    "x_max = 0\n",
    "d_max = 0\n",
    "for d in range(2, 1001):\n",
    "    if d**0.5 % 1 == 0:\n",
    "        continue\n",
    "    try:\n",
    "        x, y = continued_fraction(d)\n",
    "        if x > x_max:\n",
    "            x_max = x\n",
    "            d_max = d\n",
    "    except Exception as e:\n",
    "        pass\n",
    "\n",
    "print(f'Valor encontrado foi {d_max = }, com {x_max = }')"
   ]
  },
  {
   "cell_type": "code",
   "execution_count": null,
   "id": "53fe997e",
   "metadata": {},
   "outputs": [],
   "source": [
    "count = 0\n",
    "soma = 0\n",
    "for d in range(2, 103):\n",
    "    if d**0.5 % 1 == 0:\n",
    "        continue\n",
    "\n",
    "    try:\n",
    "        print(f'{d = }, {continued_fraction(d)}')\n",
    "        soma += 1\n",
    "    except Exception as e:\n",
    "        print(f'{d = }. {e}')\n",
    "        count += 1\n",
    "\n",
    "print(f'{soma} convergiram, {count} não convergiram. {soma/(soma+count)*100:.1f}% de sucesso.')"
   ]
  },
  {
   "cell_type": "code",
   "execution_count": 21,
   "id": "08b68e78",
   "metadata": {},
   "outputs": [
    {
     "data": {
      "text/plain": [
       "(649, 180)"
      ]
     },
     "execution_count": 21,
     "metadata": {},
     "output_type": "execute_result"
    }
   ],
   "source": [
    "continued_fraction(13)"
   ]
  },
  {
   "cell_type": "code",
   "execution_count": 16,
   "id": "268aa2af",
   "metadata": {},
   "outputs": [
    {
     "name": "stdout",
     "output_type": "stream",
     "text": [
      "num=649, den=180\n",
      "sum(num)=19\n"
     ]
    }
   ],
   "source": [
    "# Calcula numerador e denominador a partir de uma sequencia de fração contínua limitada ao seu primeiro período de repetição.\n",
    "sequence = [3, 1, 1, 1, 1, 6, 1, 1, 1, 1]\n",
    "num = 1\n",
    "den = 0\n",
    "size = len(sequence)\n",
    "for i in sequence[size::-1]:\n",
    "    if not den:\n",
    "        den = i\n",
    "        continue\n",
    "    temp = i * den + num\n",
    "    num = den\n",
    "    den = temp\n",
    "temp = num\n",
    "num = den\n",
    "den = temp\n",
    "print(f'{num=}, {den=}')\n",
    "num = [int(i) for i in str(num)]\n",
    "print(f'{sum(num)=}')"
   ]
  },
  {
   "cell_type": "markdown",
   "id": "e59be7a9",
   "metadata": {},
   "source": [
    "$x^2 - n \\times y^2 = 1$"
   ]
  }
 ],
 "metadata": {
  "kernelspec": {
   "display_name": "Python 3",
   "language": "python",
   "name": "python3"
  },
  "language_info": {
   "codemirror_mode": {
    "name": "ipython",
    "version": 3
   },
   "file_extension": ".py",
   "mimetype": "text/x-python",
   "name": "python",
   "nbconvert_exporter": "python",
   "pygments_lexer": "ipython3",
   "version": "3.11.1"
  }
 },
 "nbformat": 4,
 "nbformat_minor": 5
}
