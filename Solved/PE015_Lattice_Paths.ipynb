{
 "cells": [
  {
   "cell_type": "markdown",
   "id": "5f2f6a49",
   "metadata": {},
   "source": [
    "Starting in the top left corner of a $2 \\times 2$ grid, and only being able to move to the right and down, there are exactly $6$ routes to the bottom right corner.\n",
    "\n",
    "\n",
    "How many such routes are there through a $20 \\times 20$ grid?\n"
   ]
  },
  {
   "cell_type": "code",
   "execution_count": 1,
   "id": "6ec1631e",
   "metadata": {},
   "outputs": [],
   "source": [
    "from math import comb"
   ]
  },
  {
   "cell_type": "code",
   "execution_count": 2,
   "id": "210c84ce",
   "metadata": {},
   "outputs": [
    {
     "data": {
      "text/plain": [
       "137846528820"
      ]
     },
     "execution_count": 2,
     "metadata": {},
     "output_type": "execute_result"
    }
   ],
   "source": [
    "comb(40, 20)"
   ]
  },
  {
   "cell_type": "code",
   "execution_count": null,
   "id": "8018b920",
   "metadata": {},
   "outputs": [],
   "source": []
  }
 ],
 "metadata": {
  "kernelspec": {
   "display_name": "Python 3",
   "language": "python",
   "name": "python3"
  },
  "language_info": {
   "codemirror_mode": {
    "name": "ipython",
    "version": 3
   },
   "file_extension": ".py",
   "mimetype": "text/x-python",
   "name": "python",
   "nbconvert_exporter": "python",
   "pygments_lexer": "ipython3",
   "version": "3.11.1"
  }
 },
 "nbformat": 4,
 "nbformat_minor": 5
}
