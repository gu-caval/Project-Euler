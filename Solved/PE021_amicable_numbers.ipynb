{
 "cells": [
  {
   "cell_type": "markdown",
   "metadata": {},
   "source": [
    "Let d(n) be defined as the sum of proper divisors of n (numbers less than n which divide evenly into n).\n",
    "If d(a)=b and d(b)=a, where a!=b, then a and b are an amicable pair and each of a and b are called amicable numbers.\n",
    "\n",
    "For example, the proper divisors of 220 are 1, 2, 4, 5, 10, 11, 20, 22, 44, 55 and 110; therefore d(220) = 284. The proper divisors of \n",
    "284 are 1, 2, 4, 71 and 142; so d(284)=220.\n",
    "\n",
    "Evaluate the sum of all the amicable numbers under 10.000."
   ]
  },
  {
   "cell_type": "code",
   "execution_count": 27,
   "metadata": {},
   "outputs": [],
   "source": [
    "def sumDivisors(number: int) -> int:\n",
    "    if number == 1:\n",
    "        return -1\n",
    "    sum = 1 # 1 is always a divisor\n",
    "    # print('Um divisor é: 1')\n",
    "    for d in range(2, (number // 2)+1):\n",
    "        if (number % d) == 0:\n",
    "            # print(f'Um divisor é: {d}')\n",
    "            sum += d\n",
    "    return sum"
   ]
  },
  {
   "cell_type": "code",
   "execution_count": 35,
   "metadata": {},
   "outputs": [],
   "source": [
    "numbers_and_sum = {1: 0}\n",
    "amicable = []\n",
    "for n in range(2,10001):\n",
    "    sum_of_n_2 = 0\n",
    "    if n == 15:\n",
    "        pass\n",
    "    if n not in numbers_and_sum:\n",
    "        sum_of_n = sumDivisors(n)\n",
    "        # if sum_of_n == -1:\n",
    "        #     continue        \n",
    "        numbers_and_sum[n] = sum_of_n\n",
    "        if sum_of_n not in numbers_and_sum:\n",
    "            sum_of_n_2 = sumDivisors(sum_of_n)\n",
    "            numbers_and_sum[sum_of_n] = sum_of_n_2\n",
    "        if sum_of_n_2 == n:\n",
    "            amicable.append(n)\n",
    "            amicable.append(sum_of_n)"
   ]
  },
  {
   "cell_type": "code",
   "execution_count": 38,
   "metadata": {},
   "outputs": [
    {
     "data": {
      "text/plain": [
       "31626"
      ]
     },
     "execution_count": 38,
     "metadata": {},
     "output_type": "execute_result"
    }
   ],
   "source": [
    "sum(amicable)\n"
   ]
  },
  {
   "cell_type": "code",
   "execution_count": 39,
   "metadata": {},
   "outputs": [
    {
     "data": {
      "text/plain": [
       "[220, 284, 1184, 1210, 2620, 2924, 5020, 5564, 6232, 6368]"
      ]
     },
     "execution_count": 39,
     "metadata": {},
     "output_type": "execute_result"
    }
   ],
   "source": [
    "amicable"
   ]
  },
  {
   "cell_type": "code",
   "execution_count": null,
   "metadata": {},
   "outputs": [],
   "source": []
  }
 ],
 "metadata": {
  "kernelspec": {
   "display_name": "Python 3",
   "language": "python",
   "name": "python3"
  },
  "language_info": {
   "codemirror_mode": {
    "name": "ipython",
    "version": 3
   },
   "file_extension": ".py",
   "mimetype": "text/x-python",
   "name": "python",
   "nbconvert_exporter": "python",
   "pygments_lexer": "ipython3",
   "version": "3.11.1"
  }
 },
 "nbformat": 4,
 "nbformat_minor": 2
}
