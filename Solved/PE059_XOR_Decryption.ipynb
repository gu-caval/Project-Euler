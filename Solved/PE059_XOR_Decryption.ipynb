{
 "cells": [
  {
   "cell_type": "markdown",
   "id": "8246c13a",
   "metadata": {},
   "source": [
    "<p>Each character on a computer is assigned a unique code and the preferred standard is ASCII (American Standard Code for Information Interchange). For example, uppercase A = 65, asterisk (*) = 42, and lowercase k = 107.</p>\n",
    "<p>A modern encryption method is to take a text file, convert the bytes to ASCII, then XOR each byte with a given value, taken from a secret key. The advantage with the XOR function is that using the same encryption key on the cipher text, restores the plain text; for example, 65 XOR 42 = 107, then 107 XOR 42 = 65.</p>\n",
    "<p>For unbreakable encryption, the key is the same length as the plain text message, and the key is made up of random bytes. The user would keep the encrypted message and the encryption key in different locations, and without both \"halves\", it is impossible to decrypt the message.</p>\n",
    "<p>Unfortunately, this method is impractical for most users, so the modified method is to use a password as a key. If the password is shorter than the message, which is likely, the key is repeated cyclically throughout the message. The balance for this method is using a sufficiently long password key for security, but short enough to be memorable.</p>\n",
    "<p>Your task has been made easy, as the encryption key consists of three lower case characters. Using <a href=\"PE059_cipher.txt\">0059_cipher.txt</a> (right click and 'Save Link/Target As...'), a file containing the encrypted ASCII codes, and the knowledge that the plain text must contain common English words, decrypt the message and find the sum of the ASCII values in the original text.</p>"
   ]
  },
  {
   "cell_type": "code",
   "execution_count": 5,
   "id": "3f74283e",
   "metadata": {},
   "outputs": [],
   "source": [
    "from collections import Counter\n",
    "from itertools import product\n",
    "from string import ascii_lowercase"
   ]
  },
  {
   "cell_type": "code",
   "execution_count": 13,
   "id": "8c947a48",
   "metadata": {},
   "outputs": [],
   "source": [
    "occurance_english = {\n",
    "    'a': 8.2389258,    'b': 1.5051398,    'c': 2.8065007,    'd': 4.2904556,\n",
    "    'e': 12.813865,    'f': 2.2476217,    'g': 2.0327458,    'h': 6.1476691,\n",
    "    'i': 6.1476691,    'j': 0.1543474,    'k': 0.7787989,    'l': 4.0604477,\n",
    "    'm': 2.4271893,    'n': 6.8084376,    'o': 7.5731132,    'p': 1.9459884,\n",
    "    'q': 0.0958366,    'r': 6.0397268,    's': 6.3827211,    't': 9.1357551,\n",
    "    'u': 2.7822893,    'v': 0.9866131,    'w': 2.3807842,    'x': 0.1513210,\n",
    "    'y': 1.9913847,    'z': 0.0746517\n",
    "}\n",
    "dist_english = list(occurance_english.values())\n",
    "a = 1"
   ]
  },
  {
   "cell_type": "code",
   "execution_count": 14,
   "id": "1563dc5c",
   "metadata": {},
   "outputs": [],
   "source": [
    "def single_byte_xor(text: bytes, key: int) -> bytes:\n",
    "    \"\"\"Given a plain text `text` as bytes and an encryption key `key` as a byte\n",
    "    in range [0, 256) the function encrypts the text by performing\n",
    "    XOR of all the bytes and the `key` and returns the resultant.\n",
    "    \"\"\"\n",
    "    # ORIGINAL\n",
    "    return bytes([b ^ key for b in text])\n",
    "\n",
    "    # return bytes([m ^ k for m, k in zip(text, key)])    "
   ]
  },
  {
   "cell_type": "code",
   "execution_count": 20,
   "id": "4115b128",
   "metadata": {},
   "outputs": [],
   "source": [
    "def compute_fitting_quotient(text: bytes) -> float:\n",
    "    \"\"\"Given the stream of bytes `text` the function computes the fitting\n",
    "    quotient of the letter frequency distribution for `text` with the\n",
    "    letter frequency distribution of the English language.\n",
    "\n",
    "    The function returns the average of the absolute difference between the\n",
    "    frequencies (in percentage) of letters in `text` and the corresponding\n",
    "    letter in the English Language.\n",
    "    \"\"\"\n",
    "    counter = Counter(text.lower())\n",
    "    dist_text = []\n",
    "    #     (counter.get(ord(ch.lower()), 0) * 100) / len(text)\n",
    "    #     for ch in occurance_english\n",
    "    # ]\n",
    "    for ch in occurance_english:\n",
    "        c = counter.get(ch, 0)\n",
    "        dist_text.append(c * 100 / len(text))\n",
    "    return sum([abs(a - b) for a, b in zip(dist_english, dist_text)]) / len(dist_text)"
   ]
  },
  {
   "cell_type": "code",
   "execution_count": 9,
   "id": "587042f5",
   "metadata": {},
   "outputs": [],
   "source": [
    "with open('PE059_cipher.txt', 'r') as my_file:\n",
    "    message = my_file.read()\n",
    "\n",
    "message = message.split(',')\n",
    "message = [int(i) for i in message]"
   ]
  },
  {
   "cell_type": "code",
   "execution_count": 21,
   "id": "92d34eae",
   "metadata": {},
   "outputs": [
    {
     "name": "stdout",
     "output_type": "stream",
     "text": [
      "Melhor chave: exp\n",
      "O texto decifrado é:\n",
      "An extract taken from the introduction of one of Euler's most celebrated papers, \"De summis serierum reciprocarum\" [On the sums of series of reciprocals]: I have recently found, quite unexpectedly, an elegant expression for the entire sum of this series 1 + 1/4 + 1/9 + 1/16 + etc., which depends on the quadrature of the circle, so that if the true sum of this series is obtained, from it at once the quadrature of the circle follows. Namely, I have found that the sum of this series is a sixth part of the square of the perimeter of the circle whose diameter is 1; or by putting the sum of this series equal to s, it has the ratio sqrt(6) multiplied by s to 1 of the perimeter to the diameter. I will soon show that the sum of this series to be approximately 1.644934066842264364; and from multiplying this number by six, and then taking the square root, the number 3.141592653589793238 is indeed produced, which expresses the perimeter of a circle whose diameter is 1. Following again the same steps by which I had arrived at this sum, I have discovered that the sum of the series 1 + 1/16 + 1/81 + 1/256 + 1/625 + etc. also depends on the quadrature of the circle. Namely, the sum of this multiplied by 90 gives the biquadrate (fourth power) of the circumference of the perimeter of a circle whose diameter is 1. And by similar reasoning I have likewise been able to determine the sums of the subsequent series in which the exponents are even numbers.\n"
     ]
    }
   ],
   "source": [
    "c1 = message[::3]\n",
    "c2 = message[1::3]\n",
    "c3 = message[2::3]\n",
    "numbers = [ord(i) for i in ascii_lowercase]\n",
    "min_fq = None\n",
    "best_text = None\n",
    "best_key = None\n",
    "\n",
    "for k1, k2, k3 in product(numbers, repeat=3):\n",
    "    # Inicializa a variável com o texto decriptografado\n",
    "    result = ''\n",
    "\n",
    "    # Faz a decriptografia das fatias\n",
    "    c1_decry = single_byte_xor(bytes(c1), k1)\n",
    "    c2_decry = single_byte_xor(bytes(c2), k2)\n",
    "    c3_decry = single_byte_xor(bytes(c3), k3)\n",
    "\n",
    "    # Reúne os resultados em uma única string\n",
    "    max_length = max(len(c1_decry), len(c2_decry), len(c3_decry))\n",
    "    for i in range(max_length):\n",
    "        if i < len(c1_decry):\n",
    "            result += chr(c1_decry[i])\n",
    "        if i < len(c2_decry):\n",
    "            result += chr(c2_decry[i])\n",
    "        if i < len(c3_decry):\n",
    "            result += chr(c3_decry[i])\n",
    "    \n",
    "    _fq = compute_fitting_quotient(result)\n",
    "\n",
    "    if min_fq is None or _fq < min_fq:\n",
    "        min_fq = _fq\n",
    "        best_text = ''.join(result)\n",
    "        best_key = chr(k1) + chr(k2) + chr(k3)\n",
    "\n",
    "print(f'Melhor chave: {best_key}')\n",
    "print('O texto decifrado é:')\n",
    "print(best_text)"
   ]
  },
  {
   "cell_type": "code",
   "execution_count": 23,
   "id": "aa44f0b6",
   "metadata": {},
   "outputs": [
    {
     "data": {
      "text/plain": [
       "129448"
      ]
     },
     "execution_count": 23,
     "metadata": {},
     "output_type": "execute_result"
    }
   ],
   "source": [
    "sum([ord(i) for i in best_text])"
   ]
  },
  {
   "cell_type": "code",
   "execution_count": null,
   "id": "af70953c",
   "metadata": {},
   "outputs": [],
   "source": [
    "a = b'a' \n",
    "print(chr(69))\n",
    "for i in a:\n",
    "    print(type(i))\n",
    "    print(i^69)"
   ]
  },
  {
   "cell_type": "code",
   "execution_count": null,
   "id": "446f483c",
   "metadata": {},
   "outputs": [],
   "source": [
    "b'aa' + b'bb'"
   ]
  }
 ],
 "metadata": {
  "kernelspec": {
   "display_name": "Python 3",
   "language": "python",
   "name": "python3"
  },
  "language_info": {
   "codemirror_mode": {
    "name": "ipython",
    "version": 3
   },
   "file_extension": ".py",
   "mimetype": "text/x-python",
   "name": "python",
   "nbconvert_exporter": "python",
   "pygments_lexer": "ipython3",
   "version": "3.11.1"
  }
 },
 "nbformat": 4,
 "nbformat_minor": 5
}
