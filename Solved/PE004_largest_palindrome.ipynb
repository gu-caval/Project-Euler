{
 "cells": [
  {
   "cell_type": "code",
   "execution_count": 1,
   "metadata": {},
   "outputs": [],
   "source": [
    "def palindromo(n: int) -> bool:\n",
    "    \"\"\"Identifica se um numero informado é palíndromo.\n",
    "    \"\"\"\n",
    "    \n",
    "    numTxt = list(str(n))\n",
    "\n",
    "    met = len(numTxt) // 2\n",
    "\n",
    "    for pos in range(met):\n",
    "        if numTxt[pos] != numTxt[-pos-1]:\n",
    "            return False\n",
    "        \n",
    "    return True"
   ]
  },
  {
   "cell_type": "code",
   "execution_count": 9,
   "metadata": {},
   "outputs": [
    {
     "data": {
      "text/plain": [
       "906609"
      ]
     },
     "execution_count": 9,
     "metadata": {},
     "output_type": "execute_result"
    }
   ],
   "source": [
    "continua = True\n",
    "base = 999\n",
    "pal = 0\n",
    "while base > 99 and continua:\n",
    "    for multi in range(base, 99, -1):\n",
    "        num = base * multi\n",
    "        # if num == 906609:\n",
    "        #     pritn(base, multi)\n",
    "        if palindromo(num) and num > pal:\n",
    "            pal = num\n",
    "            break\n",
    "    base -= 1\n",
    "\n",
    "# print(f'Maior palíndromo: {num:,}')\n",
    "# print(f'Conseguido a partir dos números: {fator1} e {fator2}')\n",
    "pal\n"
   ]
  },
  {
   "cell_type": "code",
   "execution_count": null,
   "metadata": {},
   "outputs": [],
   "source": [
    "list(range(3, 0, -1))"
   ]
  },
  {
   "cell_type": "code",
   "execution_count": 10,
   "metadata": {},
   "outputs": [],
   "source": [
    "def palindromo2(n: int) -> bool:\n",
    "    \"\"\"Identifica se um numero informado é palíndromo.\n",
    "    \"\"\"\n",
    "    \n",
    "    numTxt = list(str(n))\n",
    "\n",
    "    if numTxt == numTxt[::-1]:\n",
    "        return True\n",
    "    else:\n",
    "        return False"
   ]
  },
  {
   "cell_type": "code",
   "execution_count": 12,
   "metadata": {},
   "outputs": [
    {
     "name": "stdout",
     "output_type": "stream",
     "text": [
      "906609\n"
     ]
    }
   ],
   "source": [
    "continua = True\n",
    "base = 999\n",
    "pal = 0\n",
    "while base > 99 and continua:\n",
    "    for multi in range(base, 99, -1):\n",
    "        num = base * multi\n",
    "        if palindromo2(num) and num > pal:\n",
    "            pal = num\n",
    "            break\n",
    "    base -= 1\n",
    "\n",
    "print(pal)"
   ]
  }
 ],
 "metadata": {
  "kernelspec": {
   "display_name": "Python 3",
   "language": "python",
   "name": "python3"
  },
  "language_info": {
   "codemirror_mode": {
    "name": "ipython",
    "version": 3
   },
   "file_extension": ".py",
   "mimetype": "text/x-python",
   "name": "python",
   "nbconvert_exporter": "python",
   "pygments_lexer": "ipython3",
   "version": "3.11.1"
  }
 },
 "nbformat": 4,
 "nbformat_minor": 2
}
