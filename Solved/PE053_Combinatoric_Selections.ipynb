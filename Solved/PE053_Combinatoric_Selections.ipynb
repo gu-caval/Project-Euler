{
 "cells": [
  {
   "cell_type": "markdown",
   "id": "62bbbe38",
   "metadata": {},
   "source": [
    "There are exactly ten ways of selecting three from five, 12345:<br><br>\n",
    "123, 124, 125, 134, 135, 145, 234, 235, 245, and 345<br><br>\n",
    "In combinatorics, we use the notation, $\\displaystyle \\binom 5 3 = 10$.<br><br>\n",
    "In general, $\\displaystyle \\binom n r = \\dfrac{n!}{r!(n-r)!}$, where $r \\le n$, $n! = n \\times (n-1) \\times ... \\times 3 \\times 2 \\times 1$, and $0! = 1$.<br><br>\n",
    "\n",
    "It is not until $n = 23$, that a value exceeds one-million: $\\displaystyle \\binom {23} {10} = 1144066$.<br><br>\n",
    "How many, not necessarily distinct, values of $\\displaystyle \\binom n r$ for $1 \\le n \\le 100$, are greater than one-million?"
   ]
  },
  {
   "cell_type": "code",
   "execution_count": 2,
   "id": "7dc2a70b",
   "metadata": {},
   "outputs": [],
   "source": [
    "import math"
   ]
  },
  {
   "cell_type": "code",
   "execution_count": 7,
   "id": "df530494",
   "metadata": {},
   "outputs": [
    {
     "name": "stdout",
     "output_type": "stream",
     "text": [
      "4075\n"
     ]
    }
   ],
   "source": [
    "count = 0\n",
    "for n in range(1, 101):\n",
    "    if n % 2 == 0:\n",
    "        limit = (n // 2) + 1\n",
    "    else:\n",
    "        limit = ((n+1) // 2) + 1\n",
    "    for r in range(1, n+1):\n",
    "        if math.comb(n, r) > 10**6:\n",
    "            # if r == limit:\n",
    "            #     count += 1\n",
    "            # else:\n",
    "            #     count += 2\n",
    "            count += 1\n",
    "\n",
    "print(count)"
   ]
  }
 ],
 "metadata": {
  "kernelspec": {
   "display_name": "Python 3",
   "language": "python",
   "name": "python3"
  },
  "language_info": {
   "codemirror_mode": {
    "name": "ipython",
    "version": 3
   },
   "file_extension": ".py",
   "mimetype": "text/x-python",
   "name": "python",
   "nbconvert_exporter": "python",
   "pygments_lexer": "ipython3",
   "version": "3.11.1"
  }
 },
 "nbformat": 4,
 "nbformat_minor": 5
}
