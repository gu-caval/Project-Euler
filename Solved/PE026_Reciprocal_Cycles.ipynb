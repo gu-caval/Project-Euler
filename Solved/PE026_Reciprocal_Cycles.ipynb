{
 "cells": [
  {
   "cell_type": "markdown",
   "id": "ddc80dda",
   "metadata": {},
   "source": [
    "A unit fraction contains $1$ in the numerator. The decimal representation of the unit fractions with denominators $2$ to $10$ are given:\n",
    "\\begin{align}\n",
    "1/2 = 0.5\\\\\n",
    "1/3 =0.(3)\\\\\n",
    "1/4 =0.25\\\\\n",
    "1/5 = 0.2\\\\\n",
    "1/6 = 0.1(6)\\\\\n",
    "1/7 = 0.(142857)\\\\\n",
    "1/8 = 0.125\\\\\n",
    "1/9 = 0.(1)\\\\\n",
    "1/10 = 0.1\n",
    "\\end{align}\n",
    "Where $0.1(6)$ means $0.166666\\cdots$, and has a $1$-digit recurring cycle. It can be seen that $1/7$ has a $6$-digit recurring cycle.<br>\n",
    "Find the value of $d \\lt 1000$ for which $1/d$ contains the longest recurring cycle in its decimal fraction part."
   ]
  },
  {
   "cell_type": "code",
   "execution_count": null,
   "id": "2ccb8b4c",
   "metadata": {},
   "outputs": [
    {
     "name": "stdout",
     "output_type": "stream",
     "text": [
      "Recurring sequence is 142857\n"
     ]
    }
   ],
   "source": [
    "def fractionToDecimal(numr, denr):\n",
    "\n",
    "    # Initialize result\n",
    "    res = \"\"\n",
    "\n",
    "    # Create a map to store already seen\n",
    "    # remainders. Remainder is used as key\n",
    "    # and its position in result is stored\n",
    "    # as value. Note that we need position\n",
    "    # for cases like 1/6.  In this case,\n",
    "    # the recurring sequence doesn't start\n",
    "    # from first remainder.\n",
    "    mp = {}\n",
    "\n",
    "    # Find first remainder\n",
    "    rem = numr % denr\n",
    "\n",
    "    # Keep finding remainder until either\n",
    "    # remainder becomes 0 or repeats\n",
    "    while ((rem != 0) and (rem not in mp)):\n",
    "\n",
    "        # Store this remainder\n",
    "        mp[rem] = len(res)\n",
    "\n",
    "        # Multiply remainder with 10\n",
    "        rem = rem * 10\n",
    "\n",
    "        # Append rem / denr to result\n",
    "        res_part = rem // denr\n",
    "        res += str(res_part)\n",
    "\n",
    "        # Update remainder\n",
    "        rem = rem % denr\n",
    "\n",
    "    if (rem == 0):\n",
    "        return \"\"\n",
    "    else:\n",
    "        return res[mp[rem]:]\n",
    "\n"
   ]
  },
  {
   "cell_type": "code",
   "execution_count": 3,
   "id": "b31f7044",
   "metadata": {},
   "outputs": [
    {
     "name": "stdout",
     "output_type": "stream",
     "text": [
      "the longest cycle has 982 digits and it happens with denominator 983\n"
     ]
    }
   ],
   "source": [
    "longest = 0\n",
    "\n",
    "for den in range(3,1000):\n",
    "    res = fractionToDecimal(1, den)\n",
    "    if len(res)>longest:\n",
    "        longest=len(res)\n",
    "        d = den\n",
    "\n",
    "print(f\"the longest cycle has {longest} digits and it happens with denominator {d}\")"
   ]
  }
 ],
 "metadata": {
  "kernelspec": {
   "display_name": "Python 3",
   "language": "python",
   "name": "python3"
  },
  "language_info": {
   "codemirror_mode": {
    "name": "ipython",
    "version": 3
   },
   "file_extension": ".py",
   "mimetype": "text/x-python",
   "name": "python",
   "nbconvert_exporter": "python",
   "pygments_lexer": "ipython3",
   "version": "3.11.1"
  }
 },
 "nbformat": 4,
 "nbformat_minor": 5
}
