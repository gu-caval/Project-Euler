{
 "cells": [
  {
   "cell_type": "markdown",
   "id": "c98700f7",
   "metadata": {},
   "source": [
    "Three distinct points are plotted at random on a Cartesian plane, for which $-1000 \\le x, y \\le 1000$, such that a triangle is formed.\n",
    "Consider the following two triangles:\n",
    "\\begin{gather}\n",
    "A(-340,495), B(-153,-910), C(835,-947)\\\\\n",
    "X(-175,41), Y(-421,-714), Z(574,-645)\n",
    "\\end{gather}\n",
    "It can be verified that triangle $ABC$ contains the origin, whereas triangle $XYZ$ does not.\n",
    "Using <a href=\"resources/documents/0102_triangles.txt\">triangles.txt</a> (right click and 'Save Link/Target As...'), a 27K text file containing the co-ordinates of one thousand \"random\" triangles, find the number of triangles for which the interior contains the origin.\n",
    "<p class=\"smaller\">NOTE: The first two examples in the file represent the triangles in the example given above."
   ]
  },
  {
   "cell_type": "code",
   "execution_count": 16,
   "id": "6c49858c",
   "metadata": {},
   "outputs": [],
   "source": [
    "def area(u: tuple, v: tuple, w: tuple):\n",
    "    return abs(u[0] * (v[1] - w[1]) + v[0] * (w[1] - u[1]) + w[0] * (u[1] - v[1])) /2\n",
    "\n",
    "def check(v: tuple, v0: tuple, v1: tuple, v2: tuple) -> bool:\n",
    "    area_tr = area(v0, v1, v2)\n",
    "    a1 = area(v, v0, v1)\n",
    "    a2 = area(v, v1, v2)\n",
    "    a3 = area(v, v2, v0)\n",
    "    temp = a1 + a2 + a3\n",
    "    return area_tr == (a1 + a2 + a3)"
   ]
  },
  {
   "cell_type": "code",
   "execution_count": 17,
   "id": "baaa57d0",
   "metadata": {},
   "outputs": [
    {
     "name": "stdout",
     "output_type": "stream",
     "text": [
      "228\n"
     ]
    }
   ],
   "source": [
    "with open('PE102_triangles.txt', 'r') as my_file:\n",
    "    triangles = my_file.read().split()\n",
    "\n",
    "origin = (0, 0)\n",
    "count = 0\n",
    "\n",
    "for tr in triangles:\n",
    "    tr = [float(i) for i in tr.split(',')]\n",
    "    v0 = (tr[0], tr[1])\n",
    "    v1 = (tr[2], tr[3])\n",
    "    v2 = (tr[4], tr[5])\n",
    "    if check(origin, v0, v1, v2):\n",
    "        count += 1\n",
    "\n",
    "print(count)"
   ]
  }
 ],
 "metadata": {
  "kernelspec": {
   "display_name": "Python 3",
   "language": "python",
   "name": "python3"
  },
  "language_info": {
   "codemirror_mode": {
    "name": "ipython",
    "version": 3
   },
   "file_extension": ".py",
   "mimetype": "text/x-python",
   "name": "python",
   "nbconvert_exporter": "python",
   "pygments_lexer": "ipython3",
   "version": "3.11.1"
  }
 },
 "nbformat": 4,
 "nbformat_minor": 5
}
