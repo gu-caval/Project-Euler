{
 "cells": [
  {
   "cell_type": "markdown",
   "metadata": {},
   "source": [
    "The number 3797 has an interesting property. Being prime itself, it is possible to continuously remove digits from left to right, and remain prime at each stage: 3797, 797, 97, and 7. Similarly we can work from right to left: 3797, 379, 37, and 3.\n",
    "\n",
    "Find the sum of the only eleven primes that are both truncatable from left to right and right to left.\n",
    "\n",
    "NOTE: 2, 3, 5, and 7 are not considered to be truncatable primes."
   ]
  },
  {
   "cell_type": "code",
   "execution_count": 1,
   "metadata": {},
   "outputs": [],
   "source": [
    "def primes_gen(max=None):\n",
    "    if max < 2:\n",
    "        return None\n",
    "    \n",
    "    primos = set()\n",
    "    primos.add(2)\n",
    "    \n",
    "    if max == 2:\n",
    "        return 2\n",
    "    else:\n",
    "        yield 2\n",
    "    \n",
    "\n",
    "    valor = 3\n",
    "    while valor <= max:\n",
    "        validador = True\n",
    "        for p in primos:\n",
    "            if valor%p == 0:\n",
    "                validador = False\n",
    "                break\n",
    "\n",
    "        if validador:\n",
    "            primos.add(valor)\n",
    "            yield valor\n",
    "            \n",
    "        valor += 2"
   ]
  },
  {
   "cell_type": "code",
   "execution_count": 2,
   "metadata": {},
   "outputs": [],
   "source": [
    "def test_primes(num: int, direction=None) -> bool:\n",
    "    # primes_g = primes_gen(1000000)\n",
    "    # primes_list = [i for i in primes_g]\n",
    "\n",
    "    if num < 10:\n",
    "        return num in primes_list\n",
    "    elif not direction:\n",
    "        num_str = str(num)\n",
    "        return (num in primes_list) and test_primes(int(num_str[1:]), direction='right') and test_primes(int(num_str[:-1]), direction='left')\n",
    "    elif direction == 'right':\n",
    "        num_str = str(num)\n",
    "        return (num in primes_list) and test_primes(int(num_str[1:]), direction='right')\n",
    "    elif direction == 'left':\n",
    "        num_str = str(num)\n",
    "        return (num in primes_list) and test_primes(int(num_str[:-1]), direction='left')\n",
    "    else:\n",
    "        raise Exception('Erro no teste de primos.')\n",
    "    "
   ]
  },
  {
   "cell_type": "code",
   "execution_count": 3,
   "metadata": {},
   "outputs": [
    {
     "name": "stdout",
     "output_type": "stream",
     "text": [
      "23 is truncatable.\n",
      "37 is truncatable.\n",
      "53 is truncatable.\n",
      "73 is truncatable.\n",
      "313 is truncatable.\n",
      "317 is truncatable.\n",
      "373 is truncatable.\n",
      "797 is truncatable.\n",
      "3137 is truncatable.\n",
      "3797 is truncatable.\n",
      "739397 is truncatable.\n",
      "11 truncatable primes were found, and they are:\n",
      "[23, 37, 53, 73, 313, 317, 373, 797, 3137, 3797, 739397]\n",
      "Their sum is equal to 748317.\n"
     ]
    }
   ],
   "source": [
    "primes_g = primes_gen(max=1000000)\n",
    "primes_list = [i for i in primes_g]\n",
    "\n",
    "\n",
    "truncatable = []\n",
    "\n",
    "for pr in primes_list:\n",
    "    if pr <= 7:\n",
    "        continue\n",
    "\n",
    "    if test_primes(pr):\n",
    "        print(f'{pr} is truncatable.')\n",
    "        truncatable.append(pr)\n",
    "\n",
    "    if len(truncatable) == 11:\n",
    "        break\n",
    "\n",
    "\n",
    "print(f'{len(truncatable)} truncatable primes were found, and they are:\\n{truncatable}')\n",
    "print(f'Their sum is equal to {sum(truncatable)}.')"
   ]
  },
  {
   "cell_type": "code",
   "execution_count": null,
   "metadata": {},
   "outputs": [],
   "source": [
    "primes_g = primes_gen(max=1000000)\n",
    "primes_list = [i for i in primes_g]\n",
    "print(f'O total de números primos é: {len(primes_list)=}')\n",
    "print(f'O maior primo é: {primes_list[-1]=}')"
   ]
  },
  {
   "cell_type": "code",
   "execution_count": null,
   "metadata": {},
   "outputs": [],
   "source": [
    "print(f'O total de números primos é: {len(primes_list)=}')\n",
    "print(f'O maior primo é: {primes_list[-1]=}')"
   ]
  },
  {
   "cell_type": "code",
   "execution_count": null,
   "metadata": {},
   "outputs": [],
   "source": [
    "primes_list.index(739397)"
   ]
  },
  {
   "cell_type": "code",
   "execution_count": null,
   "metadata": {},
   "outputs": [],
   "source": [
    "test_primes(739397)"
   ]
  }
 ],
 "metadata": {
  "kernelspec": {
   "display_name": "Python 3",
   "language": "python",
   "name": "python3"
  },
  "language_info": {
   "codemirror_mode": {
    "name": "ipython",
    "version": 3
   },
   "file_extension": ".py",
   "mimetype": "text/x-python",
   "name": "python",
   "nbconvert_exporter": "python",
   "pygments_lexer": "ipython3",
   "version": "3.11.1"
  }
 },
 "nbformat": 4,
 "nbformat_minor": 2
}
