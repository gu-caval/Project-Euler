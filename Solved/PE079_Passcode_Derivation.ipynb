{
 "cells": [
  {
   "cell_type": "markdown",
   "id": "1c679602",
   "metadata": {},
   "source": [
    "A common security method used for online banking is to ask the user for three random characters from a passcode. For example, if the passcode was 531278, they may ask for the 2nd, 3rd, and 5th characters; the expected reply would be: 317.<br><br>\n",
    "The text file, <a href=\"PE079_keylog.txt\">keylog.txt</a>, contains fifty successful login attempts.<br><br>\n",
    "Given that the three characters are always asked for in order, analyse the file so as to determine the shortest possible secret passcode of unknown length."
   ]
  },
  {
   "cell_type": "code",
   "execution_count": 61,
   "id": "f701aa1f",
   "metadata": {},
   "outputs": [],
   "source": [
    "import collections"
   ]
  },
  {
   "cell_type": "code",
   "execution_count": 62,
   "id": "d800f635",
   "metadata": {},
   "outputs": [],
   "source": [
    "with open('PE079_keylog.txt', 'r') as my_file:\n",
    "    keylog = my_file.read().split()"
   ]
  },
  {
   "cell_type": "code",
   "execution_count": 63,
   "id": "a123b638",
   "metadata": {},
   "outputs": [],
   "source": [
    "p1 = collections.defaultdict(int)\n",
    "p2 = collections.defaultdict(int)\n",
    "p3 = collections.defaultdict(int)\n",
    "all_digits = collections.defaultdict(int)\n",
    "\n",
    "for st in keylog:\n",
    "    p1[int(st[0])] += 1\n",
    "    p2[int(st[1])] += 1\n",
    "    p3[int(st[2])] += 1\n",
    "\n",
    "    for s in st:\n",
    "        all_digits[int(s)] += 1\n",
    "\n",
    "final = [0 for _ in range(len(all_digits))]"
   ]
  },
  {
   "cell_type": "code",
   "execution_count": 64,
   "id": "bbf219e7",
   "metadata": {},
   "outputs": [
    {
     "name": "stdout",
     "output_type": "stream",
     "text": [
      "defaultdict(<class 'int'>, {3: 14, 1: 22, 9: 21, 6: 23, 8: 16, 0: 16, 2: 17, 7: 21})\n",
      "defaultdict(<class 'int'>, {3: 12, 6: 8, 1: 6, 7: 21, 2: 2, 8: 1})\n",
      "defaultdict(<class 'int'>, {1: 15, 8: 9, 9: 4, 2: 10, 6: 10, 3: 2})\n",
      "defaultdict(<class 'int'>, {9: 17, 0: 16, 2: 5, 8: 6, 6: 5, 1: 1})\n"
     ]
    }
   ],
   "source": [
    "print(all_digits)\n",
    "print(p1)\n",
    "print(p2)\n",
    "print(p3)"
   ]
  },
  {
   "cell_type": "code",
   "execution_count": 65,
   "id": "9dd30d1a",
   "metadata": {},
   "outputs": [
    {
     "data": {
      "text/plain": [
       "defaultdict(int,\n",
       "            {3: (12, 2, 0),\n",
       "             1: (6, 15, 1),\n",
       "             9: (0, 4, 17),\n",
       "             6: (8, 10, 5),\n",
       "             8: (1, 9, 6),\n",
       "             0: (0, 0, 16),\n",
       "             2: (2, 10, 5),\n",
       "             7: (21, 0, 0)})"
      ]
     },
     "execution_count": 65,
     "metadata": {},
     "output_type": "execute_result"
    }
   ],
   "source": [
    "statistics = collections.defaultdict(int)\n",
    "\n",
    "for i in all_digits.keys():\n",
    "    statistics[i] = (p1[i], p2[i], p3[i])\n",
    "\n",
    "statistics"
   ]
  },
  {
   "cell_type": "code",
   "execution_count": 66,
   "id": "cb938527",
   "metadata": {},
   "outputs": [
    {
     "data": {
      "text/plain": [
       "[7, 0, 0, 0, 0, 0, 0, 0]"
      ]
     },
     "execution_count": 66,
     "metadata": {},
     "output_type": "execute_result"
    }
   ],
   "source": [
    "final[7] = 0\n",
    "final[0] = 7\n",
    "statistics.pop(0)\n",
    "statistics.pop(7)\n",
    "final"
   ]
  },
  {
   "cell_type": "code",
   "execution_count": 67,
   "id": "bd547f66",
   "metadata": {},
   "outputs": [
    {
     "data": {
      "text/plain": [
       "defaultdict(int,\n",
       "            {3: (12, 2, 0),\n",
       "             1: (6, 15, 1),\n",
       "             9: (0, 4, 17),\n",
       "             6: (8, 10, 5),\n",
       "             8: (1, 9, 6),\n",
       "             2: (2, 10, 5)})"
      ]
     },
     "execution_count": 67,
     "metadata": {},
     "output_type": "execute_result"
    }
   ],
   "source": [
    "statistics"
   ]
  },
  {
   "cell_type": "code",
   "execution_count": 68,
   "id": "5cf46f4d",
   "metadata": {},
   "outputs": [
    {
     "name": "stdout",
     "output_type": "stream",
     "text": [
      "(3, (12, 2, 0))\n",
      "(1, (6, 15, 1))\n",
      "(9, (0, 4, 17))\n",
      "(6, (8, 10, 5))\n",
      "(8, (1, 9, 6))\n",
      "(2, (2, 10, 5))\n",
      "[7, 3, 0, 0, 0, 0, 9, 0]\n"
     ]
    }
   ],
   "source": [
    "final[1] = 3\n",
    "final[6] = 9\n",
    "# statistics.pop(3)\n",
    "# statistics.pop(9)\n",
    "for i in statistics.items():\n",
    "    print(i)\n",
    "print(final)"
   ]
  },
  {
   "cell_type": "code",
   "execution_count": 69,
   "id": "1f6f0210",
   "metadata": {},
   "outputs": [
    {
     "name": "stdout",
     "output_type": "stream",
     "text": [
      "(3, (12, 2, 0))\n",
      "(9, (0, 4, 17))\n",
      "(6, (8, 10, 5))\n",
      "(2, (2, 10, 5))\n",
      "[7, 3, 1, 0, 0, 8, 9, 0]\n"
     ]
    }
   ],
   "source": [
    "final[2] = 1\n",
    "final[5] = 8\n",
    "statistics.pop(1)\n",
    "statistics.pop(8)\n",
    "for i in statistics.items():\n",
    "    print(i)\n",
    "print(final)"
   ]
  },
  {
   "cell_type": "code",
   "execution_count": 70,
   "id": "2239686a",
   "metadata": {},
   "outputs": [
    {
     "name": "stdout",
     "output_type": "stream",
     "text": [
      "73162890\n"
     ]
    }
   ],
   "source": [
    "final[3] = 6\n",
    "final[4] = 2\n",
    "final = ''.join([str(i) for i in final])\n",
    "print(final)"
   ]
  }
 ],
 "metadata": {
  "kernelspec": {
   "display_name": "Python 3",
   "language": "python",
   "name": "python3"
  },
  "language_info": {
   "codemirror_mode": {
    "name": "ipython",
    "version": 3
   },
   "file_extension": ".py",
   "mimetype": "text/x-python",
   "name": "python",
   "nbconvert_exporter": "python",
   "pygments_lexer": "ipython3",
   "version": "3.11.1"
  }
 },
 "nbformat": 4,
 "nbformat_minor": 5
}
