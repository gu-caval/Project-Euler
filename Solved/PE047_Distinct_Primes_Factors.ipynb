{
 "cells": [
  {
   "cell_type": "markdown",
   "id": "164b23ce",
   "metadata": {},
   "source": [
    "The first two consecutive numbers to have two distinct prime factors are:\n",
    "\\begin{align}\n",
    "14 = 2 \\times 7\\\\\n",
    "15 = 3 \\times 5.\n",
    "\\end{align}\n",
    "The first three consecutive numbers to have three distinct prime factors are:\n",
    "\\begin{align}\n",
    "644 = 2^2 \\times 7 \\times 23\\\\\n",
    "645 = 3 \\times 5 \\times 43\\\\\n",
    "646 = 2 \\times 17 \\times 19.\n",
    "\\end{align}\n",
    "Find the first four consecutive integers to have four distinct prime factors each. What is the first of these numbers?"
   ]
  },
  {
   "cell_type": "code",
   "execution_count": 1,
   "id": "3aacb687",
   "metadata": {},
   "outputs": [],
   "source": [
    "from itertools import takewhile\n"
   ]
  },
  {
   "cell_type": "code",
   "execution_count": 2,
   "id": "d080424b",
   "metadata": {},
   "outputs": [],
   "source": [
    "def primes_generator (max: int):\n",
    "    # if type(max) not int:\n",
    "    #     raise TypeError('argument is not an integer')\n",
    "    \n",
    "    # Initializes sieve\n",
    "    sieve = [0] * (max + 2)\n",
    "    # Marks all even numbers > 2 as not primes\n",
    "    for n in range(4, max+1, 2):\n",
    "        sieve[n] = 1\n",
    "    # Tests the numbers not marked as not primes, what is left is the primes at the spots with 0\n",
    "    for n in range(3, max, 2):\n",
    "        if not sieve[n]:\n",
    "            for m in range(n**2, max+1, 2*n):\n",
    "                sieve[m] = 1\n",
    "    \n",
    "    \n",
    "    for n in range(2, max+1, 1):\n",
    "        if not sieve[n]:\n",
    "            yield n"
   ]
  },
  {
   "cell_type": "code",
   "execution_count": 7,
   "id": "aadb6c17",
   "metadata": {},
   "outputs": [],
   "source": [
    "def prime_factors(num: int) -> set:\n",
    "    global primes, factors_per_number\n",
    "\n",
    "    factors = set()\n",
    "\n",
    "    if num%2 == 0:\n",
    "        max_test = int(num / 2)\n",
    "    else:\n",
    "        max_test = int(num/3)\n",
    "    \n",
    "    for n in takewhile(lambda x: x <= max_test, primes):\n",
    "        if (num % n) == 0:\n",
    "            factors.add(n)\n",
    "            if (num / n) in factors_per_number.keys():\n",
    "                for f in factors_per_number[num/n]:\n",
    "                    factors.add(f)\n",
    "                break\n",
    "                \n",
    "    \n",
    "    if len(factors) == 0:\n",
    "        factors.add(num)\n",
    "    factors_per_number[num] = factors\n",
    "    \n",
    "    return factors"
   ]
  },
  {
   "cell_type": "code",
   "execution_count": 20,
   "id": "069abffe",
   "metadata": {},
   "outputs": [
    {
     "name": "stdout",
     "output_type": "stream",
     "text": [
      "O primeiro dos 4 é 134043.\n"
     ]
    }
   ],
   "source": [
    "current = 2*3*5*7 # the first number that has 4 prime factors\n",
    "count = 0\n",
    "primes = [i for i in primes_generator(1000)]\n",
    "factors_per_number = dict()\n",
    "first = 0\n",
    "\n",
    "try:\n",
    "    while True:\n",
    "        factors = prime_factors(current)\n",
    "        if len(factors) == 4:\n",
    "            if not first:\n",
    "                first = current\n",
    "            count += 1\n",
    "        else:\n",
    "            first = 0\n",
    "            count = 0\n",
    "            current += 1\n",
    "            continue\n",
    "            \n",
    "        if count == 4:\n",
    "            break\n",
    "\n",
    "        current += 1\n",
    "\n",
    "        if current > (max(primes)**2):\n",
    "            raise Exception(f'Reached max possible. Restart the primes with greater numbers. Stoped at {current}')\n",
    "    print(f'O primeiro dos 4 é {first}.')\n",
    "except Exception as error:\n",
    "    print(error)\n",
    "\n",
    "\n",
    "\n"
   ]
  },
  {
   "cell_type": "code",
   "execution_count": null,
   "id": "21c71d7b",
   "metadata": {},
   "outputs": [],
   "source": [
    "current"
   ]
  },
  {
   "cell_type": "code",
   "execution_count": null,
   "id": "b2b34eda",
   "metadata": {},
   "outputs": [],
   "source": []
  }
 ],
 "metadata": {
  "kernelspec": {
   "display_name": "Python 3",
   "language": "python",
   "name": "python3"
  },
  "language_info": {
   "codemirror_mode": {
    "name": "ipython",
    "version": 3
   },
   "file_extension": ".py",
   "mimetype": "text/x-python",
   "name": "python",
   "nbconvert_exporter": "python",
   "pygments_lexer": "ipython3",
   "version": "3.11.1"
  }
 },
 "nbformat": 4,
 "nbformat_minor": 5
}
