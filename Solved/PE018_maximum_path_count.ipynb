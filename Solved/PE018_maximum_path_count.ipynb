{
 "cells": [
  {
   "cell_type": "code",
   "execution_count": 46,
   "metadata": {},
   "outputs": [],
   "source": [
    "class Node:\n",
    "    def __init__ (self, weigth, nextNode0 = None, nextNode1 = None) -> None:\n",
    "        self.weigth = weigth\n",
    "        self.nextNode0 = nextNode0\n",
    "        self.nextNode1 = nextNode1\n",
    "        self.distance = weigth\n",
    "\n",
    "    def set_next_nodes (self, nextNode0 = None, nextNode1 = None) -> None:\n",
    "        if nextNode0:\n",
    "            self.nextNode0 = nextNode0\n",
    "        if nextNode1:\n",
    "            self.nextNode1 = nextNode1\n",
    "\n",
    "    def get_next_nodes (self) -> tuple:\n",
    "        return (self.nextNode0, self.nextNode1)\n",
    "\n",
    "    def get_weigth(self) -> int:\n",
    "        return self.weigth\n",
    "\n",
    "    def set_weigth(self, new_weigth) -> None:\n",
    "        self.weigth = new_weigth\n",
    "\n",
    "    def set_distance(self, distance: int) -> None:\n",
    "        self.distance = distance\n",
    "\n",
    "    def get_distance(self) -> int:\n",
    "        return self.distance\n",
    "   \n"
   ]
  },
  {
   "cell_type": "code",
   "execution_count": 47,
   "metadata": {},
   "outputs": [],
   "source": [
    "class PathCount:\n",
    "    def __init__ (self, weigth) -> None:\n",
    "        self.headNode = Node(weigth)\n",
    "        self.lastLine = [self.headNode]\n",
    "\n",
    "    def get_last_line(self) -> list:\n",
    "        return self.lastLine\n",
    "    \n",
    "    def add_last_line(self, listOfWeiths: list[int]) -> None:\n",
    "        currentLL = self.lastLine # current Last Line\n",
    "        sizeCurrent = len(currentLL)\n",
    "        sizeNew = len(listOfWeiths)\n",
    "        if sizeCurrent != sizeNew-1:\n",
    "            raise Exception(f\"List not of the right size (is {sizeNew} but should be {sizeCurrent+1}).\")\n",
    "        \n",
    "        newLine = []\n",
    "        \n",
    "        # Create new nodes, attributing them to the current last line\n",
    "        for pos, nod in enumerate(currentLL):\n",
    "            if pos == 0:\n",
    "                newNode0 = Node(listOfWeiths[pos])\n",
    "                newLine.append(newNode0)\n",
    "\n",
    "            newNode1 = Node(listOfWeiths[pos+1])\n",
    "            newLine.append(newNode1)\n",
    "            nod.set_next_nodes(nextNode0=newLine[pos], nextNode1=newLine[pos+1])\n",
    "\n",
    "        # Updates the distance at all nodes at the new line created\n",
    "        for pos, nod in enumerate(newLine):\n",
    "            size0 = size1 = float('-inf')\n",
    "            if pos > 0:\n",
    "                size0 = currentLL[pos-1].get_distance()\n",
    "\n",
    "            if pos < (sizeNew-1):\n",
    "                size1 = currentLL[pos].get_distance()\n",
    "\n",
    "            nod.set_distance(nod.get_weigth() + max(size0, size1))\n",
    "\n",
    "\n",
    "\n",
    "        self.lastLine = newLine.copy()"
   ]
  },
  {
   "cell_type": "code",
   "execution_count": 48,
   "metadata": {},
   "outputs": [],
   "source": [
    "path = PathCount(5)"
   ]
  },
  {
   "cell_type": "code",
   "execution_count": 49,
   "metadata": {},
   "outputs": [],
   "source": [
    "path.add_last_line([10, 20])\n"
   ]
  },
  {
   "cell_type": "code",
   "execution_count": 51,
   "metadata": {},
   "outputs": [],
   "source": [
    "path.add_last_line([1, 2, 3])"
   ]
  },
  {
   "cell_type": "code",
   "execution_count": 53,
   "metadata": {},
   "outputs": [],
   "source": [
    "path.add_last_line([1,2,3,4])"
   ]
  },
  {
   "cell_type": "code",
   "execution_count": 54,
   "metadata": {},
   "outputs": [
    {
     "data": {
      "text/plain": [
       "[17, 29, 31, 32]"
      ]
     },
     "execution_count": 54,
     "metadata": {},
     "output_type": "execute_result"
    }
   ],
   "source": [
    "line = path.get_last_line()\n",
    "\n",
    "line_w = [w.get_distance() for w in line]\n",
    "\n",
    "line_w"
   ]
  },
  {
   "cell_type": "code",
   "execution_count": 74,
   "metadata": {},
   "outputs": [],
   "source": [
    "input_str = \"\"\"75\n",
    "95 64\n",
    "17 47 82\n",
    "18 35 87 10\n",
    "20 04 82 47 65\n",
    "19 01 23 75 03 34\n",
    "88 02 77 73 07 63 67\n",
    "99 65 04 28 06 16 70 92\n",
    "41 41 26 56 83 40 80 70 33\n",
    "41 48 72 33 47 32 37 16 94 29\n",
    "53 71 44 65 25 43 91 52 97 51 14\n",
    "70 11 33 28 77 73 17 78 39 68 17 57\n",
    "91 71 52 38 17 14 91 43 58 50 27 29 48\n",
    "63 66 04 68 89 53 67 30 73 16 69 87 40 31\n",
    "04 62 98 27 23 09 70 98 73 93 38 53 60 04 23\"\"\"\n",
    "\n",
    "initial = input_str.strip().splitlines()\n",
    "\n",
    "initial_int = []\n",
    "\n",
    "for line in initial:\n",
    "    tmp = [int(num) for num in line.split()]\n",
    "    initial_int.append(tmp)\n",
    "\n",
    "initial_copy = initial_int.copy()\n"
   ]
  },
  {
   "cell_type": "code",
   "execution_count": null,
   "metadata": {},
   "outputs": [
    {
     "data": {
      "text/plain": [
       "[[75],\n",
       " [95, 64],\n",
       " [17, 47, 82],\n",
       " [18, 35, 87, 10],\n",
       " [20, 4, 82, 47, 65],\n",
       " [19, 1, 23, 75, 3, 34],\n",
       " [88, 2, 77, 73, 7, 63, 67],\n",
       " [99, 65, 4, 28, 6, 16, 70, 92],\n",
       " [41, 41, 26, 56, 83, 40, 80, 70, 33],\n",
       " [41, 48, 72, 33, 47, 32, 37, 16, 94, 29],\n",
       " [53, 71, 44, 65, 25, 43, 91, 52, 97, 51, 14],\n",
       " [70, 11, 33, 28, 77, 73, 17, 78, 39, 68, 17, 57],\n",
       " [91, 71, 52, 38, 17, 14, 91, 43, 58, 50, 27, 29, 48],\n",
       " [63, 66, 4, 68, 89, 53, 67, 30, 73, 16, 69, 87, 40, 31],\n",
       " [4, 62, 98, 27, 23, 9, 70, 98, 73, 93, 38, 53, 60, 4, 23]]"
      ]
     },
     "execution_count": 65,
     "metadata": {},
     "output_type": "execute_result"
    }
   ],
   "source": [
    "initial_int = initial_copy.copy()"
   ]
  },
  {
   "cell_type": "code",
   "execution_count": 75,
   "metadata": {},
   "outputs": [],
   "source": [
    "path = PathCount(initial_int.pop(0)[0])\n",
    "\n",
    "for line in initial_int:\n",
    "    path.add_last_line(line)\n",
    "\n",
    "last = path.get_last_line()\n",
    "            "
   ]
  },
  {
   "cell_type": "code",
   "execution_count": 76,
   "metadata": {},
   "outputs": [],
   "source": [
    "last = [dist.get_distance() for dist in last]\n",
    "greater = max(last)"
   ]
  },
  {
   "cell_type": "code",
   "execution_count": 77,
   "metadata": {},
   "outputs": [
    {
     "data": {
      "text/plain": [
       "1074"
      ]
     },
     "execution_count": 77,
     "metadata": {},
     "output_type": "execute_result"
    }
   ],
   "source": [
    "greater"
   ]
  },
  {
   "cell_type": "code",
   "execution_count": null,
   "metadata": {},
   "outputs": [],
   "source": []
  }
 ],
 "metadata": {
  "kernelspec": {
   "display_name": "Python 3",
   "language": "python",
   "name": "python3"
  },
  "language_info": {
   "codemirror_mode": {
    "name": "ipython",
    "version": 3
   },
   "file_extension": ".py",
   "mimetype": "text/x-python",
   "name": "python",
   "nbconvert_exporter": "python",
   "pygments_lexer": "ipython3",
   "version": "3.11.1"
  }
 },
 "nbformat": 4,
 "nbformat_minor": 2
}
