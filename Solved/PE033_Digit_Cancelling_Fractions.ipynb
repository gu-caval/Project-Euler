{
 "cells": [
  {
   "cell_type": "markdown",
   "id": "b7fe209b",
   "metadata": {},
   "source": [
    "The fraction $49/98$ is a curious fraction, as an inexperienced mathematician in attempting to simplify it may incorrectly believe that $49/98 = 4/8$, which is correct, is obtained by cancelling the $9$ s.<br><br>\n",
    "We shall consider fractions like, $30/50 = 3/5$, to be trivial examples.<br><br>\n",
    "There are exactly four non-trivial examples of this type of fraction, less than one in value, and containing two digits in the numerator and denominator.<br><br>\n",
    "If the product of these four fractions is given in its lowest common terms, find the value of the denominator."
   ]
  },
  {
   "cell_type": "code",
   "execution_count": 10,
   "id": "a613ceb3",
   "metadata": {},
   "outputs": [],
   "source": [
    "from math import lcm"
   ]
  },
  {
   "cell_type": "code",
   "execution_count": 6,
   "id": "8a38e457",
   "metadata": {},
   "outputs": [],
   "source": [
    "def check(num: int, den: int) -> bool:\n",
    "    frac = num / den\n",
    "    num = [int(i) for i in str(num)]\n",
    "    den = [int(i) for i in str(den)]\n",
    "    inter = set(num).intersection(set(den))\n",
    "    \n",
    "    if (length:=len(inter)) == 0:\n",
    "        return False\n",
    "    elif length == 1:\n",
    "        commom = inter.pop()\n",
    "        num.remove(commom)\n",
    "        den.remove(commom)\n",
    "        return frac == (num[0] / den[0])\n",
    "    else:\n",
    "        \n",
    "        commom1 = inter.pop()\n",
    "        num1 = num.copy()\n",
    "        num1.remove(commom1)\n",
    "        den1 = den.copy()\n",
    "        den1.remove(commom1)\n",
    "        commom2 = inter.pop()\n",
    "        num2 = num.copy()\n",
    "        num2.remove(commom2)\n",
    "        den2 = den.copy()\n",
    "        den2.remove(commom2)\n",
    "\n",
    "        test1 = (num1[0] / den1[0])\n",
    "        test2 = (num2[0] / den2[0])\n",
    "        return frac == (num1[0] / den1[0]) or frac == (num2[0] / den2[0])"
   ]
  },
  {
   "cell_type": "code",
   "execution_count": null,
   "id": "94d8baa1",
   "metadata": {},
   "outputs": [
    {
     "data": {
      "text/plain": [
       "[(16, 64), (26, 65), (19, 95), (49, 98)]"
      ]
     },
     "execution_count": 8,
     "metadata": {},
     "output_type": "execute_result"
    }
   ],
   "source": [
    "non_trivial = []\n",
    "for den in range(12,100):\n",
    "    if den % 10 == 0:\n",
    "        continue\n",
    "    for num in range(11,den):\n",
    "        if num % 10 == 0:\n",
    "            continue\n",
    "        if check(num, den):\n",
    "            non_trivial.append((num, den))\n",
    "\n",
    "non_trivial\n",
    "# calculei o resultado final manualmente"
   ]
  },
  {
   "cell_type": "code",
   "execution_count": null,
   "id": "fb9830a3",
   "metadata": {},
   "outputs": [
    {
     "data": {
      "text/plain": [
       "[1, 2]"
      ]
     },
     "execution_count": 14,
     "metadata": {},
     "output_type": "execute_result"
    }
   ],
   "source": [
    "ac = set(a)\n",
    "bc = set(b)"
   ]
  },
  {
   "cell_type": "code",
   "execution_count": 20,
   "id": "87da0af5",
   "metadata": {},
   "outputs": [
    {
     "name": "stdout",
     "output_type": "stream",
     "text": [
      "[1]\n",
      "[1, 2]\n"
     ]
    }
   ],
   "source": [
    "a = [1, 2]\n",
    "b = [2, 1]\n",
    "b = a.copy()\n",
    "a.remove(2)\n",
    "print(a)\n",
    "print(b)"
   ]
  },
  {
   "cell_type": "code",
   "execution_count": 9,
   "id": "a591640e",
   "metadata": {},
   "outputs": [
    {
     "data": {
      "text/plain": [
       "{2}"
      ]
     },
     "execution_count": 9,
     "metadata": {},
     "output_type": "execute_result"
    }
   ],
   "source": [
    "ac"
   ]
  },
  {
   "cell_type": "code",
   "execution_count": null,
   "id": "230e6387",
   "metadata": {},
   "outputs": [],
   "source": []
  }
 ],
 "metadata": {
  "kernelspec": {
   "display_name": "Python 3",
   "language": "python",
   "name": "python3"
  },
  "language_info": {
   "codemirror_mode": {
    "name": "ipython",
    "version": 3
   },
   "file_extension": ".py",
   "mimetype": "text/x-python",
   "name": "python",
   "nbconvert_exporter": "python",
   "pygments_lexer": "ipython3",
   "version": "3.11.1"
  }
 },
 "nbformat": 4,
 "nbformat_minor": 5
}
