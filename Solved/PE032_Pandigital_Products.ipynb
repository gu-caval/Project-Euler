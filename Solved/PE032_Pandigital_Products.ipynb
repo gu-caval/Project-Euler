{
 "cells": [
  {
   "cell_type": "markdown",
   "metadata": {},
   "source": [
    "We shall say that an n-digit number is pandigital if it makes use of all the digits 1 to n exactly once; for example, the 5-digit number, 15234, is 1 through 5 pandigital.\n",
    "\n",
    "The product 7254 is unusual, as the identity, 39 x 186 = 7254, containing multiplicand, multiplier, and product is 1 through 9 pandigital.\n",
    "\n",
    "Find the sum of all products whose multiplicand/multiplier/product identity can be written as a 1 through 9 pandigital.\n",
    "\n",
    "HINT: Some products can be obtained in more than one way so be sure to only include it once in your sum.\n"
   ]
  },
  {
   "cell_type": "code",
   "execution_count": 1,
   "metadata": {},
   "outputs": [],
   "source": [
    "from itertools import permutations"
   ]
  },
  {
   "cell_type": "code",
   "execution_count": null,
   "metadata": {},
   "outputs": [],
   "source": [
    "digits = [i for i in range(1,10)]\n",
    "perm = []\n",
    "perm.extend(permutations(digits, 9))"
   ]
  },
  {
   "cell_type": "code",
   "execution_count": 13,
   "metadata": {},
   "outputs": [
    {
     "name": "stdout",
     "output_type": "stream",
     "text": [
      "45228\n",
      "[(12, 483, 5796), (18, 297, 5346), (27, 198, 5346), (28, 157, 4396), (39, 186, 7254), (4, 1738, 6952), (4, 1963, 7852), (42, 138, 5796), (48, 159, 7632)]\n"
     ]
    }
   ],
   "source": [
    "products = set()\n",
    "results = []\n",
    "for a, b, c, d, e, f, g, h, i in perm:\n",
    "    multiplicand = 10 * a + b\n",
    "    multiplier = 100 * c + 10 * d + e\n",
    "    product = 1000 * f + 100 * g + 10 * h + i\n",
    "    if multiplicand*multiplier==product:\n",
    "        products.add(product)\n",
    "        results.append((multiplicand, multiplier, product))\n",
    "    \n",
    "    multiplicand = a\n",
    "    multiplier = 1000 * b + 100 * c + 10 * d + e\n",
    "    product = 1000 * f + 100 * g + 10 * h + i\n",
    "    if multiplicand*multiplier==product:\n",
    "        products.add(product)\n",
    "        results.append((multiplicand, multiplier, product))\n",
    "    \n",
    "print(sum(products))\n",
    "print(results)"
   ]
  },
  {
   "cell_type": "code",
   "execution_count": 16,
   "metadata": {},
   "outputs": [
    {
     "name": "stdout",
     "output_type": "stream",
     "text": [
      "45228\n",
      "[(12, 483, 5796), (18, 297, 5346), (27, 198, 5346), (28, 157, 4396), (39, 186, 7254), (4, 1738, 6952), (4, 1963, 7852), (42, 138, 5796), (48, 159, 7632)]\n"
     ]
    }
   ],
   "source": [
    "products = set()\n",
    "results = []\n",
    "for a, b, c, d, e, f, g, h, i in perm:\n",
    "    multiplicand = int(str(a) + str(b))\n",
    "    multiplier = int(str(c) + str(d) + str(e))\n",
    "    product = int(str(f) + str(g) + str(h) +  str(i))\n",
    "    if multiplicand*multiplier==product:\n",
    "        products.add(product)\n",
    "        results.append((multiplicand, multiplier, product))\n",
    "    \n",
    "    multiplicand = a\n",
    "    multiplier = int(str(b) + str(c) + str(d) + str(e))\n",
    "    product = int(str(f) + str(g) + str(h) + str(i))\n",
    "    if multiplicand*multiplier==product:\n",
    "        products.add(product)\n",
    "        results.append((multiplicand, multiplier, product))\n",
    "    \n",
    "print(sum(products))\n",
    "print(results)"
   ]
  },
  {
   "cell_type": "code",
   "execution_count": 9,
   "metadata": {},
   "outputs": [
    {
     "data": {
      "text/plain": [
       "'12'"
      ]
     },
     "execution_count": 9,
     "metadata": {},
     "output_type": "execute_result"
    }
   ],
   "source": [
    "str(perm[0][0]) + str(perm[0][1])"
   ]
  },
  {
   "cell_type": "code",
   "execution_count": null,
   "metadata": {},
   "outputs": [],
   "source": []
  }
 ],
 "metadata": {
  "kernelspec": {
   "display_name": "Python 3",
   "language": "python",
   "name": "python3"
  },
  "language_info": {
   "codemirror_mode": {
    "name": "ipython",
    "version": 3
   },
   "file_extension": ".py",
   "mimetype": "text/x-python",
   "name": "python",
   "nbconvert_exporter": "python",
   "pygments_lexer": "ipython3",
   "version": "3.11.1"
  }
 },
 "nbformat": 4,
 "nbformat_minor": 2
}
