{
 "cells": [
  {
   "cell_type": "code",
   "execution_count": 13,
   "metadata": {},
   "outputs": [
    {
     "data": {
      "text/plain": [
       "25502500"
      ]
     },
     "execution_count": 13,
     "metadata": {},
     "output_type": "execute_result"
    }
   ],
   "source": [
    "quad_soma = sum([i for i in range(101)])\n",
    "quad_soma *= quad_soma\n",
    "quad_soma"
   ]
  },
  {
   "cell_type": "code",
   "execution_count": 8,
   "metadata": {},
   "outputs": [],
   "source": [
    "soma_quad = sum([i*i for i in range(101)])"
   ]
  },
  {
   "cell_type": "code",
   "execution_count": 14,
   "metadata": {},
   "outputs": [
    {
     "name": "stdout",
     "output_type": "stream",
     "text": [
      "Quadrado da soma: 25502500\n",
      "Soma dos quadrados: 338350\n",
      "Diferença: 25164150\n"
     ]
    }
   ],
   "source": [
    "print(f'Quadrado da soma: {quad_soma}')\n",
    "print(f'Soma dos quadrados: {soma_quad}')\n",
    "print(f'Diferença: {quad_soma - soma_quad}')"
   ]
  },
  {
   "cell_type": "code",
   "execution_count": 6,
   "metadata": {},
   "outputs": [
    {
     "data": {
      "text/plain": [
       "[(1, 1),\n",
       " (2, 3),\n",
       " (3, 6),\n",
       " (4, 10),\n",
       " (5, 15),\n",
       " (6, 21),\n",
       " (7, 28),\n",
       " (8, 36),\n",
       " (9, 45),\n",
       " (10, 55),\n",
       " (11, 66),\n",
       " (12, 78),\n",
       " (13, 91),\n",
       " (14, 105),\n",
       " (15, 120),\n",
       " (16, 136),\n",
       " (17, 153),\n",
       " (18, 171),\n",
       " (19, 190),\n",
       " (20, 210),\n",
       " (21, 231),\n",
       " (22, 253),\n",
       " (23, 276),\n",
       " (24, 300),\n",
       " (25, 325),\n",
       " (26, 351),\n",
       " (27, 378),\n",
       " (28, 406),\n",
       " (29, 435),\n",
       " (30, 465),\n",
       " (31, 496),\n",
       " (32, 528),\n",
       " (33, 561),\n",
       " (34, 595),\n",
       " (35, 630),\n",
       " (36, 666),\n",
       " (37, 703),\n",
       " (38, 741),\n",
       " (39, 780),\n",
       " (40, 820),\n",
       " (41, 861),\n",
       " (42, 903),\n",
       " (43, 946),\n",
       " (44, 990),\n",
       " (45, 1035),\n",
       " (46, 1081),\n",
       " (47, 1128),\n",
       " (48, 1176),\n",
       " (49, 1225),\n",
       " (50, 1275),\n",
       " (51, 1326),\n",
       " (52, 1378),\n",
       " (53, 1431),\n",
       " (54, 1485),\n",
       " (55, 1540),\n",
       " (56, 1596),\n",
       " (57, 1653),\n",
       " (58, 1711),\n",
       " (59, 1770),\n",
       " (60, 1830),\n",
       " (61, 1891),\n",
       " (62, 1953),\n",
       " (63, 2016),\n",
       " (64, 2080),\n",
       " (65, 2145),\n",
       " (66, 2211),\n",
       " (67, 2278),\n",
       " (68, 2346),\n",
       " (69, 2415),\n",
       " (70, 2485),\n",
       " (71, 2556),\n",
       " (72, 2628),\n",
       " (73, 2701),\n",
       " (74, 2775),\n",
       " (75, 2850),\n",
       " (76, 2926),\n",
       " (77, 3003),\n",
       " (78, 3081),\n",
       " (79, 3160),\n",
       " (80, 3240),\n",
       " (81, 3321),\n",
       " (82, 3403),\n",
       " (83, 3486),\n",
       " (84, 3570),\n",
       " (85, 3655),\n",
       " (86, 3741),\n",
       " (87, 3828),\n",
       " (88, 3916),\n",
       " (89, 4005),\n",
       " (90, 4095),\n",
       " (91, 4186),\n",
       " (92, 4278),\n",
       " (93, 4371),\n",
       " (94, 4465),\n",
       " (95, 4560),\n",
       " (96, 4656),\n",
       " (97, 4753),\n",
       " (98, 4851),\n",
       " (99, 4950),\n",
       " (100, 5050)]"
      ]
     },
     "execution_count": 6,
     "metadata": {},
     "output_type": "execute_result"
    }
   ],
   "source": [
    "soma = 0\n",
    "result = []\n",
    "for i in range(1, 101):\n",
    "    soma += i\n",
    "    result.append((i, soma))\n",
    "\n",
    "result"
   ]
  },
  {
   "cell_type": "code",
   "execution_count": null,
   "metadata": {},
   "outputs": [],
   "source": []
  }
 ],
 "metadata": {
  "kernelspec": {
   "display_name": "Python 3",
   "language": "python",
   "name": "python3"
  },
  "language_info": {
   "codemirror_mode": {
    "name": "ipython",
    "version": 3
   },
   "file_extension": ".py",
   "mimetype": "text/x-python",
   "name": "python",
   "nbconvert_exporter": "python",
   "pygments_lexer": "ipython3",
   "version": "3.11.1"
  }
 },
 "nbformat": 4,
 "nbformat_minor": 2
}
