{
 "cells": [
  {
   "cell_type": "markdown",
   "id": "48f12101",
   "metadata": {},
   "source": [
    "It was proposed by Christian Goldbach that every odd composite number can be written as the sum of a prime and twice a square.\n",
    "\\begin{align}\n",
    "9 = 7 + 2 \\times 1^2\\\\\n",
    "15 = 7 + 2 \\times 2^2\\\\\n",
    "21 = 3 + 2 \\times 3^2\\\\\n",
    "25 = 7 + 2 \\times 3^2\\\\\n",
    "27 = 19 + 2 \\times 2^2\\\\\n",
    "33 = 31 + 2 \\times 1^2\n",
    "\\end{align}\n",
    "It turns out that the conjecture was false.\n",
    "What is the smallest odd composite that cannot be written as the sum of a prime and twice a square?"
   ]
  },
  {
   "cell_type": "code",
   "execution_count": 10,
   "id": "9f5aa4df",
   "metadata": {},
   "outputs": [],
   "source": [
    "import math\n",
    "from time import perf_counter"
   ]
  },
  {
   "cell_type": "code",
   "execution_count": 4,
   "id": "5addd2c9",
   "metadata": {},
   "outputs": [],
   "source": [
    "def primes_list_generator (max: int) -> list:\n",
    "    '''returns a list of prime numbers up to max.\n",
    "    '''\n",
    "    if type(max) != int:\n",
    "        raise TypeError('argument is not an integer')\n",
    "\n",
    "    # Initializes sieve\n",
    "    sieve = [0] * (max + 1)\n",
    "    # Marks all even numbers > 2 as not primes\n",
    "    for n in range(4, max+1, 2):\n",
    "        sieve[n] = 1\n",
    "    # Tests the numbers not marked as not primes, what is left is the primes at the spots with 0\n",
    "    for n in range(3, max, 2):\n",
    "        if n == 3: \n",
    "            pass\n",
    "        if not sieve[n]:\n",
    "            for m in range(n**2, max+1, 2*n):\n",
    "                sieve[m] = 1\n",
    "\n",
    "  \n",
    "    return [i for i, j in enumerate(sieve) if j == 0 and i > 1]\n",
    "    "
   ]
  },
  {
   "cell_type": "code",
   "execution_count": 5,
   "id": "8bbbe5db",
   "metadata": {},
   "outputs": [],
   "source": [
    "primes = primes_list_generator(10000)"
   ]
  },
  {
   "cell_type": "code",
   "execution_count": 30,
   "id": "079dec1d",
   "metadata": {},
   "outputs": [
    {
     "name": "stdout",
     "output_type": "stream",
     "text": [
      "Number: 5777, time: 0.0547s\n"
     ]
    }
   ],
   "source": [
    "start = perf_counter()\n",
    "current = 3\n",
    "\n",
    "while True:\n",
    "    found = False\n",
    "    \n",
    "    for pr in primes:\n",
    "        if pr > current:\n",
    "            break\n",
    "        \n",
    "        calculated = math.sqrt((current - pr)/2)\n",
    "        if calculated % 1 == 0:\n",
    "            found = True\n",
    "            break\n",
    "\n",
    "    if not found:\n",
    "        break\n",
    "\n",
    "    while True:\n",
    "        current += 2\n",
    "        if current not in primes:\n",
    "            break\n",
    "\n",
    "stop = perf_counter()\n",
    "print (f'Number: {current}, time: {stop-start:.4f}s')"
   ]
  },
  {
   "cell_type": "code",
   "execution_count": 13,
   "id": "ad72d34e",
   "metadata": {},
   "outputs": [
    {
     "name": "stdout",
     "output_type": "stream",
     "text": [
      "Number: 5777, time: 0.06654490000073565s\n"
     ]
    }
   ],
   "source": [
    "print (f'Number: {current}, time: {(stop-start)}s')"
   ]
  }
 ],
 "metadata": {
  "kernelspec": {
   "display_name": "Python 3",
   "language": "python",
   "name": "python3"
  },
  "language_info": {
   "codemirror_mode": {
    "name": "ipython",
    "version": 3
   },
   "file_extension": ".py",
   "mimetype": "text/x-python",
   "name": "python",
   "nbconvert_exporter": "python",
   "pygments_lexer": "ipython3",
   "version": "3.11.1"
  }
 },
 "nbformat": 4,
 "nbformat_minor": 5
}
