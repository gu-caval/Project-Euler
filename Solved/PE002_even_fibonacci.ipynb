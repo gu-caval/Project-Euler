{
 "cells": [
  {
   "cell_type": "code",
   "execution_count": 1,
   "metadata": {},
   "outputs": [],
   "source": [
    "def fibonacci():\n",
    "    a = 0\n",
    "    b = 1\n",
    "\n",
    "    # for __ in range(n):\n",
    "    while True:\n",
    "        yield b\n",
    "        temp = b\n",
    "        b = a + b\n",
    "        a = temp"
   ]
  },
  {
   "cell_type": "code",
   "execution_count": 2,
   "metadata": {},
   "outputs": [
    {
     "name": "stdout",
     "output_type": "stream",
     "text": [
      "1\n",
      "1\n",
      "2\n",
      "3\n",
      "5\n",
      "8\n",
      "13\n",
      "21\n"
     ]
    }
   ],
   "source": [
    "for i in fibonacci():\n",
    "    print(i)\n",
    "\n",
    "    if i > 20:\n",
    "        break"
   ]
  },
  {
   "cell_type": "code",
   "execution_count": null,
   "metadata": {},
   "outputs": [],
   "source": [
    "i = 0\n",
    "a = fibonacci()\n",
    "atual = next(a)\n",
    "soma = 0\n",
    "while atual <= 4000000:\n",
    "    if atual % 2 == 0:\n",
    "        soma += atual\n",
    "        print(f'{atual=:10,}')\n",
    "    atual = next(a)\n",
    "\n",
    "print(f'{soma =:10,}')"
   ]
  },
  {
   "cell_type": "code",
   "execution_count": null,
   "metadata": {},
   "outputs": [],
   "source": [
    "a = fibonacci()\n",
    "atual = next(a)\n",
    "\n",
    "for __ in range(10):\n",
    "    print(atual)\n",
    "    atual = next(a)"
   ]
  }
 ],
 "metadata": {
  "kernelspec": {
   "display_name": "Python 3",
   "language": "python",
   "name": "python3"
  },
  "language_info": {
   "codemirror_mode": {
    "name": "ipython",
    "version": 3
   },
   "file_extension": ".py",
   "mimetype": "text/x-python",
   "name": "python",
   "nbconvert_exporter": "python",
   "pygments_lexer": "ipython3",
   "version": "3.11.1"
  }
 },
 "nbformat": 4,
 "nbformat_minor": 2
}
