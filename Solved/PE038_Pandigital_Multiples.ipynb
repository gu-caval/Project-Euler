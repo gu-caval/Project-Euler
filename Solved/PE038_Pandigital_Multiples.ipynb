{
 "cells": [
  {
   "cell_type": "markdown",
   "metadata": {},
   "source": [
    "Take the number $192$ and multiply it by each of $1$, $2$, and $3$:\n",
    "\n",
    "192 x 1 = 192<br>\n",
    "192 x 2 = 384<br>\n",
    "192 x 3 = 576<br>\n",
    "\n",
    "By concatenating each product we get the $1$ to $9$ pandigital, $192384576$. We will call $192384576$ the concatenated product of $192$ and $(1,2,3)$.\n",
    "\n",
    "The same can be achieved by starting with $9$ and multiplying by $1$, $2$, $3$, $4$, and $5$, giving the pandigital, $918273645$, which is the concatenated product of $9$ and $(1,2,3,4,5)$.\n",
    "\n",
    "What is the largest $1$ to $9$ pandigital $9$-digit number that can be formed as the concatenated product of an integer with $(1,2, \\dots, n)$ where $n \\gt 1$?"
   ]
  },
  {
   "cell_type": "code",
   "execution_count": 44,
   "metadata": {},
   "outputs": [],
   "source": [
    "def pandigital_test(numbers: list) -> bool:\n",
    "    '''Receives a list of integers and checks if they are colectively 1 to 9 Pan Digital\n",
    "    (if all digits from 1 to 9 are present once and only once).\n",
    "    '''\n",
    "    strings = ''.join([str(i) for i in numbers])\n",
    "    strings_set = {str(i) for i in strings}\n",
    "    return len(strings) == 9 and len(strings_set) == 9 and '0' not in strings_set"
   ]
  },
  {
   "cell_type": "code",
   "execution_count": 39,
   "metadata": {},
   "outputs": [],
   "source": [
    "def product_gen(num: int) -> list:\n",
    "    multiplier = 1\n",
    "    result = []\n",
    "    digit_count = 0\n",
    "\n",
    "    while True:\n",
    "        current = num * multiplier\n",
    "        if len(str(current)) + digit_count > 9:\n",
    "            return result\n",
    "        result.append(current)\n",
    "        digit_count += len(str(current))\n",
    "        multiplier += 1"
   ]
  },
  {
   "cell_type": "code",
   "execution_count": 47,
   "metadata": {},
   "outputs": [
    {
     "name": "stdout",
     "output_type": "stream",
     "text": [
      "current=1  interm=[1, 2, 3, 4, 5, 6, 7, 8, 9]\n",
      "current=9  interm=[9, 18, 27, 36, 45]\n",
      "current=192  interm=[192, 384, 576]\n",
      "current=219  interm=[219, 438, 657]\n",
      "current=273  interm=[273, 546, 819]\n",
      "current=327  interm=[327, 654, 981]\n",
      "current=6729  interm=[6729, 13458]\n",
      "current=6792  interm=[6792, 13584]\n",
      "current=6927  interm=[6927, 13854]\n",
      "current=7269  interm=[7269, 14538]\n",
      "current=7293  interm=[7293, 14586]\n",
      "current=7329  interm=[7329, 14658]\n",
      "current=7692  interm=[7692, 15384]\n",
      "current=7923  interm=[7923, 15846]\n",
      "current=7932  interm=[7932, 15864]\n",
      "current=9267  interm=[9267, 18534]\n",
      "current=9273  interm=[9273, 18546]\n",
      "current=9327  interm=[9327, 18654]\n",
      "932718654\n"
     ]
    }
   ],
   "source": [
    "result = []\n",
    "for current in range(1, 27160):\n",
    "    if pandigital_test(interm:=product_gen(current)):\n",
    "        print(f'{current=}  {interm=}')\n",
    "        result.append(''.join([str(i) for i in interm]))\n",
    "\n",
    "print(max(result))\n",
    "        "
   ]
  },
  {
   "cell_type": "code",
   "execution_count": 36,
   "metadata": {},
   "outputs": [
    {
     "data": {
      "text/plain": [
       "27160.5"
      ]
     },
     "execution_count": 36,
     "metadata": {},
     "output_type": "execute_result"
    }
   ],
   "source": [
    "9876\n",
    "54321/2\n"
   ]
  },
  {
   "cell_type": "code",
   "execution_count": 26,
   "metadata": {},
   "outputs": [
    {
     "name": "stdout",
     "output_type": "stream",
     "text": [
      "{'356', '124', '798'}\n",
      "True\n"
     ]
    }
   ],
   "source": [
    "a = [124, 356, 798]\n",
    "a = {str(i) for i in a}\n",
    "print(a)\n",
    "print(pandigital_test(a))\n"
   ]
  },
  {
   "cell_type": "code",
   "execution_count": 17,
   "metadata": {},
   "outputs": [
    {
     "data": {
      "text/plain": [
       "True"
      ]
     },
     "execution_count": 17,
     "metadata": {},
     "output_type": "execute_result"
    }
   ],
   "source": [
    "pandigital_test(a)"
   ]
  },
  {
   "cell_type": "code",
   "execution_count": 37,
   "metadata": {},
   "outputs": [
    {
     "data": {
      "text/plain": [
       "'132'"
      ]
     },
     "execution_count": 37,
     "metadata": {},
     "output_type": "execute_result"
    }
   ],
   "source": [
    "a = ['123', '132']\n",
    "max(a)"
   ]
  },
  {
   "cell_type": "code",
   "execution_count": null,
   "metadata": {},
   "outputs": [],
   "source": []
  }
 ],
 "metadata": {
  "kernelspec": {
   "display_name": "Python 3",
   "language": "python",
   "name": "python3"
  },
  "language_info": {
   "codemirror_mode": {
    "name": "ipython",
    "version": 3
   },
   "file_extension": ".py",
   "mimetype": "text/x-python",
   "name": "python",
   "nbconvert_exporter": "python",
   "pygments_lexer": "ipython3",
   "version": "3.11.1"
  }
 },
 "nbformat": 4,
 "nbformat_minor": 2
}
