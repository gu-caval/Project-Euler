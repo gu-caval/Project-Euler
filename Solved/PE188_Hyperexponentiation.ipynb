{
 "cells": [
  {
   "cell_type": "markdown",
   "id": "e62cfb09",
   "metadata": {},
   "source": [
    "The <strong>hyperexponentiation</strong> or <strong>tetration</strong> of a number $a$ by a positive integer $b$, denoted by $a\\mathbin{\\uparrow \\uparrow}b$ or $^b a$, is recursively defined by:<br><br>\n",
    "$a \\mathbin{\\uparrow \\uparrow} 1 = a$,<br>\n",
    "$a \\mathbin{\\uparrow \\uparrow} (k+1) = a^{(a \\mathbin{\\uparrow \\uparrow} k)}$.<br>\n",
    "\n",
    "Thus we have e.g. $3 \\mathbin{\\uparrow \\uparrow} 2 = 3^3 = 27$, hence $3 \\mathbin{\\uparrow \\uparrow} 3 = 3^{27} = 7625597484987$ and $3 \\mathbin{\\uparrow \\uparrow} 4$ is roughly $10^{3.6383346400240996 \\cdot 10^{12}}$.<br>\n",
    "Find the last $8$ digits of $1777 \\mathbin{\\uparrow \\uparrow} 1855$.<br>"
   ]
  },
  {
   "cell_type": "code",
   "execution_count": null,
   "id": "a74fb54f",
   "metadata": {},
   "outputs": [],
   "source": [
    "def hyperexponentiation(base: int, exp: int, mod: int = None) -> int:\n",
    "    if not mod:\n",
    "        mod = 10**13\n",
    "    if exp == 1:\n",
    "        return pow(base, exp, mod)\n",
    "    else:\n",
    "        h = hyperexponentiation(base, exp-1, mod)\n",
    "        a = pow(base, h, mod)\n",
    "        return a\n"
   ]
  },
  {
   "cell_type": "code",
   "execution_count": 31,
   "id": "c8649452",
   "metadata": {},
   "outputs": [],
   "source": [
    "def hyperexponentiation(base: int, exp: int, mod: int = None) -> int:\n",
    "    if not mod:\n",
    "        mod = 10**13\n",
    "    if exp == 1:\n",
    "        return base % mod\n",
    "    else:\n",
    "        return pow(base, hyperexponentiation(base, exp-1, mod), mod)\n"
   ]
  },
  {
   "cell_type": "code",
   "execution_count": 32,
   "id": "188e25b5",
   "metadata": {},
   "outputs": [
    {
     "data": {
      "text/plain": [
       "95962097"
      ]
     },
     "execution_count": 32,
     "metadata": {},
     "output_type": "execute_result"
    }
   ],
   "source": [
    "hyperexponentiation(1777, 1855, 10**8)"
   ]
  },
  {
   "cell_type": "code",
   "execution_count": 30,
   "id": "f48cd686",
   "metadata": {},
   "outputs": [
    {
     "data": {
      "text/plain": [
       "7625597484987"
      ]
     },
     "execution_count": 30,
     "metadata": {},
     "output_type": "execute_result"
    }
   ],
   "source": [
    "hyperexponentiation(3, 3)"
   ]
  },
  {
   "cell_type": "code",
   "execution_count": null,
   "id": "29ebafed",
   "metadata": {},
   "outputs": [],
   "source": []
  }
 ],
 "metadata": {
  "kernelspec": {
   "display_name": "Python 3",
   "language": "python",
   "name": "python3"
  },
  "language_info": {
   "codemirror_mode": {
    "name": "ipython",
    "version": 3
   },
   "file_extension": ".py",
   "mimetype": "text/x-python",
   "name": "python",
   "nbconvert_exporter": "python",
   "pygments_lexer": "ipython3",
   "version": "3.11.1"
  }
 },
 "nbformat": 4,
 "nbformat_minor": 5
}
