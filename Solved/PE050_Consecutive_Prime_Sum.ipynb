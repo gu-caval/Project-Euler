{
 "cells": [
  {
   "cell_type": "markdown",
   "id": "8fb1ee22",
   "metadata": {},
   "source": [
    "The prime $41$, can be written as the sum of six consecutive primes:\n",
    "\n",
    "$41 = 2 + 3 + 5 + 7 + 11 + 13.$ <br>\n",
    "\n",
    "This is the longest sum of consecutive primes that adds to a prime below one-hundred.<br><br>\n",
    "The longest sum of consecutive primes below one-thousand that adds to a prime, contains $21$ terms, and is equal to $953$.<br><br>\n",
    "Which prime, below one-million, can be written as the sum of the most consecutive primes?"
   ]
  },
  {
   "cell_type": "code",
   "execution_count": 2,
   "id": "706795c8",
   "metadata": {},
   "outputs": [],
   "source": [
    "import itertools\n"
   ]
  },
  {
   "cell_type": "code",
   "execution_count": 3,
   "id": "e32c774e",
   "metadata": {},
   "outputs": [],
   "source": [
    "def primes_list_generator (max: int) -> list:\n",
    "    '''returns a list of prime numbers up to max.\n",
    "    '''\n",
    "    if not isinstance(max, int):\n",
    "        raise TypeError('argument is not an integer')\n",
    "\n",
    "    # Initializes sieve\n",
    "    sieve = [0] * (max + 1)\n",
    "    # Marks all even numbers > 2 as not primes\n",
    "    for n in range(4, max+1, 2):\n",
    "        sieve[n] = 1\n",
    "    # Tests the numbers not marked as not primes, what is left is the primes at the spots with 0\n",
    "    for n in range(3, max, 2):\n",
    "        if n == 3: \n",
    "            pass\n",
    "        if not sieve[n]:\n",
    "            for m in range(n**2, max+1, 2*n):\n",
    "                sieve[m] = 1\n",
    "\n",
    "  \n",
    "    return [i for i, j in enumerate(sieve) if j == 0 and i > 1]"
   ]
  },
  {
   "cell_type": "code",
   "execution_count": 6,
   "id": "f2b4f408",
   "metadata": {},
   "outputs": [
    {
     "name": "stdout",
     "output_type": "stream",
     "text": [
      "953 - 24 terms.(sum2)\n",
      "The result is 989743 with 544 terms. (result1)\n",
      "The result is 997651 with 546 terms. (result2)\n",
      "The result is 958339 with 536 terms. (result3)\n"
     ]
    }
   ],
   "source": [
    "limit = 10**6\n",
    "primes = primes_list_generator(limit)\n",
    "qtt1, qtt2, qtt3 = 0, 0, 0\n",
    "sum1, sum2, sum3 = 0, 0, 0\n",
    "for pos, pr in enumerate(primes):\n",
    "    if pr > 17:\n",
    "        sum1 += pr\n",
    "    if pr > 5:\n",
    "        sum2 += pr\n",
    "    if pr > 41:\n",
    "        sum3 += pr\n",
    "    if sum1 == 953:\n",
    "        print(f'953 - {pos+1} terms. (sum1)')\n",
    "    if sum2 == 953:\n",
    "        print(f'953 - {pos+1} terms.(sum2)')\n",
    "    if sum3 == 953:\n",
    "        print(f'953 - {pos+1} terms.(sum3)')\n",
    "    if sum1 < limit and sum1 in primes:\n",
    "        qtt1 = pos + 1\n",
    "        result1 = sum1\n",
    "        if qtt1 == 21:\n",
    "            print(f'21 terms: {sum1=}')\n",
    "    if sum2 < limit and sum2 in primes:\n",
    "        qtt2 = pos + 1\n",
    "        result2 = sum2\n",
    "        if qtt1 == 21:\n",
    "            print(f'21 terms: {sum2=}')\n",
    "    if sum3 < limit and sum3 in primes:\n",
    "        qtt3 = pos + 1\n",
    "        result3 = sum3\n",
    "        if qtt1 == 21:\n",
    "            print(f'21 terms: {sum3=}')\n",
    "    if sum1 > limit and sum2 > limit and sum3 > limit:\n",
    "        break\n",
    "\n",
    "print(f'The result is {result1} with {qtt1} terms. (result1)')\n",
    "print(f'The result is {result2} with {qtt2} terms. (result2)')\n",
    "print(f'The result is {result3} with {qtt3} terms. (result3)')\n"
   ]
  },
  {
   "cell_type": "code",
   "execution_count": 4,
   "id": "6e2a5f58",
   "metadata": {},
   "outputs": [
    {
     "name": "stdout",
     "output_type": "stream",
     "text": [
      "result=953: qtt=21 terms\n",
      "The result is 997651 with 543 terms.\n"
     ]
    }
   ],
   "source": [
    "limit = 10**6\n",
    "primes = primes_list_generator(limit)\n",
    "final_qtt = 0\n",
    "final_sum = 0\n",
    "quit_all = False\n",
    "final_qtt = 0\n",
    "for start_pos in range(len(primes)):\n",
    "    sum_ = 0\n",
    "    qtt = 0\n",
    "    left = len(primes) - start_pos\n",
    "    if left < final_qtt:\n",
    "        break\n",
    "    for current_pos, pr in enumerate(primes[start_pos:]):\n",
    "        sum_ += pr\n",
    "        if current_pos == 0 and pr * final_qtt > limit:\n",
    "            quit_all = True\n",
    "            break\n",
    "        if sum_ > limit:\n",
    "            break\n",
    "        if current_pos == 0:\n",
    "            continue\n",
    "        if sum_ in primes:\n",
    "            qtt = current_pos + 1\n",
    "            result = sum_\n",
    "    if qtt > final_qtt:\n",
    "        final_qtt = qtt\n",
    "        final_sum = result\n",
    "    if quit_all:\n",
    "        break\n",
    "    \n",
    "\n",
    "print(f'The result is {final_sum} with {final_qtt} terms.')\n"
   ]
  },
  {
   "cell_type": "code",
   "execution_count": null,
   "id": "4986ac60",
   "metadata": {},
   "outputs": [],
   "source": [
    "print(f'The result is {result} with {qtt} parcels.')"
   ]
  }
 ],
 "metadata": {
  "kernelspec": {
   "display_name": "Python 3",
   "language": "python",
   "name": "python3"
  },
  "language_info": {
   "codemirror_mode": {
    "name": "ipython",
    "version": 3
   },
   "file_extension": ".py",
   "mimetype": "text/x-python",
   "name": "python",
   "nbconvert_exporter": "python",
   "pygments_lexer": "ipython3",
   "version": "3.11.1"
  }
 },
 "nbformat": 4,
 "nbformat_minor": 5
}
