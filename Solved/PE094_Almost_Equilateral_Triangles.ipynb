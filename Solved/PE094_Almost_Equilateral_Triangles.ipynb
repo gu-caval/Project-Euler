{
 "cells": [
  {
   "cell_type": "markdown",
   "id": "1ef0732c",
   "metadata": {},
   "source": [
    "It is easily proved that no equilateral triangle exists with integral length sides and integral area. However, the *almost equilateral triangle*\n",
    "$5$-$5$-$6$ has an area of $12$ square units.<br><br>\n",
    "We shall define an *almost equilateral triangle* to be a triangle for which two sides are equal and the third differs by no more than one unit.<br><br>\n",
    "Find the sum of the perimeters of all *almost equilateral triangles* with integral side lengths and area and whose perimeters do not exceed one billion ($1\\,000\\,000\\,000$).<br>"
   ]
  },
  {
   "cell_type": "code",
   "execution_count": null,
   "id": "c1088de7",
   "metadata": {},
   "outputs": [],
   "source": [
    "import math\n",
    "from decimal import Decimal, getcontext"
   ]
  },
  {
   "cell_type": "code",
   "execution_count": null,
   "id": "45b2b034",
   "metadata": {},
   "outputs": [],
   "source": [
    "def heronian_isosceles(equal_sides: int, diff_side: int) -> bool:\n",
    "    equal_sides = Decimal(equal_sides)\n",
    "    diff_side = Decimal(diff_side)\n",
    "    h = Decimal(math.sqrt(math.pow(equal_sides,2) - math.pow(diff_side / 2, 2)))\n",
    "    # a = diff_side * h / 2\n",
    "    return h == int(h)"
   ]
  },
  {
   "cell_type": "code",
   "execution_count": null,
   "id": "ffddda6f",
   "metadata": {},
   "outputs": [],
   "source": [
    "def area_heron(a: Decimal, b: Decimal, c: Decimal) -> bool:\n",
    "    ''' Seeking numerical stability, a >= b >= c\n",
    "    '''\n",
    "    if c > b or c > a or b > a:\n",
    "        raise ValueError('Erro na sequencia dos numeros.')\n",
    "    area_sq = (a + b + c) * (c-(a-b)) * (c+(a-b)) * (a+(b-c)) / 16\n",
    "    area = area_sq.sqrt()\n",
    "    \n",
    "    return area == int(area)\n",
    "\n",
    "    # semi = (a + b + c) / 2\n",
    "    # s = math.sqrt(semi)\n",
    "    # sa = math.sqrt(semi - a)\n",
    "    # sb = math.sqrt(semi - b)\n",
    "    # sc = math.sqrt(semi - c)\n",
    "    # return (area:=s * sa * sb * sc) == int(area)\n",
    "\n",
    "    # if (s:=math.sqrt(semi)) != int(s):\n",
    "    #     return False\n",
    "    # elif (sa:=math.sqrt(semi - a)) != int(sa):\n",
    "    #     return False\n",
    "    # elif (sc:=math.sqrt(semi - c)) != int(sc):\n",
    "    #     return False\n",
    "    # else: \n",
    "    #     return True"
   ]
  },
  {
   "cell_type": "code",
   "execution_count": null,
   "id": "e8203f41",
   "metadata": {},
   "outputs": [],
   "source": [
    "# Usando area isosceles\n",
    "def isosceles():\n",
    "    peri_sum = 0\n",
    "    billion = 10**9\n",
    "    limit = billion // 3 + 1\n",
    "    sides = []\n",
    "\n",
    "    for side in range(3, limit, 2):\n",
    "        # if (side + 1) % (4*10**7) == 0:\n",
    "        #     print(f'Passando pelo tamanho {side+1:,}, soma dos perimetros está em {peri_sum:,}')\n",
    "        # area1 = heronian_isosceles(side, side - 1)\n",
    "        # peri1 = 3 * side - 1\n",
    "        # if area1 == int(area1) and peri1 < 10**9:\n",
    "        #     peri_sum += peri1\n",
    "        #     continue\n",
    "        # if side == 5:\n",
    "        #     pass\n",
    "        side = Decimal(side)\n",
    "        if heronian_isosceles(side, side - 1):\n",
    "            if (p:=(3*side-1))<=billion:\n",
    "                sides.append(side)\n",
    "                peri_sum += p\n",
    "            continue\n",
    "        if heronian_isosceles(side, side + 1):\n",
    "            if (p:=(3*side+1))<=billion:\n",
    "                sides.append(side)\n",
    "                peri_sum += p\n",
    "            continue\n",
    "\n",
    "        # area2 = heronian_isosceles(side, side + 1)\n",
    "        # peri2 = 3 * side + 1\n",
    "        # if area2 == int(area2) and peri2 < 10**9:\n",
    "        #     peri_sum += peri2\n",
    "        #     continue\n",
    "        \n",
    "        # if peri1 > 10**9 and peri2 > 10**9:\n",
    "        #     break\n",
    "\n",
    "    # print(peri_sum)\n",
    "    return [peri_sum, sides]"
   ]
  },
  {
   "cell_type": "code",
   "execution_count": null,
   "id": "920f8a77",
   "metadata": {},
   "outputs": [],
   "source": [
    "# Usando area heron\n",
    "\n",
    "def heron(n: int):\n",
    "    peri_sum = 0\n",
    "    billion = n #10**9\n",
    "    limit = billion // 3 + 1\n",
    "    sides = []\n",
    "\n",
    "    for side in range(3, limit, 2):\n",
    "        if side % (4*10**7) == 0:\n",
    "            print(f'Passando pelo tamanho {side:,}')\n",
    "\n",
    "        # area1 = area_heron(side, side, side - 1)\n",
    "        # if area1 == int(area1) and (peri1:=3 * side - 1) < 10**9:\n",
    "        #     peri_sum += peri1\n",
    "        #     continue\n",
    "\n",
    "        # area2 = area_heron(side, side, side + 1)\n",
    "        # if area2 == int(area2) and (peri2:=3 * side + 1) < 10**9:\n",
    "        #     peri_sum += peri2\n",
    "        #     continue\n",
    "        side = Decimal(side)\n",
    "        if area_heron(side + 1, side, side):\n",
    "            peri_sum += int(3 * side + 1)\n",
    "            sides.append((int(side), int(side), int(side)+1))\n",
    "            continue\n",
    "        if area_heron(side, side, side - 1):\n",
    "            peri_sum += int(3 * side - 1)\n",
    "            sides.append((int(side), int(side), int(side) -1))\n",
    "            continue\n",
    "    return (peri_sum, sides)"
   ]
  },
  {
   "cell_type": "code",
   "execution_count": null,
   "id": "3e1c6a4b",
   "metadata": {},
   "outputs": [],
   "source": [
    "#\n",
    "#  1a. tentativa 159236740539123632\n",
    "#  2a. tentativa 312530629458602039\n",
    "#  3a. tentativa 312530629458602039\n",
    "#  4a. tentativa 312530318954683775 \n",
    "#  5a. tentativa 312531337438952942\n",
    "#  6a. tentativa 312533450002955069 (heron)\n",
    "#  7a. tentativa 159238544619763263 (heron)\n",
    "#  8a. tentativa 4489548014 (isosceles modificado)\n",
    "#  9a. tentativa 79619197513183434 (heron com Decimal)\n",
    "# 10a. tentativa 79618833710462080 (heron com Decimal)\n",
    "# 11a. tentativa 135166939014058 (heron com Decimal)\n",
    "print(len(str(peri_sum)))"
   ]
  },
  {
   "cell_type": "code",
   "execution_count": null,
   "id": "a60e8d39",
   "metadata": {},
   "outputs": [],
   "source": [
    "getcontext().prec = 50  # Set precision\n",
    "results = []\n",
    "for _ in range(2):\n",
    "    results.append(heron())\n",
    "    print(results[-1])"
   ]
  },
  {
   "cell_type": "code",
   "execution_count": null,
   "id": "f32ec1a7",
   "metadata": {},
   "outputs": [],
   "source": [
    "heron(10000)"
   ]
  },
  {
   "cell_type": "code",
   "execution_count": null,
   "id": "6b68b4b2",
   "metadata": {},
   "outputs": [],
   "source": [
    "if not 2%2:\n",
    "    print('foi')"
   ]
  },
  {
   "cell_type": "code",
   "execution_count": 3,
   "id": "684cebad",
   "metadata": {},
   "outputs": [
    {
     "name": "stdout",
     "output_type": "stream",
     "text": [
      "518408346\n"
     ]
    }
   ],
   "source": [
    "# NEW APROACH using Pythagorean triplets\n",
    "\n",
    "# a = m**2 - n**2; b = 2mn; c = m**2 + n**2\n",
    "# m > n > 0\n",
    "#      / \\\n",
    "#     / | \\\n",
    "#  c /  |  \\ c\n",
    "#   / b |   \\\n",
    "#  /    |    \\\n",
    "# /_____|_____\\\n",
    "#    a     a\n",
    "# The area of the almost equilateral triangle is Area = 2 * (m**2 - n**2)*m*n\n",
    "# where m and n are coprimes and exactly one of them is even.\n",
    "import math\n",
    "\n",
    "billion = 1000000000\n",
    "limit = int(math.sqrt(billion/2)) + 1\n",
    "psum = 0\n",
    "\n",
    "for m in range(2, limit):\n",
    "    for n in range(1, m):\n",
    "        if math.gcd(m, n) == 1:\n",
    "            c = m**2 + n**2\n",
    "            b = 2 * m * n\n",
    "            a = 2 * (m**2 - n**2)\n",
    "            if (c + 1) == a:\n",
    "                p = (3*c + 1)\n",
    "                if p <= billion:\n",
    "                    psum += p\n",
    "            elif (c - 1) == a:\n",
    "                p = (3*c - 1)\n",
    "                if p<= billion:\n",
    "                    psum += p\n",
    "\n",
    "            if c + 1 == 2 * b:\n",
    "                p = 3 * c + 1\n",
    "                if p <= billion:\n",
    "                    psum += p\n",
    "            elif c - 1 == 2 * b:\n",
    "                p = 3 * c - 1\n",
    "                if p <= billion:\n",
    "                    psum += p\n",
    "\n",
    "print(psum)"
   ]
  }
 ],
 "metadata": {
  "kernelspec": {
   "display_name": "Python 3",
   "language": "python",
   "name": "python3"
  },
  "language_info": {
   "codemirror_mode": {
    "name": "ipython",
    "version": 3
   },
   "file_extension": ".py",
   "mimetype": "text/x-python",
   "name": "python",
   "nbconvert_exporter": "python",
   "pygments_lexer": "ipython3",
   "version": "3.11.1"
  }
 },
 "nbformat": 4,
 "nbformat_minor": 5
}
