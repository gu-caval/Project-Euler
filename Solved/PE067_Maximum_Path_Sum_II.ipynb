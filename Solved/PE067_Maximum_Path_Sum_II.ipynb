{
 "cells": [
  {
   "cell_type": "markdown",
   "id": "9cc173cc",
   "metadata": {},
   "source": [
    "By starting at the top of the triangle below and moving to adjacent numbers on the row below, the maximum total from top to bottom is 23.\n",
    "<p class=\"monospace center\"><b>3</b><br><b>7</b> 4<br>\n",
    "2 <b>4</b> 6<br>\n",
    "8 5 <b>9</b> 3<br><br>\n",
    "That is, 3 + 7 + 4 + 9 = 23.<br><br>\n",
    "Find the maximum total from top to bottom in <a href=\"resources/documents/0067_triangle.txt\">triangle.txt</a> (right click and 'Save Link/Target As...'), a 15K text file containing a triangle with one-hundred rows.<br><br>\n",
    "<p class=\"smaller\"><b>NOTE:</b> This is a much more difficult version of <a href=\"problem=18\">Problem 18</a>. It is not possible to try every route to solve this problem, as there are 2<sup>99</sup> altogether! If you could check one trillion (10<sup>12</sup>) routes every second it would take over twenty billion years to check them all. There is an efficient algorithm to solve it. ;o)"
   ]
  },
  {
   "cell_type": "code",
   "execution_count": 9,
   "id": "a6993aff",
   "metadata": {},
   "outputs": [],
   "source": [
    "class Node:\n",
    "    def __init__ (self, weigth, nextNode0 = None, nextNode1 = None) -> None:\n",
    "        self.weigth = weigth\n",
    "        self.nextNode0 = nextNode0\n",
    "        self.nextNode1 = nextNode1\n",
    "        self.distance = weigth\n",
    "\n",
    "    def set_next_nodes (self, nextNode0 = None, nextNode1 = None) -> None:\n",
    "        if nextNode0:\n",
    "            self.nextNode0 = nextNode0\n",
    "        if nextNode1:\n",
    "            self.nextNode1 = nextNode1\n",
    "\n",
    "    def get_next_nodes (self) -> tuple:\n",
    "        return (self.nextNode0, self.nextNode1)\n",
    "\n",
    "    def get_weigth(self) -> int:\n",
    "        return self.weigth\n",
    "\n",
    "    def set_weigth(self, new_weigth) -> None:\n",
    "        self.weigth = new_weigth\n",
    "\n",
    "    def set_distance(self, distance: int) -> None:\n",
    "        self.distance = distance\n",
    "\n",
    "    def get_distance(self) -> int:\n",
    "        return self.distance\n",
    "   \n"
   ]
  },
  {
   "cell_type": "code",
   "execution_count": 10,
   "id": "5e82b07d",
   "metadata": {},
   "outputs": [],
   "source": [
    "class PathCount:\n",
    "    def __init__ (self, weigth) -> None:\n",
    "        self.headNode = Node(weigth)\n",
    "        self.lastLine = [self.headNode]\n",
    "\n",
    "    def get_last_line(self) -> list:\n",
    "        return self.lastLine\n",
    "    \n",
    "    def add_last_line(self, listOfWeiths: list[int]) -> None:\n",
    "        currentLL = self.lastLine # current Last Line\n",
    "        sizeCurrent = len(currentLL)\n",
    "        sizeNew = len(listOfWeiths)\n",
    "        if sizeCurrent != sizeNew-1:\n",
    "            raise Exception(f\"List not of the right size (is {sizeNew} but should be {sizeCurrent+1}).\")\n",
    "        \n",
    "        newLine = []\n",
    "        \n",
    "        # Create new nodes, attributing them to the current last line\n",
    "        for pos, nod in enumerate(currentLL):\n",
    "            if pos == 0:\n",
    "                newNode0 = Node(listOfWeiths[pos])\n",
    "                newLine.append(newNode0)\n",
    "\n",
    "            newNode1 = Node(listOfWeiths[pos+1])\n",
    "            newLine.append(newNode1)\n",
    "            nod.set_next_nodes(nextNode0=newLine[pos], nextNode1=newLine[pos+1])\n",
    "\n",
    "        # Updates the distance at all nodes at the new line created\n",
    "        for pos, nod in enumerate(newLine):\n",
    "            size0 = size1 = float('-inf')\n",
    "            if pos > 0:\n",
    "                size0 = currentLL[pos-1].get_distance()\n",
    "\n",
    "            if pos < (sizeNew-1):\n",
    "                size1 = currentLL[pos].get_distance()\n",
    "\n",
    "            nod.set_distance(nod.get_weigth() + max(size0, size1))\n",
    "\n",
    "\n",
    "\n",
    "        self.lastLine = newLine.copy()"
   ]
  },
  {
   "cell_type": "code",
   "execution_count": 11,
   "id": "2289537f",
   "metadata": {},
   "outputs": [],
   "source": [
    "with open('PE067_triangle.txt', 'r') as my_file:\n",
    "    triangle = my_file.read().splitlines()\n",
    "\n",
    "initial_int = []\n",
    "\n",
    "for line in triangle:\n",
    "    tmp = [int(num) for num in line.split()]\n",
    "    initial_int.append(tmp)\n",
    "\n",
    "initial_copy = initial_int.copy()\n"
   ]
  },
  {
   "cell_type": "code",
   "execution_count": 12,
   "id": "dbf2ece2",
   "metadata": {},
   "outputs": [],
   "source": [
    "path = PathCount(initial_int.pop(0)[0])\n",
    "\n",
    "for line in initial_int:\n",
    "    path.add_last_line(line)\n",
    "\n",
    "last = path.get_last_line()\n",
    "            "
   ]
  },
  {
   "cell_type": "code",
   "execution_count": 13,
   "id": "37e4b7be",
   "metadata": {},
   "outputs": [
    {
     "name": "stdout",
     "output_type": "stream",
     "text": [
      "7273\n"
     ]
    }
   ],
   "source": [
    "last = [dist.get_distance() for dist in last]\n",
    "greater = max(last)\n",
    "print(greater)"
   ]
  }
 ],
 "metadata": {
  "kernelspec": {
   "display_name": "Python 3",
   "language": "python",
   "name": "python3"
  },
  "language_info": {
   "codemirror_mode": {
    "name": "ipython",
    "version": 3
   },
   "file_extension": ".py",
   "mimetype": "text/x-python",
   "name": "python",
   "nbconvert_exporter": "python",
   "pygments_lexer": "ipython3",
   "version": "3.11.1"
  }
 },
 "nbformat": 4,
 "nbformat_minor": 5
}
