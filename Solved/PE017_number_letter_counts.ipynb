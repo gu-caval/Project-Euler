{
 "cells": [
  {
   "cell_type": "code",
   "execution_count": 2,
   "metadata": {},
   "outputs": [],
   "source": [
    "sizes = {\n",
    "    '1': 3,\n",
    "    '2': 3,\n",
    "    '3': 5,\n",
    "    '4': 4,\n",
    "    '5': 4,\n",
    "    '6': 3,\n",
    "    '7': 5,\n",
    "    '8': 5,\n",
    "    '9': 4,\n",
    "    '01': 3,\n",
    "    '02': 3,\n",
    "    '03': 5,\n",
    "    '04': 4,\n",
    "    '05': 4,\n",
    "    '06': 3,\n",
    "    '07': 5,\n",
    "    '08': 5,\n",
    "    '09': 4,\n",
    "    '10': 3,\n",
    "    '11': 6,\n",
    "    '12': 6,\n",
    "    '13': 8,\n",
    "    '14': 8,\n",
    "    '15': 7,\n",
    "    '16': 7,\n",
    "    '17': 9,\n",
    "    '18': 8,\n",
    "    '19': 8,\n",
    "    '20': 6,\n",
    "    '30': 6,\n",
    "    '40': 5,\n",
    "    '50': 5,\n",
    "    '60': 5,\n",
    "    '70': 7,\n",
    "    '80': 6,\n",
    "    '90': 6,\n",
    "    'hundred': 7,\n",
    "    'thousand': 8,\n",
    "    '0': 0, '00': 0\n",
    "}"
   ]
  },
  {
   "cell_type": "code",
   "execution_count": 3,
   "metadata": {},
   "outputs": [],
   "source": [
    "def countLetters (n: int):\n",
    "    length = len(n:=str(n))\n",
    "    if int(n) < 20:\n",
    "        return sizes[n]\n",
    "    elif length == 2:\n",
    "        return sizes[n[0]+'0'] + sizes[n[-1]]\n",
    "    elif length == 3:\n",
    "        hundreds = sizes[n[0]] + sizes['hundred']\n",
    "        tens = countLetters(n[1:])\n",
    "        if tens > 0:\n",
    "            tens += 3 # add the size of 'and' as in one hundred AND one\n",
    "        return hundreds + tens\n",
    "    else: # consider that any 4 digit number will be equal to 1000\n",
    "        return sizes['1'] + sizes['thousand']"
   ]
  },
  {
   "cell_type": "code",
   "execution_count": 4,
   "metadata": {},
   "outputs": [
    {
     "name": "stdout",
     "output_type": "stream",
     "text": [
      "21124\n"
     ]
    }
   ],
   "source": [
    "letter_sum = 0\n",
    "for num in range(1000):\n",
    "    letter_sum += countLetters(num+1)\n",
    "\n",
    "print(letter_sum)"
   ]
  },
  {
   "cell_type": "code",
   "execution_count": null,
   "metadata": {},
   "outputs": [],
   "source": []
  }
 ],
 "metadata": {
  "kernelspec": {
   "display_name": "Python 3",
   "language": "python",
   "name": "python3"
  },
  "language_info": {
   "codemirror_mode": {
    "name": "ipython",
    "version": 3
   },
   "file_extension": ".py",
   "mimetype": "text/x-python",
   "name": "python",
   "nbconvert_exporter": "python",
   "pygments_lexer": "ipython3",
   "version": "3.11.1"
  }
 },
 "nbformat": 4,
 "nbformat_minor": 2
}
