{
 "cells": [
  {
   "cell_type": "markdown",
   "id": "9b1182e5",
   "metadata": {},
   "source": [
    "An irrational decimal fraction is created by concatenating the positive integers:<br>\n",
    "0.12345678910**1**112131415161718192021<br><br>\n",
    "It can be seen that the **12<sup>th</sup>** digit of the fractional part is **1**.\n",
    "If **d<sub>n</sub>** represents the **n<sup>th</sup>** digit of the fractional part, find the value of the following expression.<br>\n",
    "d<sub>1</sub> x d<sub>10</sub> x d<sub>100</sub> x d<sub>1000</sub> x d<sub>10000</sub> x d<sub>100000</sub> x d<sub>1000000</sub>"
   ]
  },
  {
   "cell_type": "code",
   "execution_count": 15,
   "id": "635f7fb7",
   "metadata": {},
   "outputs": [],
   "source": [
    "from itertools import count\n",
    "from time import perf_counter"
   ]
  },
  {
   "cell_type": "code",
   "execution_count": 19,
   "id": "0fdd3ca2",
   "metadata": {},
   "outputs": [
    {
     "name": "stdout",
     "output_type": "stream",
     "text": [
      "result=210, in 0.035177700003259815s\n"
     ]
    }
   ],
   "source": [
    "start = perf_counter()\n",
    "result = 1\n",
    "size = 0\n",
    "next_num = count(1)\n",
    "current_limit = 1\n",
    "\n",
    "while True:\n",
    "    current_number = str(next(next_num))\n",
    "    size += len(current_number)\n",
    "    if size >= current_limit:\n",
    "        pos = len(current_number) - (size - current_limit) - 1\n",
    "        result *= int(current_number[pos])      \n",
    "        current_limit *= 10\n",
    "    if size > 1000000:\n",
    "        break\n",
    "stop = perf_counter()\n",
    "print(f'{result=}, in {stop - start}s')\n"
   ]
  }
 ],
 "metadata": {
  "kernelspec": {
   "display_name": "Python 3",
   "language": "python",
   "name": "python3"
  },
  "language_info": {
   "codemirror_mode": {
    "name": "ipython",
    "version": 3
   },
   "file_extension": ".py",
   "mimetype": "text/x-python",
   "name": "python",
   "nbconvert_exporter": "python",
   "pygments_lexer": "ipython3",
   "version": "3.11.1"
  }
 },
 "nbformat": 4,
 "nbformat_minor": 5
}
