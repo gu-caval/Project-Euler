{
 "cells": [
  {
   "cell_type": "markdown",
   "id": "094dc7a9",
   "metadata": {},
   "source": [
    "Working from left-to-right if no digit is exceeded by the digit to its left it is called an increasing number; for example, $134468$.<br><br>\n",
    "Similarly if no digit is exceeded by the digit to its right it is called a decreasing number; for example, $66420$.<br><br>\n",
    "We shall call a positive integer that is neither increasing nor decreasing a \"bouncy\" number; for example, $155349$.<br><br>\n",
    "Clearly there cannot be any bouncy numbers below one-hundred, but just over half of the numbers below one-thousand ($525$) are bouncy. In fact, the least number for which the proportion of bouncy numbers first reaches $50\\%$ is $538$.<br><br>\n",
    "Surprisingly, bouncy numbers become more and more common and by the time we reach $21780$ the proportion of bouncy numbers is equal to $90\\%$.<br><br>\n",
    "Find the least number for which the proportion of bouncy numbers is exactly $99\\%$."
   ]
  },
  {
   "cell_type": "code",
   "execution_count": 15,
   "id": "47f0a565",
   "metadata": {},
   "outputs": [],
   "source": [
    "import itertools"
   ]
  },
  {
   "cell_type": "code",
   "execution_count": 16,
   "id": "ed83752b",
   "metadata": {},
   "outputs": [],
   "source": [
    "def isbouncy(num):\n",
    "    up = False\n",
    "    down = False\n",
    "    while num > 0 and not (up and down):\n",
    "        digit1 = num % 10\n",
    "        num = num // 10\n",
    "        if not num:\n",
    "            break\n",
    "        digit2 = num % 10\n",
    "        \n",
    "        if digit1 > digit2:\n",
    "            up = True\n",
    "        elif digit2 > digit1:\n",
    "            down = True\n",
    "\n",
    "    return up and down\n"
   ]
  },
  {
   "cell_type": "code",
   "execution_count": 24,
   "id": "222c63b6",
   "metadata": {},
   "outputs": [
    {
     "name": "stdout",
     "output_type": "stream",
     "text": [
      "1587000\n"
     ]
    }
   ],
   "source": [
    "bouncy = 0\n",
    "nobouncy = 0\n",
    "threshold = 0.99\n",
    "for n in itertools.count(1):\n",
    "    if isbouncy(n):\n",
    "        bouncy += 1\n",
    "    else:\n",
    "        nobouncy += 1\n",
    "\n",
    "    perc = bouncy / n\n",
    "\n",
    "\n",
    "    if perc >= threshold:\n",
    "        print(n)\n",
    "        break"
   ]
  }
 ],
 "metadata": {
  "kernelspec": {
   "display_name": "Python 3",
   "language": "python",
   "name": "python3"
  },
  "language_info": {
   "codemirror_mode": {
    "name": "ipython",
    "version": 3
   },
   "file_extension": ".py",
   "mimetype": "text/x-python",
   "name": "python",
   "nbconvert_exporter": "python",
   "pygments_lexer": "ipython3",
   "version": "3.11.1"
  }
 },
 "nbformat": 4,
 "nbformat_minor": 5
}
