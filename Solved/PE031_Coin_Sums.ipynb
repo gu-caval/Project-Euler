{
 "cells": [
  {
   "cell_type": "markdown",
   "id": "aa86041d",
   "metadata": {},
   "source": [
    "In the United Kingdom the currency is made up of pound (£) and pence (p). There are eight coins in general circulation:<br>\n",
    "<blockquote>1p, 2p, 5p, 10p, 20p, 50p, £1 (100p), and £2 (200p).</blockquote><br>\n",
    "It is possible to make £2 in the following way:<br>\n",
    "<blockquote>1×£1 + 1×50p + 2×20p + 1×5p + 1×2p + 3×1p</blockquote><br>\n",
    "How many different ways can £2 be made using any number of coins?"
   ]
  },
  {
   "cell_type": "code",
   "execution_count": 19,
   "id": "c9fa8d13",
   "metadata": {},
   "outputs": [],
   "source": [
    "def partial_sum(a=0, b=0, c=0, d=0, e=0, f=0, g=0) -> float:\n",
    "    return round(a*2 + b*1 + c*0.5 + d*0.2 + e*0.1 + f*0.05 + g*0.02, 2)\n",
    "\n",
    "def calculate_h(partial: float) -> int:\n",
    "    return int(100 * (2 - partial))"
   ]
  },
  {
   "cell_type": "code",
   "execution_count": 20,
   "id": "8e6f4111",
   "metadata": {},
   "outputs": [],
   "source": [
    "res = {(1,0,0,0,0,0,0,0), (0,2,0,0,0,0,0,0)}\n",
    "a=0\n",
    "\n",
    "c, d, e, f, g, h = 0, 0, 0, 0, 0, 0\n",
    "for b in range(2):\n",
    "    if (part:=partial_sum(b=b)) == 2:\n",
    "        res.add((a, b, c, d, e, f, g, h))\n",
    "        break\n",
    "    else:\n",
    "        h = calculate_h(part)\n",
    "        res.add((a, b, c, d, e, f, g, h))\n",
    "        h = 0\n",
    "        \n",
    "    for c in range(5):\n",
    "        if (part:=partial_sum(b=b, c=c)) > 2:\n",
    "            break\n",
    "        elif part == 2:\n",
    "            res.add((a, b, c, d, e, f, g, h))\n",
    "            break\n",
    "        else:\n",
    "            h = calculate_h(part)\n",
    "            res.add((a, b, c, d, e, f, g, h))\n",
    "            h = 0\n",
    "\n",
    "        for d in range(11):\n",
    "            if (part:=partial_sum(b=b, c=c, d=d)) > 2:\n",
    "                break\n",
    "            elif part == 2:\n",
    "                res.add((a, b, c, d, e, f, g, h))\n",
    "                break\n",
    "            else:\n",
    "                h = calculate_h(part)\n",
    "                res.add((a, b, c, d, e, f, g, h))\n",
    "                h = 0\n",
    "\n",
    "            for e in range(21):\n",
    "                if (part:=partial_sum(b=b, c=c, d=d, e=e)) > 2:\n",
    "                        break\n",
    "                elif part == 2:\n",
    "                    res.add((a, b, c, d, e, f, g, h))\n",
    "                    break\n",
    "                else:\n",
    "                    h = calculate_h(part)\n",
    "                    res.add((a, b, c, d, e, f, g, h))\n",
    "                    h = 0\n",
    "\n",
    "                for f in range(41):\n",
    "                    if (part:=partial_sum(b=b, c=c, d=d, e=e, f=f)) > 2:\n",
    "                        break\n",
    "                    elif part == 2:\n",
    "                        res.add((a, b, c, d, e, f, g, h))\n",
    "                        break\n",
    "                    else:\n",
    "                        h = calculate_h(part)\n",
    "                        res.add((a, b, c, d, e, f, g, h))\n",
    "                        h = 0\n",
    "\n",
    "                    for g in range(101):\n",
    "                        if (part:=partial_sum(b=b, c=c, d=d, e=e, f=f, g=g)) > 2:\n",
    "                            break\n",
    "                        elif part == 2:\n",
    "                            res.add((a, b, c, d, e, f, g, h))\n",
    "                            break\n",
    "                        else:\n",
    "                            h = calculate_h(part)\n",
    "                            res.add((a, b, c, d, e, f, g, h))\n",
    "                            h = 0\n",
    "                    g = 0\n",
    "                f = 0\n",
    "            e = 0 \n",
    "        d = 0\n",
    "    c = 0\n"
   ]
  },
  {
   "cell_type": "code",
   "execution_count": 21,
   "id": "28ddebf9",
   "metadata": {},
   "outputs": [
    {
     "data": {
      "text/plain": [
       "73682"
      ]
     },
     "execution_count": 21,
     "metadata": {},
     "output_type": "execute_result"
    }
   ],
   "source": [
    "len(res)"
   ]
  },
  {
   "cell_type": "code",
   "execution_count": null,
   "id": "36fc9f78",
   "metadata": {},
   "outputs": [],
   "source": []
  }
 ],
 "metadata": {
  "kernelspec": {
   "display_name": "Python 3",
   "language": "python",
   "name": "python3"
  },
  "language_info": {
   "codemirror_mode": {
    "name": "ipython",
    "version": 3
   },
   "file_extension": ".py",
   "mimetype": "text/x-python",
   "name": "python",
   "nbconvert_exporter": "python",
   "pygments_lexer": "ipython3",
   "version": "3.11.1"
  }
 },
 "nbformat": 4,
 "nbformat_minor": 5
}
