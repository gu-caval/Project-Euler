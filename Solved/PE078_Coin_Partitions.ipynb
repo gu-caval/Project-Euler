{
 "cells": [
  {
   "cell_type": "markdown",
   "id": "67b5d3eb",
   "metadata": {},
   "source": [
    "Let $p(n)$ represent the number of different ways in which $n$ coins can be separated into piles. For example, five coins can be separated into piles in exactly seven different ways, so $p(5)=7$.\n",
    "\n",
    "OOOOO<br>\n",
    "OOOO   O<br>\n",
    "OOO   OO<br>\n",
    "OOO   O   O<br>\n",
    "OO   OO   O<br>\n",
    "OO   O   O   O<br>\n",
    "O   O   O   O   O\n",
    "\n",
    "Find the least value of $n$ for which $p(n)$ is divisible by one million."
   ]
  },
  {
   "cell_type": "code",
   "execution_count": 22,
   "id": "71e5f416",
   "metadata": {},
   "outputs": [],
   "source": [
    "import itertools"
   ]
  },
  {
   "cell_type": "code",
   "execution_count": 23,
   "id": "ea659bf0",
   "metadata": {},
   "outputs": [],
   "source": [
    "def prob_n(n: int):\n",
    "    global pn\n",
    "    if n in pn:\n",
    "        return pn[n]\n",
    "    if n == 1 or n == 0:\n",
    "        return 1\n",
    "    result = 0\n",
    "    sign = 1\n",
    "    for k in itertools.count(1):\n",
    "        pent_plus = int(k * (3 * k + 1) / 2 )\n",
    "        pent_minus = int(k * (3 * k - 1) / 2)\n",
    "        if pent_minus > n:\n",
    "            break\n",
    "        elif pent_plus > n:\n",
    "            result += prob_n(n-pent_minus) * sign\n",
    "        else:\n",
    "            result += prob_n(n-pent_minus) * sign + prob_n(n-pent_plus) * sign\n",
    "\n",
    "        sign = -sign\n",
    "    pn[n] = result\n",
    "    return result"
   ]
  },
  {
   "cell_type": "code",
   "execution_count": 24,
   "id": "63ff0c93",
   "metadata": {},
   "outputs": [
    {
     "name": "stdout",
     "output_type": "stream",
     "text": [
      "55374\n"
     ]
    }
   ],
   "source": [
    "for k in itertools.count(1):\n",
    "    if prob_n(k) % 10**6 == 0:\n",
    "        print(k)\n",
    "        break"
   ]
  }
 ],
 "metadata": {
  "kernelspec": {
   "display_name": "Python 3",
   "language": "python",
   "name": "python3"
  },
  "language_info": {
   "codemirror_mode": {
    "name": "ipython",
    "version": 3
   },
   "file_extension": ".py",
   "mimetype": "text/x-python",
   "name": "python",
   "nbconvert_exporter": "python",
   "pygments_lexer": "ipython3",
   "version": "3.11.1"
  }
 },
 "nbformat": 4,
 "nbformat_minor": 5
}
