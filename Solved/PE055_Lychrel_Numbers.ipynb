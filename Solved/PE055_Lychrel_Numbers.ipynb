{
 "cells": [
  {
   "cell_type": "markdown",
   "id": "19c4b5a5",
   "metadata": {},
   "source": [
    "If we take $47$, reverse and add, $47 + 74 = 121$, which is palindromic.<br><br>\n",
    "Not all numbers produce palindromes so quickly. For example,<br>\n",
    "\\begin{align}\n",
    "349 + 943 = 1292\\\\\n",
    "1292 + 2921 = 4213\\\\\n",
    "4213 + 3124 = 7337\n",
    "\\end{align}\n",
    "That is, $349$ took three iterations to arrive at a palindrome.<br><br>\n",
    "Although no one has proved it yet, it is thought that some numbers, like $196$, never produce a palindrome. A number that never forms a palindrome through the reverse and add process is called a Lychrel number. Due to the theoretical nature of these numbers, and for the purpose of this problem, we shall assume that a number is Lychrel until proven otherwise. In addition you are given that for every number below ten-thousand, it will either (i) become a palindrome in less than fifty iterations, or, (ii) no one, with all the computing power that exists, has managed so far to map it to a palindrome. In fact, $10677$ is the first number to be shown to require over fifty iterations before producing a palindrome: $4668731596684224866951378664$ ($53$ iterations, $28$-digits).<br><br>\n",
    "Surprisingly, there are palindromic numbers that are themselves Lychrel numbers; the first example is $4994$.<br><br>\n",
    "How many Lychrel numbers are there below ten-thousand?<br><br>\n",
    "NOTE: Wording was modified slightly on 24 April 2007 to emphasise the theoretical nature of Lychrel numbers."
   ]
  },
  {
   "cell_type": "code",
   "execution_count": 52,
   "id": "6fce37d6",
   "metadata": {},
   "outputs": [],
   "source": [
    "from time import perf_counter"
   ]
  },
  {
   "cell_type": "code",
   "execution_count": 53,
   "id": "60ff86ae",
   "metadata": {},
   "outputs": [],
   "source": [
    "def palindromo(n: int) -> bool:\n",
    "    \"\"\"Identifica se um numero informado é palíndromo.\n",
    "    \"\"\"\n",
    "    \n",
    "    numTxt = list(str(n))\n",
    "    if len(numTxt) == 1:\n",
    "        return False\n",
    "    met = len(numTxt) // 2\n",
    "\n",
    "    for pos in range(met):\n",
    "        if numTxt[pos] != numTxt[-pos-1]:\n",
    "            return False\n",
    "        \n",
    "    return True"
   ]
  },
  {
   "cell_type": "code",
   "execution_count": 54,
   "id": "9f3d9fb5",
   "metadata": {},
   "outputs": [],
   "source": [
    "def lychrel(num: int, count: int = 1) -> bool:\n",
    "    calc = num + int(str(num)[::-1])\n",
    "    if palindromo(calc):\n",
    "        return True\n",
    "    elif count == 50:\n",
    "        return False\n",
    "    else:\n",
    "        return lychrel(calc, count + 1)"
   ]
  },
  {
   "cell_type": "code",
   "execution_count": 55,
   "id": "1b4a749a",
   "metadata": {},
   "outputs": [
    {
     "name": "stdout",
     "output_type": "stream",
     "text": [
      "249\n",
      "0.190s\n"
     ]
    }
   ],
   "source": [
    "start = perf_counter()\n",
    "for _ in range(20):\n",
    "    tested = set()\n",
    "    lych_count = 0\n",
    "\n",
    "    for num in range(11, 10000):\n",
    "        if num in tested:\n",
    "            continue\n",
    "        ######################\n",
    "        size = len(tested)\n",
    "        if num == 169 or num == 196:\n",
    "            pass\n",
    "        ####################\n",
    "        pal = int(str(num)[::-1])\n",
    "        a = lychrel(num)\n",
    "        if not lychrel(num):\n",
    "            if pal == num or pal in tested:\n",
    "                lych_count += 1\n",
    "            else:\n",
    "                lych_count += 2\n",
    "        tested.add(num)\n",
    "        tested.add(pal)\n",
    "        ##########################\n",
    "        size = len(tested)\n",
    "        if len(tested) != lych_count:\n",
    "            pass\n",
    "        #############################\n",
    "stop = perf_counter()\n",
    "print(lych_count)\n",
    "print(f'{(stop-start)/20:.3f}s')\n"
   ]
  },
  {
   "cell_type": "code",
   "execution_count": 56,
   "id": "557cd513",
   "metadata": {},
   "outputs": [
    {
     "name": "stdout",
     "output_type": "stream",
     "text": [
      "249\n",
      "0.158s\n"
     ]
    }
   ],
   "source": [
    "start = perf_counter()\n",
    "\n",
    "for _ in range(20):\n",
    "    tested = set()\n",
    "    lych_count = 0\n",
    "\n",
    "    for num in range(1, 10000):\n",
    "        # if num in tested:\n",
    "        #     continue\n",
    "        ######################\n",
    "        # size = len(tested)\n",
    "        # if num == 169 or num == 196:\n",
    "        #     pass\n",
    "        ####################\n",
    "        # pal = int(str(num)[::-1])\n",
    "        # a = lychrel(num)\n",
    "        if not lychrel(num):\n",
    "            lych_count += 1\n",
    "            # if pal == num or pal in tested:\n",
    "            #     lych_count += 1\n",
    "            # else:\n",
    "            #     lych_count += 2\n",
    "        # tested.add(num)\n",
    "        # tested.add(pal)\n",
    "        ##########################\n",
    "        # size = len(tested)\n",
    "        # if len(tested) != lych_count:\n",
    "        #     pass\n",
    "        #############################\n",
    "stop = perf_counter()\n",
    "print(lych_count)\n",
    "print(f'{(stop-start)/20:.3f}s')"
   ]
  }
 ],
 "metadata": {
  "kernelspec": {
   "display_name": "Python 3",
   "language": "python",
   "name": "python3"
  },
  "language_info": {
   "codemirror_mode": {
    "name": "ipython",
    "version": 3
   },
   "file_extension": ".py",
   "mimetype": "text/x-python",
   "name": "python",
   "nbconvert_exporter": "python",
   "pygments_lexer": "ipython3",
   "version": "3.11.1"
  }
 },
 "nbformat": 4,
 "nbformat_minor": 5
}
