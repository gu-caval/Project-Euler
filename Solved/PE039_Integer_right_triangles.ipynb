{
 "cells": [
  {
   "cell_type": "markdown",
   "metadata": {},
   "source": [
    "If **p** is the perimeter of a right angle triangle with integral length sides, **{a, b, c}**, there are exactly three solutions for **p = 120**.<br><br>\n",
    "{20,48,52}, {24,45,51}, {30,40,50}<br><br>\n",
    "For which value of **p &le; 1000**, is the number of solutions maximised?\n"
   ]
  },
  {
   "cell_type": "code",
   "execution_count": 42,
   "metadata": {},
   "outputs": [],
   "source": [
    "from math import gcd, sqrt\n",
    "from time import perf_counter"
   ]
  },
  {
   "cell_type": "code",
   "execution_count": 50,
   "metadata": {},
   "outputs": [],
   "source": [
    "def peri_add(count_list: list, p: int) -> list:\n",
    "    # while len(count_list)-1 < p:\n",
    "    #     count_list.append(0)\n",
    "    count_list[p] = count_list[p] + 1\n",
    "    return count_list"
   ]
  },
  {
   "cell_type": "code",
   "execution_count": 61,
   "metadata": {},
   "outputs": [
    {
     "name": "stdout",
     "output_type": "stream",
     "text": [
      "840\n",
      "Average time taken: 0.0004628500\n"
     ]
    }
   ],
   "source": [
    "start = perf_counter()\n",
    "for _ in range(20):\n",
    "    mmax = int(sqrt(500)) + 1\n",
    "    peri_count = [0] * 1001\n",
    "    pythagorean = set()\n",
    "\n",
    "    for m in range(1, mmax):\n",
    "        m += 1\n",
    "        if m % 2 == 0:\n",
    "            n = 1\n",
    "        else:\n",
    "            n = 2\n",
    "\n",
    "        while (n < m) and (m * (m+n) <= 500):\n",
    "            if gcd(m, n) == 1:\n",
    "                a = m ** 2 - n ** 2\n",
    "                b = 2* m * n\n",
    "                c = m ** 2 + n ** 2\n",
    "                k = 1\n",
    "                perimeter = k*(a + b + c)\n",
    "                while perimeter <= 1000:\n",
    "                    pythagorean.add((a*k, b*k, c*k))\n",
    "                    # peri_add(peri_count, perimeter)\n",
    "                    peri_count[perimeter] += 1\n",
    "                    k += 1\n",
    "                    perimeter = k*(a + b + c)\n",
    "                            \n",
    "            n += 2\n",
    "stop = perf_counter()\n",
    "print(peri_count.index(max(peri_count)))\n",
    "\n",
    "print(f'Average time taken: {(stop-start)/20:.10f}')"
   ]
  },
  {
   "cell_type": "code",
   "execution_count": null,
   "metadata": {},
   "outputs": [
    {
     "name": "stdout",
     "output_type": "stream",
     "text": [
      "840\n",
      "Time taken 0.0001845600\n"
     ]
    }
   ],
   "source": [
    "# https://projecteuler.net/thread=39;page=7\n",
    "# giraffe0x06\n",
    "import math\n",
    "from time import perf_counter\n",
    "\n",
    "def max_sol(limit):\n",
    "    sol = [0] * (limit + 1)\n",
    "\n",
    "    for m in range(2, int(math.sqrt(limit // 2)) + 1):\n",
    "        for n in range(1, m):\n",
    "            if (m - n) % 2 == 1 and math.gcd(m, n) == 1:\n",
    "                p = 2 * m * (m + n)\n",
    "                if p > limit:\n",
    "                    break\n",
    "                for k in range(p, limit + 1, p):\n",
    "                    sol[k] += 1\n",
    "\n",
    "    return max(range(limit + 1), key=lambda p: sol[p])\n",
    "\n",
    "start = perf_counter()\n",
    "for _ in range(20):\n",
    "    result = max_sol(1000)\n",
    "stop = perf_counter()\n",
    "print(result)\n",
    "print(f\"Time taken {(stop - start)/20:.10f}\")"
   ]
  },
  {
   "cell_type": "code",
   "execution_count": 2,
   "metadata": {},
   "outputs": [
    {
     "data": {
      "text/plain": [
       "[(840, 7)]"
      ]
     },
     "execution_count": 2,
     "metadata": {},
     "output_type": "execute_result"
    }
   ],
   "source": [
    "# https://projecteuler.net/thread=39;page=8\n",
    "# Mikhail Lomonosov\n",
    "from itertools import count\n",
    "from math import gcd\n",
    "from collections import Counter\n",
    "\n",
    "LIMIT = 1000\n",
    "\n",
    "def triples():\n",
    "    for m in count(2):\n",
    "        for n in range(1, m):\n",
    "            if (m + n) % 2 != 1: continue\n",
    "            if gcd(m, n) != 1: continue\n",
    "            a = m**2 - n**2\n",
    "            b = 2*m*n\n",
    "            c = m**2 + n**2\n",
    "            if a + b + c > LIMIT: return\n",
    "            yield a, b, c\n",
    "\n",
    "perims = Counter()\n",
    "for a, b, c in triples():\n",
    "    for k in count(1):\n",
    "        ka, kb, kc = k*a, k*b, k*c\n",
    "        if (p := ka + kb + kc) > LIMIT: break\n",
    "        perims[p] += 1\n",
    "\n",
    "# print(max(perims, key=lambda p: perims[p]))\n",
    "perims.most_common(1)"
   ]
  },
  {
   "cell_type": "code",
   "execution_count": 41,
   "metadata": {},
   "outputs": [
    {
     "data": {
      "text/plain": [
       "8"
      ]
     },
     "execution_count": 41,
     "metadata": {},
     "output_type": "execute_result"
    }
   ],
   "source": [
    "max(peri_count)"
   ]
  },
  {
   "cell_type": "code",
   "execution_count": 21,
   "metadata": {},
   "outputs": [],
   "source": [
    "a = [0]\n",
    "a = peri_add(a, 3)"
   ]
  },
  {
   "cell_type": "code",
   "execution_count": 36,
   "metadata": {},
   "outputs": [
    {
     "name": "stdout",
     "output_type": "stream",
     "text": [
      "[0, 0, 0, 4, 0, 3, 2, 0, 0, 0, 5]\n",
      "10\n"
     ]
    }
   ],
   "source": [
    "# a = peri_add(a, 6)\n",
    "print(a)\n",
    "print(a.index(max(a)))"
   ]
  }
 ],
 "metadata": {
  "kernelspec": {
   "display_name": "Python 3",
   "language": "python",
   "name": "python3"
  },
  "language_info": {
   "codemirror_mode": {
    "name": "ipython",
    "version": 3
   },
   "file_extension": ".py",
   "mimetype": "text/x-python",
   "name": "python",
   "nbconvert_exporter": "python",
   "pygments_lexer": "ipython3",
   "version": "3.11.1"
  }
 },
 "nbformat": 4,
 "nbformat_minor": 2
}
