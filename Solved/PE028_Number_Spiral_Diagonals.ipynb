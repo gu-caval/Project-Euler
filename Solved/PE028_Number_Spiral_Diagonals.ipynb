{
 "cells": [
  {
   "cell_type": "markdown",
   "metadata": {},
   "source": [
    "Starting with the number 1 and moving to the right in a clockwise direction a 5 by 5 spiral is formed as follows:\n",
    "\n",
    "    21 22 23 24 25\n",
    "    20  7  8  9 10\n",
    "    19  6  1  2 11\n",
    "    18  5  4  3 12\n",
    "    17 16 15 14 13\n",
    "\n",
    "It can be verified that the sum of the numbers on the diagonals is 101.\n",
    "\n",
    "What is the sum of the numbers on the diagonals in a 1001 by 1001 spiral formed in the same way?"
   ]
  },
  {
   "cell_type": "code",
   "execution_count": 3,
   "metadata": {},
   "outputs": [
    {
     "name": "stdout",
     "output_type": "stream",
     "text": [
      "The sum of the numbers on the diagonals in a 1001 by 1001 spiral is: 669171001\n"
     ]
    }
   ],
   "source": [
    "sum = 1 # Central number\n",
    "step = 2 # Initial step\n",
    "dim = 1001 # Side of the desired square matrix\n",
    "control = 3\n",
    "addend = 1\n",
    "\n",
    "while control <= dim:\n",
    "    for _ in range(4):\n",
    "        addend += step\n",
    "        sum += addend\n",
    "\n",
    "    control += 2\n",
    "    step += 2\n",
    "\n",
    "print(f'The sum of the numbers on the diagonals in a {dim} by {dim} spiral is: {sum}')"
   ]
  },
  {
   "cell_type": "code",
   "execution_count": null,
   "metadata": {},
   "outputs": [],
   "source": []
  }
 ],
 "metadata": {
  "kernelspec": {
   "display_name": "Python 3",
   "language": "python",
   "name": "python3"
  },
  "language_info": {
   "codemirror_mode": {
    "name": "ipython",
    "version": 3
   },
   "file_extension": ".py",
   "mimetype": "text/x-python",
   "name": "python",
   "nbconvert_exporter": "python",
   "pygments_lexer": "ipython3",
   "version": "3.11.1"
  }
 },
 "nbformat": 4,
 "nbformat_minor": 2
}
