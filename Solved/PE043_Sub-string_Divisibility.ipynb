{
 "cells": [
  {
   "cell_type": "markdown",
   "id": "3c4f29a6",
   "metadata": {},
   "source": [
    "The number, **1406357289**, is a 0 to 9 pandigital number because it is made up of each of the digits 0 to 9 in some order, but it also has a rather interesting sub-string divisibility property.\n",
    "Let d<sub>1</sub> be the **1**<sup>st</sup> digit, d<sub>2</sub> be the **2**<sup>nd</sup> digit, and so on. In this way, we note the following:\n",
    "- **d<sub>2</sub>d<sub>3</sub>d<sub>4</sub>=406** is divisible by **2**\n",
    "- **d<sub>3</sub>d<sub>4</sub>d<sub>5</sub>=063** is divisible by **3**\n",
    "- **d<sub>4</sub>d<sub>5</sub>d<sub>6</sub>=635** is divisible by **5**\n",
    "- **d<sub>5</sub>d<sub>6</sub>d<sub>7</sub>=357** is divisible by **7**\n",
    "- **d<sub>6</sub>d<sub>7</sub>d<sub>8</sub>=572** is divisible by **11**\n",
    "- **d<sub>7</sub>d<sub>8</sub>d<sub>9</sub>=728** is divisible by **13**\n",
    "- **d<sub>8</sub>d<sub>9</sub>d<sub>10</sub>=289** is divisible by **17**<br><br>\n",
    "Find the sum of all **0** to **9** pandigital numbers with this property.\n"
   ]
  },
  {
   "cell_type": "code",
   "execution_count": 1,
   "id": "a0a8c783",
   "metadata": {},
   "outputs": [],
   "source": [
    "from itertools import permutations"
   ]
  },
  {
   "cell_type": "code",
   "execution_count": 3,
   "id": "6ce2f162",
   "metadata": {},
   "outputs": [
    {
     "name": "stdout",
     "output_type": "stream",
     "text": [
      "1406357289\n",
      "1430952867\n",
      "1460357289\n",
      "4106357289\n",
      "4130952867\n",
      "4160357289\n",
      "The sum is: 16695334890\n"
     ]
    }
   ],
   "source": [
    "numbers = [str(i) for i in range(10)]\n",
    "fulfill = []\n",
    "\n",
    "for current in permutations(numbers, 10):\n",
    "    current = list(current)\n",
    "    d=int(''.join(current))\n",
    "    d2d4 = int(''.join(current[1:4]))\n",
    "    d3d5 = int(''.join(current[2:5]))\n",
    "    d4d6 = int(''.join(current[3:6]))\n",
    "    d5d7 = int(''.join(current[4:7]))\n",
    "    d6d8 = int(''.join(current[5:8]))\n",
    "    d7d9 = int(''.join(current[6:9]))\n",
    "    d8d10 = int(''.join(current[7:]))\n",
    "    if int(current[0]) == 0:\n",
    "        continue\n",
    "    elif int(current[3]) % 2 != 0:\n",
    "        continue\n",
    "    elif d3d5 % 3 != 0:\n",
    "        continue\n",
    "    elif int(current[5]) % 5 != 0:\n",
    "        continue\n",
    "    elif d5d7 % 7 != 0:\n",
    "        continue\n",
    "    elif d6d8 % 11 != 0:\n",
    "        continue\n",
    "    elif d7d9 % 13 != 0:\n",
    "        continue\n",
    "    elif d8d10 % 17 != 0:\n",
    "        continue\n",
    "    else:\n",
    "        fulfill.append(int(''.join(current)))\n",
    "        print(fulfill[-1])\n",
    "\n",
    "print(f'The sum is: {sum(fulfill)}')"
   ]
  },
  {
   "cell_type": "code",
   "execution_count": null,
   "id": "8908df13",
   "metadata": {},
   "outputs": [],
   "source": []
  }
 ],
 "metadata": {
  "kernelspec": {
   "display_name": "Python 3",
   "language": "python",
   "name": "python3"
  },
  "language_info": {
   "codemirror_mode": {
    "name": "ipython",
    "version": 3
   },
   "file_extension": ".py",
   "mimetype": "text/x-python",
   "name": "python",
   "nbconvert_exporter": "python",
   "pygments_lexer": "ipython3",
   "version": "3.11.1"
  }
 },
 "nbformat": 4,
 "nbformat_minor": 5
}
