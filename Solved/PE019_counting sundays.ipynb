{
 "cells": [
  {
   "cell_type": "markdown",
   "metadata": {},
   "source": [
    "You are given the following information, but you may prefer to do some research for yourself.\n",
    "\n",
    "1 Jan 1900 was a Monday.\n",
    "Thirty days has September,\n",
    "April, June and November.\n",
    "All the rest have thirty-one,\n",
    "Saving February alone,\n",
    "Which has twenty-eight, rain or shine.\n",
    "And on leap years, twenty-nine.\n",
    "A leap year occurs on any year evenly divisible by 4, but not on a century unless it is divisible by 400.\n",
    "\n",
    "How many Sundays fell on the first of the month during the twentieth century (1 Jan 1901 to 31 Dec 2000)?"
   ]
  },
  {
   "cell_type": "code",
   "execution_count": 10,
   "metadata": {},
   "outputs": [],
   "source": [
    "NUMBER_OF_DAYS = {1: 31, 2: 28, 3: 31, 4: 30, 5: 31, 6: 30, 7: 31, 8: 31, 9: 30, 10: 31, 11: 30, 12: 31}\n",
    "WEEK_DAYS = {1: 'SUNDAY', 2: 'MONDAY', 3: 'TUESDAY', 4: 'WEDNESDAY', 5: 'THURSDAY', 6: 'FRIDAY', 7: 'SATURDAY'}\n",
    "\n",
    "# The date reads as (dd, mm, yyyy, ww), where ww is the week day\n",
    "START_DATE = (1, 1, 1900, 2)"
   ]
  },
  {
   "cell_type": "code",
   "execution_count": 12,
   "metadata": {},
   "outputs": [
    {
     "name": "stdout",
     "output_type": "stream",
     "text": [
      "Number of sundays: 171\n"
     ]
    }
   ],
   "source": [
    "sundays = 0\n",
    "current_date = START_DATE\n",
    "\n",
    "while current_date != (31, 12, 2000, 1):\n",
    "    day = current_date[0]\n",
    "    month = current_date[1]\n",
    "    year = current_date[2]\n",
    "    week_day = current_date[3]\n",
    "    \n",
    "    if week_day == 1 and day == 1 and year >= 1901:\n",
    "        sundays += 1\n",
    "\n",
    "    if (week_day:= week_day+1) > 7:\n",
    "        week_day = 1\n",
    "\n",
    "    if (day:= day + 1) > NUMBER_OF_DAYS[month]:\n",
    "        day = 1\n",
    "        month += 1\n",
    "        if month > 12:\n",
    "            month = 1\n",
    "            year += 1\n",
    "            # print(current_date)\n",
    "    \n",
    "    if year % 400 == 0:\n",
    "        NUMBER_OF_DAYS[2] = 29\n",
    "    elif year % 100 == 0:\n",
    "        NUMBER_OF_DAYS[2] = 28\n",
    "    elif year % 4 == 0:\n",
    "        NUMBER_OF_DAYS[2] = 29\n",
    "    else:\n",
    "        NUMBER_OF_DAYS[2] = 28\n",
    "\n",
    "    current_date = (day, month, year, week_day)\n",
    "\n",
    "\n",
    "print(f'Number of sundays: {sundays}')"
   ]
  },
  {
   "cell_type": "code",
   "execution_count": 1,
   "metadata": {},
   "outputs": [],
   "source": [
    "import datetime\n",
    "\n"
   ]
  },
  {
   "cell_type": "code",
   "execution_count": 19,
   "metadata": {},
   "outputs": [
    {
     "name": "stdout",
     "output_type": "stream",
     "text": [
      "current_date = 693596 / max_date = 730485\n"
     ]
    }
   ],
   "source": [
    "print(f'{current_date = } / {max_date = }')"
   ]
  },
  {
   "cell_type": "code",
   "execution_count": 4,
   "metadata": {},
   "outputs": [
    {
     "name": "stdout",
     "output_type": "stream",
     "text": [
      "171\n"
     ]
    }
   ],
   "source": [
    "sundays = 0\n",
    "current_ordinal = datetime.date(1901, 1, 1).toordinal()\n",
    "max_date = datetime.date(2000, 12, 31).toordinal()\n",
    "\n",
    "while current_ordinal <= max_date:\n",
    "    data_atual = datetime.date.fromordinal(current_ordinal)\n",
    "    current_weekday = data_atual.weekday()\n",
    "    if  current_weekday == 6 and data_atual.day == 1:\n",
    "        sundays += 1\n",
    "\n",
    "    current_ordinal += 1\n",
    "\n",
    "print(sundays)"
   ]
  }
 ],
 "metadata": {
  "kernelspec": {
   "display_name": "Python 3",
   "language": "python",
   "name": "python3"
  },
  "language_info": {
   "codemirror_mode": {
    "name": "ipython",
    "version": 3
   },
   "file_extension": ".py",
   "mimetype": "text/x-python",
   "name": "python",
   "nbconvert_exporter": "python",
   "pygments_lexer": "ipython3",
   "version": "3.11.1"
  }
 },
 "nbformat": 4,
 "nbformat_minor": 2
}
