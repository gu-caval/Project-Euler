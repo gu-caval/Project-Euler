{
 "cells": [
  {
   "cell_type": "markdown",
   "id": "487ca09a",
   "metadata": {},
   "source": [
    "A number chain is created by continuously adding the square of the digits in a number to form a new number until it has been seen before.\n",
    "For example,\n",
    "\\begin{align}\n",
    "44 \\to 32 \\to 13 \\to 10 \\to \\mathbf 1 \\to \\mathbf 1\\\\\n",
    "85 \\to \\mathbf{89} \\to 145 \\to 42 \\to 20 \\to 4 \\to 16 \\to 37 \\to 58 \\to \\mathbf{89}\n",
    "\\end{align}\n",
    "Therefore any chain that arrives at $1$ or $89$ will become stuck in an endless loop. What is most amazing is that EVERY starting number will eventually arrive at $1$ or $89$.<br>\n",
    "How many starting numbers below ten million will arrive at $89$?"
   ]
  },
  {
   "cell_type": "code",
   "execution_count": 1,
   "id": "c0cc6397",
   "metadata": {},
   "outputs": [],
   "source": [
    "from time import perf_counter"
   ]
  },
  {
   "cell_type": "code",
   "execution_count": 2,
   "id": "6b37d3e4",
   "metadata": {},
   "outputs": [],
   "source": [
    "def find_chain(num: int):\n",
    "    global chains\n",
    "    if num in chains:\n",
    "        return chains[num]\n",
    "    calc = sum([int(i)**2 for i in str(num)])\n",
    "    if calc == 1 or calc == 89:\n",
    "        chains[num] = calc\n",
    "        return calc\n",
    "    else:\n",
    "        chains[num] = find_chain(calc)\n",
    "        return chains[num]\n"
   ]
  },
  {
   "cell_type": "code",
   "execution_count": 3,
   "id": "fbbf7a4d",
   "metadata": {},
   "outputs": [],
   "source": [
    "def principal(ini, fim, passo):\n",
    "    global chains\n",
    "    chains = {}\n",
    "    count = 0\n",
    "    for num in range(ini, fim, passo):\n",
    "        if find_chain(num) == 89:\n",
    "            count += 1\n",
    "    return count\n",
    "    # print(count)\n",
    "# 8581145 32,7s"
   ]
  },
  {
   "cell_type": "code",
   "execution_count": 5,
   "id": "ca0e9ddc",
   "metadata": {},
   "outputs": [
    {
     "name": "stdout",
     "output_type": "stream",
     "text": [
      "No sentido ascendente o resultado foi 8581146 e a média foi de 25.81051010999945s\n",
      "No sentido descendente o resultado foi 8581146 e a média foi de 25.84218816000066s\n"
     ]
    }
   ],
   "source": [
    "start_fwd = perf_counter()\n",
    "ini = 1\n",
    "fim = 10**7\n",
    "passo = 1\n",
    "for _ in range(50):\n",
    "    chains = {}\n",
    "    res_fwd = principal(ini, fim, passo)\n",
    "stop_fwd = perf_counter()\n",
    "start_bck = perf_counter()\n",
    "ini = 10**7 - 1\n",
    "fim = 1\n",
    "passo = -1\n",
    "for _ in range(50):\n",
    "    chains = {}\n",
    "    res_bck = principal(ini, fim, passo)\n",
    "stop_bck = perf_counter()\n",
    "media_fwd = (stop_fwd - start_fwd) / 20\n",
    "media_bck = (stop_bck - start_bck) / 20\n",
    "print(f'No sentido ascendente o resultado foi {res_fwd} e a média foi de {media_fwd}s')\n",
    "print(f'No sentido descendente o resultado foi {res_bck} e a média foi de {media_bck}s')"
   ]
  }
 ],
 "metadata": {
  "kernelspec": {
   "display_name": "Python 3",
   "language": "python",
   "name": "python3"
  },
  "language_info": {
   "codemirror_mode": {
    "name": "ipython",
    "version": 3
   },
   "file_extension": ".py",
   "mimetype": "text/x-python",
   "name": "python",
   "nbconvert_exporter": "python",
   "pygments_lexer": "ipython3",
   "version": "3.11.1"
  }
 },
 "nbformat": 4,
 "nbformat_minor": 5
}
