{
 "cells": [
  {
   "cell_type": "markdown",
   "id": "df43c7b4",
   "metadata": {},
   "source": [
    "In the $5$ by $5$ matrix below, the minimal path sum from the top left to the bottom right, by **only moving to the right and down**, is indicated in bold red and is equal to $2427$.<br><br>\n",
    "\n",
    "$$\n",
    "\\begin{pmatrix}\n",
    "\\color{red}{131} \\hspace{3mm} \\color{white}673 \\hspace{3mm} 234 \\hspace{3mm} 103 \\hspace{3mm} 18\\\\\n",
    "\\color{red}{201} \\hspace{3mm} \\color{red}{96} \\hspace{3mm} \\color{red}{342} \\hspace{3mm} \\color{white}965 \\hspace{3mm} 150\\\\\n",
    "\\color{white}630 \\hspace{3mm} 803 \\hspace{3mm} \\color{red}{746} \\hspace{3mm} \\color{red}{422} \\hspace{3mm} \\color{white}111\\\\\n",
    "\\color{white}537 \\hspace{3mm} 699 \\hspace{3mm} 497 \\hspace{3mm} \\color{red}{121} \\hspace{3mm} \\color{white}956\\\\\n",
    "\\color{white}805 \\hspace{3mm} 732 \\hspace{3mm} 524 \\hspace{3mm} \\color{red}{37} \\hspace{3mm} \\color{red}{331}\n",
    "\\end{pmatrix}\n",
    "$$\n",
    "<br><br>\n",
    "\n",
    "Find the minimal path sum from the top left to the bottom right by only moving right and down in <a href=\"resources/documents/0081_matrix.txt\">matrix.txt</a> (right click and \"Save Link/Target As...\"), a 31K text file containing an $80$ by $80$ matrix."
   ]
  },
  {
   "cell_type": "code",
   "execution_count": 1,
   "id": "94994331",
   "metadata": {},
   "outputs": [],
   "source": [
    "class Node:\n",
    "    def __init__ (self, value, nextNode = None, previousNode = None):\n",
    "        self.value = value\n",
    "        self.nextNode = nextNode\n",
    "        self.previousNode = previousNode\n",
    "\n",
    "    def set_next_node (self, nextNode):\n",
    "        self.nextNode = nextNode\n",
    "\n",
    "    def get_next_node (self):\n",
    "        return self.nextNode\n",
    "\n",
    "    def set_previous_node (self, previousNode):\n",
    "        self.previousNode = previousNode\n",
    "\n",
    "    def get_previous_node (self):\n",
    "        return self.previousNode\n",
    "\n",
    "    def get_value(self):\n",
    "        return self.value\n",
    "\n",
    "    def set_value(self, new_value):\n",
    "        self.value = new_value"
   ]
  },
  {
   "cell_type": "code",
   "execution_count": null,
   "id": "d4b39ae4",
   "metadata": {},
   "outputs": [],
   "source": [
    "class LinkedList:\n",
    "    def __init__ (self, value=None):\n",
    "        self.head_node = Node (value)\n",
    "\n",
    "    def get_head_node (self):\n",
    "        return self.head_node\n",
    "\n",
    "    def set_head_node (self, new_head):\n",
    "        self.head_node = new_head\n",
    "        \n",
    "    def insert_first (self, new_value):\n",
    "        new_node = Node(new_value)\n",
    "        new_node.set_next_node(self.head_node)\n",
    "        self.head_node = new_node\n",
    "\n",
    "    def add_new (self, new_value):\n",
    "        current = self.get_head_node()\n",
    "        new_node = Node(new_value)\n",
    "\n",
    "        while current.get_next_node():\n",
    "            current = current.get_next_node()\n",
    "\n",
    "        current.set_next_node(new_node)\n",
    "\n",
    "    def print_list (self):\n",
    "        lista = \"\"\n",
    "        current = self.get_head_node()\n",
    "        while current:\n",
    "            lista += str(current.value) + \" \"\n",
    "            current = current.get_next_node()\n",
    "        print(\"Os elementos da lista são:\\n\")\n",
    "        print(lista)\n",
    "\n",
    "    def remove_node (self, value):\n",
    "        current = self.get_head_node()\n",
    "        previous = None\n",
    "\n",
    "        # if current.get_value() == value:\n",
    "        #     self.set_head_node(current.get_next_node())\n",
    "        # else:\n",
    "        #     current = current.get_next_node()\n",
    "        #     while current.get_value()\n",
    "\n",
    "        while (current) and (current.get_value() != value):\n",
    "            previous = current\n",
    "            current = current.get_next_node()\n",
    "\n",
    "        if not (previous):\n",
    "            self.set_head_node(current.get_next_node())\n",
    "        elif not (current):\n",
    "            print (\"Valor não encontrado!\")\n",
    "        else:\n",
    "            previous.set_next_node(current.get_next_node())"
   ]
  },
  {
   "cell_type": "code",
   "execution_count": null,
   "id": "5effa332",
   "metadata": {},
   "outputs": [],
   "source": [
    "# test_matrix = '''131,673,234,103,18\n",
    "# 201,96,342,965,150\n",
    "# 630,803,746,422,111\n",
    "# 537,699,497,121,956\n",
    "# 805,732,524,37,331'''"
   ]
  },
  {
   "cell_type": "code",
   "execution_count": null,
   "id": "3f8b0817",
   "metadata": {},
   "outputs": [
    {
     "name": "stdout",
     "output_type": "stream",
     "text": [
      "[['131', '673', '234', '103', '18'], ['201', '96', '342', '965', '150'], ['630', '803', '746', '422', '111'], ['537', '699', '497', '121', '956'], ['805', '732', '524', '37', '331']]\n"
     ]
    }
   ],
   "source": [
    "# text = test_matrix.splitlines()\n",
    "# matrix = []\n",
    "# for line in text:\n",
    "#     matrix.append(line.split(','))\n",
    "\n",
    "# print(matrix)\n",
    "# del line"
   ]
  },
  {
   "cell_type": "code",
   "execution_count": 19,
   "id": "f13332be",
   "metadata": {},
   "outputs": [],
   "source": [
    "with open('PE081_matrix.txt', 'r') as file:\n",
    "    orig = file.readlines()\n",
    "matrix = []\n",
    "for line in orig:\n",
    "    matrix.append(line.split(','))\n",
    "\n",
    "# print(matrix)\n",
    "# print(f'{len(matrix[0])}x{len(matrix)}')\n"
   ]
  },
  {
   "cell_type": "code",
   "execution_count": 20,
   "id": "12465269",
   "metadata": {},
   "outputs": [
    {
     "name": "stdout",
     "output_type": "stream",
     "text": [
      "427337\n"
     ]
    }
   ],
   "source": [
    "rows = len(matrix)\n",
    "col = len(matrix[0])\n",
    "result = []\n",
    "for i in range(rows):\n",
    "    for j in range(col):\n",
    "        value = int(matrix[i][j])\n",
    "        \n",
    "        match (i, j):\n",
    "            case (0, 0):\n",
    "                result.append([Node(value)])\n",
    "            case (0, y) if y > 0:\n",
    "                left = result[i][j-1].value\n",
    "                result[i].append(Node(value + left))\n",
    "            case (x, 0) if x > 0:\n",
    "                up = result[i-1][j].value\n",
    "                result.append([Node(value + up)])\n",
    "            case _:\n",
    "                left = result[i][j-1].value\n",
    "                up = result[i-1][j].value\n",
    "                result[i].append(Node(value + min(left, up)))\n",
    "\n",
    "print(result[rows-1][col-1].value)"
   ]
  },
  {
   "cell_type": "code",
   "execution_count": null,
   "id": "84d63ea9",
   "metadata": {},
   "outputs": [],
   "source": [
    "i"
   ]
  },
  {
   "cell_type": "code",
   "execution_count": null,
   "id": "ed8bf59a",
   "metadata": {},
   "outputs": [],
   "source": [
    "i = 1\n",
    "j = 0\n",
    "match (i, j):\n",
    "    case (0, 0):\n",
    "        print('0,0')\n",
    "    case (0, y) if y > 0:\n",
    "        print('0, outra coisa')\n",
    "    case (x, y):\n",
    "        print(f'{x=}; {y=}')"
   ]
  },
  {
   "cell_type": "code",
   "execution_count": null,
   "id": "ef597b3c",
   "metadata": {},
   "outputs": [],
   "source": [
    "result = []\n",
    "result.append()"
   ]
  }
 ],
 "metadata": {
  "kernelspec": {
   "display_name": "Python 3",
   "language": "python",
   "name": "python3"
  },
  "language_info": {
   "codemirror_mode": {
    "name": "ipython",
    "version": 3
   },
   "file_extension": ".py",
   "mimetype": "text/x-python",
   "name": "python",
   "nbconvert_exporter": "python",
   "pygments_lexer": "ipython3",
   "version": "3.11.1"
  }
 },
 "nbformat": 4,
 "nbformat_minor": 5
}
