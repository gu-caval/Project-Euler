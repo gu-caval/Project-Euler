{
 "cells": [
  {
   "cell_type": "markdown",
   "id": "59548eeb",
   "metadata": {},
   "source": [
    "The arithmetic sequence, $1487, 4817, 8147$, in which each of the terms increases by $3330$, is unusual in two ways: (i) each of the three terms are prime, and, (ii) each of the $4$-digit numbers are permutations of one another.<br><br>\n",
    "There are no arithmetic sequences made up of three $1$-, $2$-, or $3$-digit primes, exhibiting this property, but there is one other $4$-digit increasing sequence.<br><br>\n",
    "What $12$-digit number do you form by concatenating the three terms in this sequence?"
   ]
  },
  {
   "cell_type": "code",
   "execution_count": null,
   "id": "19c1140b",
   "metadata": {},
   "outputs": [],
   "source": [
    "from time import perf_counter"
   ]
  },
  {
   "cell_type": "code",
   "execution_count": 13,
   "id": "9d17967d",
   "metadata": {},
   "outputs": [],
   "source": [
    "def primes_list_generator (max: int) -> list:\n",
    "    '''returns a list of prime numbers up to max.\n",
    "    '''\n",
    "    if type(max) != int:\n",
    "        raise TypeError('argument is not an integer')\n",
    "\n",
    "    # Initializes sieve\n",
    "    sieve = [0] * (max + 1)\n",
    "    # Marks all even numbers > 2 as not primes\n",
    "    for n in range(4, max+1, 2):\n",
    "        sieve[n] = 1\n",
    "    # Tests the numbers not marked as not primes, what is left is the primes at the spots with 0\n",
    "    for n in range(3, max, 2):\n",
    "        if n == 3: \n",
    "            pass\n",
    "        if not sieve[n]:\n",
    "            for m in range(n**2, max+1, 2*n):\n",
    "                sieve[m] = 1\n",
    "\n",
    "  \n",
    "    return [i for i, j in enumerate(sieve) if j == 0 and i > 1]\n",
    "    "
   ]
  },
  {
   "cell_type": "code",
   "execution_count": 63,
   "id": "a7ef9025",
   "metadata": {},
   "outputs": [],
   "source": [
    "def compare(n1: int, n2: int) -> bool:\n",
    "    n1_s = dict()\n",
    "    n2_s = dict()\n",
    "    for i in str(n1):\n",
    "        if i in n1_s.keys():\n",
    "            n1_s[i] += 1\n",
    "        else:\n",
    "            n1_s[i] = 1\n",
    "\n",
    "    for i in str(n2):\n",
    "        if i in n2_s.keys():\n",
    "            n2_s[i] += 1\n",
    "        else:\n",
    "            n2_s[i] = 1\n",
    "    return n1_s == n2_s"
   ]
  },
  {
   "cell_type": "code",
   "execution_count": 14,
   "id": "bc1fa139",
   "metadata": {},
   "outputs": [],
   "source": [
    "primes = [i for i in primes_list_generator(10000) if i > 1000]"
   ]
  },
  {
   "cell_type": "code",
   "execution_count": 65,
   "id": "5dfb7369",
   "metadata": {},
   "outputs": [
    {
     "name": "stdout",
     "output_type": "stream",
     "text": [
      "len(answers)=1782\n",
      "[(1487, 4817, 8147), (2969, 6299, 9629)]\n"
     ]
    }
   ],
   "source": [
    "answers = []\n",
    "arithmetic = []\n",
    "for pos0, base in enumerate(primes):\n",
    "    subset1 = primes[pos0+1:]\n",
    "    if base == 1487:\n",
    "        pass\n",
    "    for pos1, perm1 in enumerate(primes[pos0+1:]):\n",
    "        if compare(base, perm1):\n",
    "            subset2 = subset1[pos1+1:]\n",
    "            for perm2 in subset2:\n",
    "                if compare(base, perm2):\n",
    "                    answers.append((base, perm1, perm2))\n",
    "                    dif1 = perm1 - base\n",
    "                    dif2 = perm2 - perm1\n",
    "\n",
    "                    if dif1 < dif2:\n",
    "                        break\n",
    "                    elif abs(dif1 - dif2)==0:\n",
    "                        arithmetic.append((base, perm1, perm2))\n",
    "            \n",
    "        \n",
    "    \n",
    "# print(f\"The numbers are {base}, {perm1} and {perm2} and it's concatenation is {str(base)+str(perm1)+str(perm2)}\")\n",
    "print(f'{len(answers)=}')\n",
    "print(arithmetic)"
   ]
  },
  {
   "cell_type": "code",
   "execution_count": null,
   "id": "6228453f",
   "metadata": {},
   "outputs": [],
   "source": []
  }
 ],
 "metadata": {
  "kernelspec": {
   "display_name": "Python 3",
   "language": "python",
   "name": "python3"
  },
  "language_info": {
   "codemirror_mode": {
    "name": "ipython",
    "version": 3
   },
   "file_extension": ".py",
   "mimetype": "text/x-python",
   "name": "python",
   "nbconvert_exporter": "python",
   "pygments_lexer": "ipython3",
   "version": "3.11.1"
  }
 },
 "nbformat": 4,
 "nbformat_minor": 5
}
