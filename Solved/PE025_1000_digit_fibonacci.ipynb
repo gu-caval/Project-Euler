{
 "cells": [
  {
   "cell_type": "markdown",
   "metadata": {},
   "source": [
    "The Fibonacci sequence is defined by the recurrence relation:\n",
    "\n",
    "Fn = Fn-1 + Fn-2, where F1 = 1  and F2 = 1.\n",
    "\n",
    "Hence the first 12 terms will be:\n",
    "F1 = 1\n",
    "F2 = 1\n",
    "F3 = 2\n",
    "F4 = 3\n",
    "F5 = 5\n",
    "F6 = 8\n",
    "F7 = 13\n",
    "F8 = 21\n",
    "F9 = 34\n",
    "F10 = 55\n",
    "F11 = 89\n",
    "F12 = 144\n",
    " \n",
    "The 12th term, F12, is the first term to contain three digits.\n",
    "\n",
    "What is the index of the first term in the Fibonacci sequence to contain 1000 digits?"
   ]
  },
  {
   "cell_type": "code",
   "execution_count": 1,
   "metadata": {},
   "outputs": [],
   "source": [
    "def fibonacci():\n",
    "    a = 0\n",
    "    b = 1\n",
    "    count = 1\n",
    "\n",
    "    # yield (1, 1) # First term in Fibonacci sequence (F1)\n",
    "    # yield (2, 1) # Second term in Fibonacci sequence (F2)\n",
    "    \n",
    "\n",
    "    while True:\n",
    "        yield (count, b)\n",
    "        temp = b\n",
    "        b = a + b\n",
    "        a = temp\n",
    "        count += 1"
   ]
  },
  {
   "cell_type": "code",
   "execution_count": 4,
   "metadata": {},
   "outputs": [
    {
     "name": "stdout",
     "output_type": "stream",
     "text": [
      "(1, 1)\n",
      "(2, 1)\n",
      "(3, 2)\n",
      "(4, 3)\n",
      "(5, 5)\n",
      "(6, 8)\n",
      "(7, 13)\n",
      "(8, 21)\n",
      "(9, 34)\n",
      "(10, 55)\n",
      "(11, 89)\n",
      "(12, 144)\n",
      "(13, 233)\n",
      "(14, 377)\n",
      "(15, 610)\n",
      "(16, 987)\n",
      "(17, 1597)\n",
      "(18, 2584)\n",
      "(19, 4181)\n",
      "(20, 6765)\n",
      "(21, 10946)\n"
     ]
    }
   ],
   "source": [
    "for i in fibonacci():\n",
    "    print(i)\n",
    "\n",
    "    if i[0] > 20:\n",
    "        break"
   ]
  },
  {
   "cell_type": "code",
   "execution_count": 21,
   "metadata": {},
   "outputs": [
    {
     "name": "stdout",
     "output_type": "stream",
     "text": [
      "The 4782th element is the first to have at least 1000 digits.\n"
     ]
    }
   ],
   "source": [
    "fibo = fibonacci()\n",
    "atual = next(fibo)\n",
    "\n",
    "while len(str(atual[1])) < 1000:\n",
    "    atual = next(fibo)\n",
    "\n",
    "print(f\"The {atual[0]}th element is the first to have at least 1000 digits.\")"
   ]
  },
  {
   "cell_type": "code",
   "execution_count": null,
   "metadata": {},
   "outputs": [],
   "source": []
  }
 ],
 "metadata": {
  "kernelspec": {
   "display_name": "Python 3",
   "language": "python",
   "name": "python3"
  },
  "language_info": {
   "codemirror_mode": {
    "name": "ipython",
    "version": 3
   },
   "file_extension": ".py",
   "mimetype": "text/x-python",
   "name": "python",
   "nbconvert_exporter": "python",
   "pygments_lexer": "ipython3",
   "version": "3.11.1"
  }
 },
 "nbformat": 4,
 "nbformat_minor": 2
}
