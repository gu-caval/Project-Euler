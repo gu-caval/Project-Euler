{
 "cells": [
  {
   "cell_type": "markdown",
   "id": "a2d4fea0",
   "metadata": {},
   "source": [
    "The **n**<sup>th</sup> term of the sequence of triangle numbers is given by, $t_n = \\frac12n(n+1)$; so the first ten triangle numbers are:<br>\n",
    "**1, 3, 6, 10, 15, 21, 28, 36, 45, 55, ...**<br><br>\n",
    "By converting each letter in a word to a number corresponding to its alphabetical position and adding these values we form a word value. For example, the word value for SKY is<br>\n",
    "**19 + 11 + 25 = 55 = t<sub>10</sub>**.<br> \n",
    "If the word value is a triangle number then we shall call the word a triangle word.<br><br>\n",
    "Using <a href=\"resources/documents/0042_words.txt\">words.txt</a> (right click and 'Save Link/Target As...'), a 16K text file containing nearly two-thousand common English words, how many are triangle words?"
   ]
  },
  {
   "cell_type": "code",
   "execution_count": null,
   "id": "f33752ee",
   "metadata": {},
   "outputs": [],
   "source": [
    "from string import ascii_uppercase"
   ]
  },
  {
   "cell_type": "code",
   "execution_count": 2,
   "id": "5837368e",
   "metadata": {},
   "outputs": [],
   "source": [
    "def triangle_numbers() -> int:\n",
    "    counter = 1\n",
    "    while True:\n",
    "        yield int(counter*0.5*(counter:=(counter + 1)))"
   ]
  },
  {
   "cell_type": "code",
   "execution_count": 3,
   "id": "40a06800",
   "metadata": {},
   "outputs": [],
   "source": [
    "conversion = {i: ord(i)-64 for i in ascii_uppercase}"
   ]
  },
  {
   "cell_type": "code",
   "execution_count": 4,
   "id": "a5f00839",
   "metadata": {},
   "outputs": [],
   "source": [
    "with open('PE042_words.txt', 'r') as my_file:\n",
    "    words = my_file.read()\n",
    "words = [n for n in words if n != '\"']\n",
    "words = ''.join(words)\n",
    "words = words.split(',')\n"
   ]
  },
  {
   "cell_type": "code",
   "execution_count": 5,
   "id": "a9a8d2f4",
   "metadata": {},
   "outputs": [
    {
     "name": "stdout",
     "output_type": "stream",
     "text": [
      "162\n"
     ]
    }
   ],
   "source": [
    "max_received = 0\n",
    "triang_gen = triangle_numbers()\n",
    "triang = set([next(triang_gen)])\n",
    "count = 0\n",
    "\n",
    "for w in words:\n",
    "    current = sum([conversion[i.upper()] for i in w])\n",
    "    while current > max(triang):\n",
    "        triang.add(next(triang_gen))\n",
    "    if current in triang:\n",
    "        count += 1\n",
    "\n",
    "print(count)\n"
   ]
  },
  {
   "cell_type": "code",
   "execution_count": 6,
   "id": "88f7532e",
   "metadata": {},
   "outputs": [
    {
     "data": {
      "text/plain": [
       "210"
      ]
     },
     "execution_count": 6,
     "metadata": {},
     "output_type": "execute_result"
    }
   ],
   "source": [
    "max(triang)"
   ]
  }
 ],
 "metadata": {
  "kernelspec": {
   "display_name": "Python 3",
   "language": "python",
   "name": "python3"
  },
  "language_info": {
   "codemirror_mode": {
    "name": "ipython",
    "version": 3
   },
   "file_extension": ".py",
   "mimetype": "text/x-python",
   "name": "python",
   "nbconvert_exporter": "python",
   "pygments_lexer": "ipython3",
   "version": "3.11.1"
  }
 },
 "nbformat": 4,
 "nbformat_minor": 5
}
