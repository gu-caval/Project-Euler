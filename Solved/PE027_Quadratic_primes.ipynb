{
 "cells": [
  {
   "cell_type": "markdown",
   "metadata": {},
   "source": [
    "Euler discovered the remarkable quadratic formula: n<sup>2</sup> + n + 41\n",
    "\n",
    "\n",
    "It turns out that the formula will produce 40 primes for the consecutive integer values 0 &le; n &le; 39. However, when n = 40, 40<sup>2</sup>+40+41= 40(40+1)+41 is divisible by 41, and certainly when n=41, 41<sup>2</sup>+41+41 is clearly divisible by 41.\n",
    "\n",
    "The incredible formula n<sup>2</sup>-79n+1601 was discovered, which produces 80 primes for the consecutive values 0 &le; n &le; 79. The product of the coefficients, -79 and 1601, is -126479.\n",
    "\n",
    "Considering quadratics of the form:\n",
    "n<sup>2</sup> + an + b, where |a| &lt; 1000 and |b| &le; 1000\n",
    "\n",
    "where |n| is the modulus/absolute value of n\n",
    "e.g. |11| = 11 and |-4| = 4\n",
    "\n",
    "Find the product of the coefficients, <strong>a and b</strong>, for the quadratic expression that produces the maximum number of primes for consecutive values of n, starting with n = 0."
   ]
  },
  {
   "cell_type": "code",
   "execution_count": 1,
   "metadata": {},
   "outputs": [],
   "source": [
    "from math import sqrt"
   ]
  },
  {
   "cell_type": "code",
   "execution_count": 2,
   "metadata": {},
   "outputs": [],
   "source": [
    "def prime_generator():\n",
    "    primos = set([2])\n",
    "    yield 2\n",
    "    current = 3\n",
    "\n",
    "    while True:\n",
    "        validador = True\n",
    "        for p in primos:\n",
    "            if current%p == 0:\n",
    "                validador = False\n",
    "                break\n",
    "\n",
    "        if validador:\n",
    "            primos.add(current)\n",
    "            yield current\n",
    "\n",
    "        current += 2"
   ]
  },
  {
   "cell_type": "code",
   "execution_count": 3,
   "metadata": {},
   "outputs": [],
   "source": [
    "def prime_check (num: int, primes: list):\n",
    "    max_prime = int(sqrt(num))\n",
    "    pos = 0\n",
    "    while (current:=primes[pos]) <= max_prime:\n",
    "        if num%current == 0:\n",
    "            return False\n",
    "        pos += 1\n",
    "\n",
    "    return True"
   ]
  },
  {
   "cell_type": "code",
   "execution_count": 4,
   "metadata": {},
   "outputs": [],
   "source": [
    "def quadratic(n: int, a: int, b: int) -> int:\n",
    "    return (n**2) + a*n + b"
   ]
  },
  {
   "cell_type": "code",
   "execution_count": null,
   "metadata": {},
   "outputs": [
    {
     "data": {
      "text/plain": [
       "997"
      ]
     },
     "execution_count": 8,
     "metadata": {},
     "output_type": "execute_result"
    }
   ],
   "source": [
    "prime_gen = prime_generator()\n",
    "possible_b = list()\n",
    "current_prime = next(prime_gen)\n",
    "not_copied = True\n",
    "\n",
    "while current_prime <= 1000:\n",
    "    possible_b.append(current_prime)\n",
    "    if (current_prime>333) & not_copied:\n",
    "        primes = possible_b.copy()\n",
    "        not_copied = False\n",
    "    current_prime = next(prime_gen)\n"
   ]
  },
  {
   "cell_type": "code",
   "execution_count": 26,
   "metadata": {},
   "outputs": [],
   "source": [
    "max_coef = (0, 0, 0) # a, b, number of primes\n",
    "max_quad = 0\n",
    "for a in range(1000):\n",
    "    for b in possible_b:\n",
    "        n = 0\n",
    "        count = 0\n",
    "        quad = quadratic(n, a, b)\n",
    "        while prime_check(quad, primes):\n",
    "            count += 1\n",
    "            n += 1\n",
    "            quad = quadratic(n, a, b)\n",
    "        if count > max_coef[2]:\n",
    "            max_coef = (a, b, count)\n",
    "\n",
    "        n = 0\n",
    "        count = 0\n",
    "        if (a==61) & (b==970):\n",
    "            pass\n",
    "        if (quad:= quadratic(n, -a, b)) < 0:\n",
    "            continue\n",
    "        while prime_check(quad, primes):\n",
    "            count += 1\n",
    "            n += 1\n",
    "            quad = quadratic(n, -a, b)\n",
    "            if quad < 0:\n",
    "                break\n",
    "        if count > max_coef[2]:\n",
    "            max_coef = (-a, b, count)\n",
    "\n",
    "        pass"
   ]
  },
  {
   "cell_type": "code",
   "execution_count": 29,
   "metadata": {},
   "outputs": [
    {
     "name": "stdout",
     "output_type": "stream",
     "text": [
      "a= -61, b= 971, number of primes generated= 71\n",
      "-59231\n"
     ]
    }
   ],
   "source": [
    "print(f'a= {max_coef[0]}, b= {max_coef[1]}, number of primes generated= {max_coef[2]}')\n",
    "print(max_coef[0] * max_coef[1])\n"
   ]
  }
 ],
 "metadata": {
  "kernelspec": {
   "display_name": "Python 3",
   "language": "python",
   "name": "python3"
  },
  "language_info": {
   "codemirror_mode": {
    "name": "ipython",
    "version": 3
   },
   "file_extension": ".py",
   "mimetype": "text/x-python",
   "name": "python",
   "nbconvert_exporter": "python",
   "pygments_lexer": "ipython3",
   "version": "3.11.1"
  }
 },
 "nbformat": 4,
 "nbformat_minor": 2
}
